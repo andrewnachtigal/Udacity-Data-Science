{
 "cells": [
  {
   "cell_type": "markdown",
   "id": "7b591b2c",
   "metadata": {},
   "source": [
    "# SOF Developer Survey Analysis & Modeling\n",
    "**Stack Overflow Developer Survey Data**"
   ]
  },
  {
   "cell_type": "code",
   "execution_count": null,
   "id": "de960ded",
   "metadata": {},
   "outputs": [],
   "source": []
  },
  {
   "cell_type": "markdown",
   "id": "4cf6cd72",
   "metadata": {},
   "source": [
    "INTRO\n",
    "\n",
    "I.\n",
    "\n",
    "1. Import packages & data\n",
    "2. Perform EDA\n",
    "3. Trim Dataset\n",
    "\n",
    "II.  \n",
    "\n",
    "4. Encode & Prepare Categorical/Nominal data\n",
    "\n",
    "III.  \n",
    "\n",
    "5. Modeling\n",
    "6. Model Evaluation\n",
    "7. Model Improvement\n",
    "\n",
    "IV.  \n",
    "\n",
    "8. Compare Results\n"
   ]
  },
  {
   "cell_type": "code",
   "execution_count": null,
   "id": "a7469108",
   "metadata": {},
   "outputs": [],
   "source": []
  },
  {
   "cell_type": "markdown",
   "id": "3034c2ac",
   "metadata": {},
   "source": [
    "# Job Satisfaction Analysis & Prediction Modeling\n"
   ]
  },
  {
   "cell_type": "markdown",
   "id": "7c23411a",
   "metadata": {},
   "source": [
    "**PREDICTING JOB SATISFACTION**\n",
    " \n",
    " 1. MULTIPLE LINEAR REGRESSION MODEL TO PREDICT JOB SATISFACTION\n",
    " \n",
    " 2. LOGISTIC REGRESSION MODEL TO PREDICT JOB SATISFACTION\n",
    " * Binary Logistic Regression - target variable has two possible outcomes: satisfied or not satisfied\n",
    " * Ordinal Logistic Regression - target variable has three or more ordinal categories: (see below)\n",
    " \n",
    " 3. RANDOM FOREST MODEL TO PREDICT JOB SATISFACTION \n",
    " \n",
    " DATA PREPARATION\n",
    "\n",
    "* select subset of survey questions - related to satisfaction\n",
    "* feature selection\n",
    "* correct for missing data\n",
    "* categorical data encoding \n",
    "\n",
    "MODELING\n",
    "* split data into training and test sets\n",
    "* baseline model: \n",
    "* more complex model\n",
    "* test metrics\n",
    "* model evaluation\n",
    "\n",
    "\n",
    " "
   ]
  },
  {
   "cell_type": "code",
   "execution_count": null,
   "id": "896d79ae",
   "metadata": {},
   "outputs": [],
   "source": []
  },
  {
   "cell_type": "code",
   "execution_count": null,
   "id": "d162b922",
   "metadata": {},
   "outputs": [],
   "source": []
  }
 ],
 "metadata": {
  "kernelspec": {
   "display_name": "Python 3 (ipykernel)",
   "language": "python",
   "name": "python3"
  },
  "language_info": {
   "codemirror_mode": {
    "name": "ipython",
    "version": 3
   },
   "file_extension": ".py",
   "mimetype": "text/x-python",
   "name": "python",
   "nbconvert_exporter": "python",
   "pygments_lexer": "ipython3",
   "version": "3.9.7"
  }
 },
 "nbformat": 4,
 "nbformat_minor": 5
}
