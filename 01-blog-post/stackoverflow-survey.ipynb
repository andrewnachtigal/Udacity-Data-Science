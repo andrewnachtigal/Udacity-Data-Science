{
 "cells": [
  {
   "cell_type": "markdown",
   "id": "a132c1a5",
   "metadata": {},
   "source": [
    "DEVELOPER SURVEY ANALYSIS - NOTEBOOK\n"
   ]
  },
  {
   "cell_type": "markdown",
   "id": "803d0c14",
   "metadata": {},
   "source": [
    "\n",
    "# Udacity Data Analyst Nanodegree Program\n",
    "## Project 3. Wrangle and Analyze Twitter Data\n",
    "\n",
    "author: Andrew Nachtigal  \n",
    "\n",
    "> #### Table of Contents\n",
    "> <ul>\n",
    "> <li><a href=\"#intro\">Introduction</a></li>\n",
    "> <li><a href=\"#wrangling\">Data Wrangling</a></li>\n",
    "> <li><a href=\"#gather\">Data Gathering</a></li> \n",
    "> <li><a href=\"#assess\">Data Assessment</a></li> \n",
    "> <li><a href=\"#clean\">Data Cleaning</a></li> \n",
    "> <li><a href=\"#eda\">Exploratory Data Analysis</a></li>\n",
    "> <li><a href=\"#conclusions\">Conclusions</a></li>\n",
    "> </ul>"
   ]
  },
  {
   "cell_type": "markdown",
   "id": "487ce3eb",
   "metadata": {},
   "source": [
    "<a id='intro'></a>\n",
    "## Introduction\n",
    "\n",
    "This purpose of this project is to gather, assess, and clean data from the WeRateDogs Twitter API as well as provided archive data and image prediction datasets. The data wrangling process is documented in this jupyter notebook and separate report.\n",
    "\n",
    "__The Data Wrangling Process__\n",
    "\n",
    "Data wrangling is the process of organizing, cleaning, and transforming data from one format3 into another more appropriate and useful for data analysis. This process consists of data gathering, data assessment, and data cleaning.\n",
    "\n",
    "\n",
    "__Data Description__\n",
    "\n",
    "Three datasets were used in this project.\n",
    "\n",
    "> 1. WeRateDogs Twitter Archive Data: 'twitter_archive_enhanced.csv'\n",
    "This data set contains information for 2356 tweets containing dog ratings from the WeRateDogs twitter account.\n",
    ">\n",
    ">2. Dog Image Prediction Data: 'image_predictions.tsv'\n",
    "The top three image prediction results from a neural network classification model that predicts dog breed based on image. What breed of dog or other object, animal is present in each tweet according to a neural network.\n",
    ">\n",
    ">3. WeRateDogs Twitter API Query: retweet count, favorite count, etc.\n",
    "Additional WeRateDogs tweet information is queried directly through the twitter developer API. \n",
    "\n"
   ]
  },
  {
   "cell_type": "markdown",
   "id": "539bbdfb",
   "metadata": {},
   "source": [
    "Q1. Can we distinguish between data roles and developer roles? \n",
    "\n",
    "**What factors are correlated with each group?**\n",
    "\n",
    "\n",
    "* Individual survey responses may contain any combination of the developer types and therefore contain \n",
    "significant variation. \n",
    "* For the purpose of analysis, we focus on responses containing either developer or data roles."
   ]
  },
  {
   "cell_type": "markdown",
   "id": "de547e3f",
   "metadata": {},
   "source": [
    "Q2. How satisfied are data and developer roles with their jobs?\n",
    "\n",
    "**plus graphical evaluation**\n",
    "\n",
    "\n",
    "* Individual \n",
    "* For "
   ]
  },
  {
   "cell_type": "markdown",
   "id": "65c87db3",
   "metadata": {},
   "source": [
    "Q3. Can we classify the best predictors of job satisfaction through a machine learning model?\n",
    "\n",
    "**Models evaluated**\n",
    "\n",
    "\n",
    "* Individual \n",
    "* For "
   ]
  },
  {
   "cell_type": "code",
   "execution_count": null,
   "id": "be295179",
   "metadata": {},
   "outputs": [],
   "source": []
  },
  {
   "cell_type": "markdown",
   "id": "4ca80224",
   "metadata": {},
   "source": [
    "OUTLINE"
   ]
  },
  {
   "cell_type": "code",
   "execution_count": null,
   "id": "4d4be60f",
   "metadata": {},
   "outputs": [],
   "source": []
  },
  {
   "cell_type": "code",
   "execution_count": 1,
   "id": "63c4b7b7",
   "metadata": {},
   "outputs": [],
   "source": [
    "# import data analysis & graph packages\n",
    "import pandas as pd\n",
    "import numpy as np\n",
    "\n",
    "import zipfile\n",
    "import glob\n",
    "import sys\n",
    "import os\n",
    "import re\n",
    "\n",
    "import requests\n",
    "from io import BytesIO\n",
    "from itertools import chain\n",
    "import matplotlib.pyplot as plt\n",
    "import seaborn as sns\n",
    "%matplotlib inline\n"
   ]
  },
  {
   "cell_type": "code",
   "execution_count": 2,
   "id": "f222d9b0",
   "metadata": {},
   "outputs": [],
   "source": [
    "# machine learning packages\n",
    "from sklearn import set_config\n",
    "from sklearn.preprocessing import StandardScaler\n",
    "from sklearn.model_selection import train_test_split \n",
    "\n",
    "from sklearn.dummy import DummyClassifier\n",
    "from sklearn.neighbors import KNeighborsClassifier\n",
    "from sklearn.linear_model import LogisticRegression\n",
    "\n",
    "from sklearn.tree import DecisionTreeClassifier\n",
    "from sklearn.ensemble import RandomForestClassifier\n",
    "from sklearn.tree import plot_tree\n",
    "\n",
    "from sklearn.metrics import classification_report \n",
    "from sklearn.model_selection import GridSearchCV\n",
    "\n",
    "from sklearn.datasets import make_classification\n",
    "from sklearn.metrics import mean_squared_error, r2_score, mean_absolute_error, f1_score, accuracy_score, classification_report\n"
   ]
  },
  {
   "cell_type": "code",
   "execution_count": 3,
   "id": "70750f9b",
   "metadata": {},
   "outputs": [
    {
     "name": "stdout",
     "output_type": "stream",
     "text": [
      "https://info.stackoverflowsolutions.com/rs/719-EMH-566/images/stack-overflow-developer-survey-2020.zip\n"
     ]
    }
   ],
   "source": [
    "# import survey data\n",
    "\n",
    "# data directory\n",
    "folder_name = 'sof-survey-data'\n",
    "if not os.path.exists(folder_name):\n",
    "    os.makedirs(folder_name)\n",
    "    \n",
    "# download developer survey file\n",
    "survey_results_url = 'https://info.stackoverflowsolutions.com/rs/719-EMH-566/images/stack-overflow-developer-survey-2020.zip'\n",
    "print(survey_results_url)\n",
    "response = requests.get(survey_results_url)\n",
    "\n",
    "# open zip file and return readable and writeable view\n",
    "zipDoc = zipfile.ZipFile(BytesIO(response.content))\n",
    "\n",
    "# save extracted zip file\n",
    "zipDoc.extractall(folder_name)\n"
   ]
  },
  {
   "cell_type": "markdown",
   "id": "067c16ca",
   "metadata": {},
   "source": [
    "### Plot Visualization Directory"
   ]
  },
  {
   "cell_type": "code",
   "execution_count": 4,
   "id": "ca49afc8",
   "metadata": {},
   "outputs": [],
   "source": [
    "# make plot directory\n",
    "folder_name = 'plots'\n",
    "\n",
    "if not os.path.exists(folder_name):\n",
    "    os.makedirs(folder_name)\n",
    "    "
   ]
  },
  {
   "cell_type": "code",
   "execution_count": 5,
   "id": "a1024306",
   "metadata": {},
   "outputs": [],
   "source": [
    "# import data\n",
    "df = pd.read_csv('./sof-survey-data/survey_results_public.csv')\n",
    "schema = pd.read_csv('./sof-survey-data/survey_results_schema.csv')\n"
   ]
  },
  {
   "cell_type": "code",
   "execution_count": 6,
   "id": "f694a7ed",
   "metadata": {},
   "outputs": [],
   "source": [
    "# import schema survey questions\n",
    "schema_fname =  './sof-survey-data/survey_results_schema.csv'\n",
    "schema_df = pd.read_csv(schema_fname, index_col='Column')\n",
    "schema = schema_df.QuestionText\n"
   ]
  },
  {
   "cell_type": "markdown",
   "id": "51ad6bd9",
   "metadata": {},
   "source": [
    "**Import helper files**"
   ]
  },
  {
   "cell_type": "code",
   "execution_count": 7,
   "id": "e30b9d74",
   "metadata": {},
   "outputs": [],
   "source": [
    "# import helper files\n",
    "from helper_functions.helper_functions import print_question_text\n",
    "\n",
    "# https://stackoverflow.com/questions/4383571/importing-files-from-different-folder"
   ]
  },
  {
   "cell_type": "code",
   "execution_count": 8,
   "id": "c4ca536b",
   "metadata": {},
   "outputs": [
    {
     "name": "stdout",
     "output_type": "stream",
     "text": [
      "Column name does not exist.\n",
      "\n",
      "Column name does not exist.\n",
      "\n"
     ]
    }
   ],
   "source": [
    "# call function to Display question text for survey questions of interest\n",
    "question_list = ['DevType', 'JobSat']\n",
    "\n",
    "for question in question_list:\n",
    "    print_question_text(question)"
   ]
  },
  {
   "cell_type": "markdown",
   "id": "5a848dc4",
   "metadata": {},
   "source": [
    "### Stackoverflow Survey Data \n",
    "\n",
    "**Steps of Data Science Process**  \n",
    "gather, assess, clean, analyze, model, visualize"
   ]
  },
  {
   "cell_type": "markdown",
   "id": "152ea67b",
   "metadata": {},
   "source": [
    "### Survey Questions\n"
   ]
  },
  {
   "cell_type": "code",
   "execution_count": 9,
   "id": "1ff980ad",
   "metadata": {},
   "outputs": [],
   "source": [
    "# adjsut rows and column display\n",
    "#pd.set_option('display.max_rows', 100)\n",
    "#pd.set_option('display.max_colwidth', 200)\n",
    "#pd.set_option('display.max_columns', 180)"
   ]
  },
  {
   "cell_type": "code",
   "execution_count": 10,
   "id": "5c415b03",
   "metadata": {},
   "outputs": [
    {
     "data": {
      "text/plain": [
       "Column\n",
       "Respondent            Randomized respondent ID number (not in order ...\n",
       "MainBranch            Which of the following options best describes ...\n",
       "Hobbyist                                        Do you code as a hobby?\n",
       "Age                   What is your age (in years)? If you prefer not...\n",
       "Age1stCode            At what age did you write your first line of c...\n",
       "                                            ...                        \n",
       "WebframeWorkedWith    Which web frameworks have you done extensive d...\n",
       "WelcomeChange         Compared to last year, how welcome do you feel...\n",
       "WorkWeekHrs           On average, how many hours per week do you wor...\n",
       "YearsCode             Including any education, how many years have y...\n",
       "YearsCodePro          NOT including education, how many years have y...\n",
       "Name: QuestionText, Length: 61, dtype: object"
      ]
     },
     "execution_count": 10,
     "metadata": {},
     "output_type": "execute_result"
    }
   ],
   "source": [
    " schema"
   ]
  },
  {
   "cell_type": "markdown",
   "id": "8f7d1b9b",
   "metadata": {},
   "source": [
    "# Q1 Can we distinguish between data roles and developer roles? "
   ]
  },
  {
   "cell_type": "markdown",
   "id": "851abcfe",
   "metadata": {},
   "source": [
    "## Developer Roles\n"
   ]
  },
  {
   "cell_type": "code",
   "execution_count": 12,
   "id": "99352fb8",
   "metadata": {},
   "outputs": [],
   "source": [
    "# drop NaNs\n",
    "df = df.dropna(subset=['DevType'], axis=0)\n"
   ]
  },
  {
   "cell_type": "code",
   "execution_count": 13,
   "id": "e9ce4d2e",
   "metadata": {},
   "outputs": [
    {
     "data": {
      "text/plain": [
       "{'Academic researcher',\n",
       " 'Data or business analyst',\n",
       " 'Data scientist or machine learning specialist',\n",
       " 'Database administrator',\n",
       " 'Designer',\n",
       " 'DevOps specialist',\n",
       " 'Developer, QA or test',\n",
       " 'Developer, back-end',\n",
       " 'Developer, desktop or enterprise applications',\n",
       " 'Developer, embedded applications or devices',\n",
       " 'Developer, front-end',\n",
       " 'Developer, full-stack',\n",
       " 'Developer, game or graphics',\n",
       " 'Developer, mobile',\n",
       " 'Educator',\n",
       " 'Engineer, data',\n",
       " 'Engineer, site reliability',\n",
       " 'Engineering manager',\n",
       " 'Marketing or sales professional',\n",
       " 'Product manager',\n",
       " 'Scientist',\n",
       " 'Senior executive/VP',\n",
       " 'System administrator'}"
      ]
     },
     "execution_count": 13,
     "metadata": {},
     "output_type": "execute_result"
    }
   ],
   "source": [
    "# unique DevType roles\n",
    "DevRoles = df.DevType.unique()\n",
    "DevStr = []\n",
    "for i in range(len(DevRoles)):\n",
    "    '''Create list of unique developer roles found in survey responses under 'DevType'.\n",
    "        Iterate over DevType column\n",
    "    '''\n",
    "    role = DevRoles[i].split(\";\")\n",
    "    DevStr.append(role)\n",
    "DevTypes = set(list(chain.from_iterable(DevStr)))\n",
    "DevTypes\n"
   ]
  },
  {
   "cell_type": "code",
   "execution_count": 14,
   "id": "1b483268",
   "metadata": {},
   "outputs": [],
   "source": [
    "# specify data and dev role markers\n",
    "data_roles = ['Data or business analyst', 'Data scientist or machine learning specialist', 'Engineer, data']\n",
    "dev_roles = ['Developer']\n"
   ]
  },
  {
   "cell_type": "code",
   "execution_count": 15,
   "id": "1b0bc4c9",
   "metadata": {},
   "outputs": [],
   "source": [
    "# subset responses including developer roles\n",
    "df_dev = df[df['DevType'].str.contains('|'.join(dev_roles), na=False) == True].copy(deep=True)\n",
    "\n",
    "# https://stackoverflow.com/questions/20625582/how-to-deal-with-settingwithcopywarning-in-pandas"
   ]
  },
  {
   "cell_type": "code",
   "execution_count": 16,
   "id": "e70ad1e8",
   "metadata": {},
   "outputs": [],
   "source": [
    "# drop responses including data roles\n",
    "df_dev = df_dev[~df_dev['DevType'].str.contains('|'.join(data_roles), na=False) == True]\n"
   ]
  },
  {
   "cell_type": "code",
   "execution_count": 17,
   "id": "552a46d6",
   "metadata": {},
   "outputs": [
    {
     "name": "stdout",
     "output_type": "stream",
     "text": [
      "dev roles dataframe contains 38631 rows and 61 columns.\n"
     ]
    }
   ],
   "source": [
    "# shape of developer roles dataset\n",
    "print('dev roles dataframe contains', np.shape(df_dev)[0], 'rows and', np.shape(df_dev)[1], 'columns.')\n"
   ]
  },
  {
   "cell_type": "markdown",
   "id": "8029692f",
   "metadata": {},
   "source": [
    "## Data Roles\n"
   ]
  },
  {
   "cell_type": "code",
   "execution_count": 18,
   "id": "f489fef2",
   "metadata": {},
   "outputs": [],
   "source": [
    "# subset all responses including data\n",
    "df_data = df[df['DevType'].str.contains('|'.join(data_roles), na=False) == True].copy(deep=True)\n"
   ]
  },
  {
   "cell_type": "raw",
   "id": "c6531a36",
   "metadata": {},
   "source": [
    "# subset all responses including data roles\n",
    "df_data = df_data[~df_data['DevType'].str.contains('|'.join(dev_roles), na=False) == True]\n"
   ]
  },
  {
   "cell_type": "code",
   "execution_count": 19,
   "id": "dd0a0aca",
   "metadata": {},
   "outputs": [
    {
     "name": "stdout",
     "output_type": "stream",
     "text": [
      "data roles dataframe contains 8726 rows and 61 columns.\n"
     ]
    }
   ],
   "source": [
    "# shape of data roles dataframe\n",
    "print('data roles dataframe contains', np.shape(df_data)[0], 'rows and', \n",
    "      np.shape(df_data)[1], 'columns.')\n"
   ]
  },
  {
   "cell_type": "markdown",
   "id": "f4b9ce8c",
   "metadata": {},
   "source": [
    "### Add Indicator Column for developer and data roles: 'is_data_role'"
   ]
  },
  {
   "cell_type": "code",
   "execution_count": 20,
   "id": "b7c1c099",
   "metadata": {},
   "outputs": [],
   "source": [
    "# set indicator column for data and dev roles\n",
    "df_data['is_data_role'] = 'data'\n",
    "df_dev['is_data_role'] = 'dev'\n"
   ]
  },
  {
   "cell_type": "code",
   "execution_count": 21,
   "id": "34d0e641",
   "metadata": {},
   "outputs": [],
   "source": [
    "# join data and developer data\n",
    "df = pd.concat([df_data, df_dev])\n",
    "\n",
    "# reset index\n",
    "df = df.reset_index(drop=True)\n"
   ]
  },
  {
   "cell_type": "code",
   "execution_count": 22,
   "id": "c7d977a7",
   "metadata": {},
   "outputs": [
    {
     "data": {
      "text/html": [
       "<div>\n",
       "<style scoped>\n",
       "    .dataframe tbody tr th:only-of-type {\n",
       "        vertical-align: middle;\n",
       "    }\n",
       "\n",
       "    .dataframe tbody tr th {\n",
       "        vertical-align: top;\n",
       "    }\n",
       "\n",
       "    .dataframe thead th {\n",
       "        text-align: right;\n",
       "    }\n",
       "</style>\n",
       "<table border=\"1\" class=\"dataframe\">\n",
       "  <thead>\n",
       "    <tr style=\"text-align: right;\">\n",
       "      <th></th>\n",
       "      <th>Respondent</th>\n",
       "      <th>MainBranch</th>\n",
       "      <th>Hobbyist</th>\n",
       "      <th>Age</th>\n",
       "      <th>Age1stCode</th>\n",
       "      <th>CompFreq</th>\n",
       "      <th>CompTotal</th>\n",
       "      <th>ConvertedComp</th>\n",
       "      <th>Country</th>\n",
       "      <th>CurrencyDesc</th>\n",
       "      <th>...</th>\n",
       "      <th>SurveyLength</th>\n",
       "      <th>Trans</th>\n",
       "      <th>UndergradMajor</th>\n",
       "      <th>WebframeDesireNextYear</th>\n",
       "      <th>WebframeWorkedWith</th>\n",
       "      <th>WelcomeChange</th>\n",
       "      <th>WorkWeekHrs</th>\n",
       "      <th>YearsCode</th>\n",
       "      <th>YearsCodePro</th>\n",
       "      <th>is_data_role</th>\n",
       "    </tr>\n",
       "  </thead>\n",
       "  <tbody>\n",
       "    <tr>\n",
       "      <th>0</th>\n",
       "      <td>22</td>\n",
       "      <td>I am a developer by profession</td>\n",
       "      <td>Yes</td>\n",
       "      <td>NaN</td>\n",
       "      <td>18</td>\n",
       "      <td>Monthly</td>\n",
       "      <td>NaN</td>\n",
       "      <td>NaN</td>\n",
       "      <td>India</td>\n",
       "      <td>Indian rupee</td>\n",
       "      <td>...</td>\n",
       "      <td>Appropriate in length</td>\n",
       "      <td>NaN</td>\n",
       "      <td>Computer science, computer engineering, or sof...</td>\n",
       "      <td>NaN</td>\n",
       "      <td>NaN</td>\n",
       "      <td>Just as welcome now as I felt last year</td>\n",
       "      <td>50.0</td>\n",
       "      <td>10</td>\n",
       "      <td>2</td>\n",
       "      <td>data</td>\n",
       "    </tr>\n",
       "    <tr>\n",
       "      <th>1</th>\n",
       "      <td>25</td>\n",
       "      <td>I am a developer by profession</td>\n",
       "      <td>No</td>\n",
       "      <td>NaN</td>\n",
       "      <td>25</td>\n",
       "      <td>Monthly</td>\n",
       "      <td>NaN</td>\n",
       "      <td>NaN</td>\n",
       "      <td>Portugal</td>\n",
       "      <td>European Euro</td>\n",
       "      <td>...</td>\n",
       "      <td>Appropriate in length</td>\n",
       "      <td>No</td>\n",
       "      <td>Computer science, computer engineering, or sof...</td>\n",
       "      <td>NaN</td>\n",
       "      <td>NaN</td>\n",
       "      <td>Just as welcome now as I felt last year</td>\n",
       "      <td>40.0</td>\n",
       "      <td>23</td>\n",
       "      <td>18</td>\n",
       "      <td>data</td>\n",
       "    </tr>\n",
       "    <tr>\n",
       "      <th>2</th>\n",
       "      <td>30</td>\n",
       "      <td>I am a developer by profession</td>\n",
       "      <td>Yes</td>\n",
       "      <td>NaN</td>\n",
       "      <td>14</td>\n",
       "      <td>Yearly</td>\n",
       "      <td>30000.0</td>\n",
       "      <td>38778.0</td>\n",
       "      <td>United Kingdom</td>\n",
       "      <td>Pound sterling</td>\n",
       "      <td>...</td>\n",
       "      <td>Too long</td>\n",
       "      <td>No</td>\n",
       "      <td>Information systems, information technology, o...</td>\n",
       "      <td>Express;React.js;Vue.js</td>\n",
       "      <td>Express;Vue.js</td>\n",
       "      <td>A lot less welcome now than last year</td>\n",
       "      <td>37.0</td>\n",
       "      <td>4</td>\n",
       "      <td>2</td>\n",
       "      <td>data</td>\n",
       "    </tr>\n",
       "  </tbody>\n",
       "</table>\n",
       "<p>3 rows × 62 columns</p>\n",
       "</div>"
      ],
      "text/plain": [
       "   Respondent                      MainBranch Hobbyist  Age Age1stCode  \\\n",
       "0          22  I am a developer by profession      Yes  NaN         18   \n",
       "1          25  I am a developer by profession       No  NaN         25   \n",
       "2          30  I am a developer by profession      Yes  NaN         14   \n",
       "\n",
       "  CompFreq  CompTotal  ConvertedComp         Country    CurrencyDesc  ...  \\\n",
       "0  Monthly        NaN            NaN           India    Indian rupee  ...   \n",
       "1  Monthly        NaN            NaN        Portugal   European Euro  ...   \n",
       "2   Yearly    30000.0        38778.0  United Kingdom  Pound sterling  ...   \n",
       "\n",
       "            SurveyLength Trans  \\\n",
       "0  Appropriate in length   NaN   \n",
       "1  Appropriate in length    No   \n",
       "2               Too long    No   \n",
       "\n",
       "                                      UndergradMajor   WebframeDesireNextYear  \\\n",
       "0  Computer science, computer engineering, or sof...                      NaN   \n",
       "1  Computer science, computer engineering, or sof...                      NaN   \n",
       "2  Information systems, information technology, o...  Express;React.js;Vue.js   \n",
       "\n",
       "  WebframeWorkedWith                            WelcomeChange WorkWeekHrs  \\\n",
       "0                NaN  Just as welcome now as I felt last year        50.0   \n",
       "1                NaN  Just as welcome now as I felt last year        40.0   \n",
       "2     Express;Vue.js    A lot less welcome now than last year        37.0   \n",
       "\n",
       "  YearsCode YearsCodePro is_data_role  \n",
       "0        10            2         data  \n",
       "1        23           18         data  \n",
       "2         4            2         data  \n",
       "\n",
       "[3 rows x 62 columns]"
      ]
     },
     "execution_count": 22,
     "metadata": {},
     "output_type": "execute_result"
    }
   ],
   "source": [
    "df.head(3)\n"
   ]
  },
  {
   "cell_type": "markdown",
   "id": "93aa084a",
   "metadata": {},
   "source": [
    "## Data & Developer Role Feature Exploration"
   ]
  },
  {
   "cell_type": "code",
   "execution_count": 23,
   "id": "d1a12eb3",
   "metadata": {},
   "outputs": [
    {
     "data": {
      "text/plain": [
       "(47357, 62)"
      ]
     },
     "execution_count": 23,
     "metadata": {},
     "output_type": "execute_result"
    }
   ],
   "source": [
    "df.shape\n"
   ]
  },
  {
   "cell_type": "code",
   "execution_count": 24,
   "id": "7ecad6a9",
   "metadata": {},
   "outputs": [
    {
     "data": {
      "text/plain": [
       "Respondent         int64\n",
       "MainBranch        object\n",
       "Hobbyist          object\n",
       "Age              float64\n",
       "Age1stCode        object\n",
       "                  ...   \n",
       "WelcomeChange     object\n",
       "WorkWeekHrs      float64\n",
       "YearsCode         object\n",
       "YearsCodePro      object\n",
       "is_data_role      object\n",
       "Length: 62, dtype: object"
      ]
     },
     "metadata": {},
     "output_type": "display_data"
    }
   ],
   "source": [
    "# column datatypes\n",
    "pd.set_option('display.max_rows', 10)\n",
    "display(df.dtypes)\n"
   ]
  },
  {
   "cell_type": "markdown",
   "id": "acaa38cf",
   "metadata": {},
   "source": [
    "## Data vs. Dev\n",
    "\n",
    "* explore statistical/visual similarities and differences\n",
    "* select features manually\n",
    "\n",
    "**Features Used**\n",
    "\n",
    "* Age\n",
    "* Converted Comp\n",
    "* EdLevel\n"
   ]
  },
  {
   "cell_type": "markdown",
   "id": "aa6624d9",
   "metadata": {},
   "source": [
    "# Age"
   ]
  },
  {
   "cell_type": "code",
   "execution_count": 25,
   "id": "198f1924",
   "metadata": {},
   "outputs": [
    {
     "name": "stdout",
     "output_type": "stream",
     "text": [
      "count    37662.000000\n",
      "mean        31.805677\n",
      "std          8.795051\n",
      "min          1.000000\n",
      "25%         26.000000\n",
      "50%         30.000000\n",
      "75%         36.000000\n",
      "max        279.000000\n",
      "Name: Age, dtype: float64\n",
      "dataset contains 9695 nan values\n"
     ]
    }
   ],
   "source": [
    "# describe Age column\n",
    "\n",
    "print(df.Age.describe())\n",
    "\n",
    "# check for null values\n",
    "print('dataset contains', df['Age'].isna().sum(), 'nan values')\n"
   ]
  },
  {
   "cell_type": "code",
   "execution_count": 26,
   "id": "33f8d65f",
   "metadata": {},
   "outputs": [
    {
     "name": "stdout",
     "output_type": "stream",
     "text": [
      "[nan, 34.0, 32.0, 53.0, 38.0, 25.0, 28.0, 23.0, 41.0, 36.0, 30.0, 26.0, 27.0, 43.0, 24.0, 35.0, 59.0, 37.0, 51.0, 22.0, 31.0, 42.0, 52.0, 46.0, 48.0, 29.0, 20.0, 40.0, 33.0, 49.0, 57.0, 56.0, 21.0, 54.0, 50.0, 47.0, 55.0, 39.0, 17.0, 44.0, 63.0, 19.0, 45.0, 58.0, 18.0, 73.0, 60.0, 62.0, 16.0, 61.0, 72.0, 67.0, 15.0, 3.0, 64.0, 85.0, 69.0, 66.0, 71.0, 74.0, 80.0, 1.0, 68.0, 13.0, 99.0, 14.0, 65.0, 12.0, 95.0, 75.0, 49.5, 70.0, 26.8, 84.0, 76.0, 32.5, 96.0, 26.5, 24.5, 14.7, 34.5, 77.0, 279.0, 94.0, 22.5, 27.5, 78.0, 7.0, 10.0, 31.5, 39.5, 83.0, 23.4]\n"
     ]
    }
   ],
   "source": [
    "# unique Age responses\n",
    "print(list(df.Age.unique()))\n"
   ]
  },
  {
   "cell_type": "markdown",
   "id": "abf45de8",
   "metadata": {},
   "source": [
    "## Age Histogram"
   ]
  },
  {
   "cell_type": "code",
   "execution_count": 27,
   "id": "0cb55e69",
   "metadata": {},
   "outputs": [
    {
     "data": {
      "image/png": "[encoded data removed]",
      "text/plain": [
       "<Figure size 576x432 with 1 Axes>"
      ]
     },
     "metadata": {
      "needs_background": "light"
     },
     "output_type": "display_data"
    }
   ],
   "source": [
    "# Age histogram\n",
    "AgeDev = df.loc[df.is_data_role=='dev', 'Age']\n",
    "AgeData = df.loc[df.is_data_role=='data', 'Age']\n",
    "\n",
    "kwargs = dict(histtype='stepfilled', alpha=0.3, bins=100)\n",
    "fig, ax = plt.subplots(figsize=(8, 6))\n",
    "\n",
    "plt.hist(AgeDev, **kwargs, color='g', label='Dev')\n",
    "plt.hist(AgeData, **kwargs, color='b', label='Data')\n",
    "plt.gca().set(ylabel='Frequency', xlabel='Age')\n",
    "plt.title('Frequency Histogram of Respondent Age', fontsize= 15, fontweight='bold')\n",
    "plt.xlim(0,70)\n",
    "plt.legend();\n",
    "\n",
    "plt.rcParams[\"font.weight\"] = \"bold\"\n",
    "plt.rcParams[\"axes.labelweight\"] = \"bold\"\n",
    "\n",
    "plt.savefig('plots/01-Frequency Histogram of Respondent Age.png', bbox_inches='tight')\n"
   ]
  },
  {
   "cell_type": "code",
   "execution_count": 28,
   "id": "5c46838b",
   "metadata": {},
   "outputs": [
    {
     "name": "stdout",
     "output_type": "stream",
     "text": [
      "data role mean Age is 32.93\n",
      "dev role mean Age is 31.56\n"
     ]
    }
   ],
   "source": [
    "# Age: Data mean vs Dev mean \n",
    "print('data role mean Age is', round(AgeData.mean(),2))  \n",
    "print('dev role mean Age is',  round(AgeDev.mean(),2))\n"
   ]
  },
  {
   "cell_type": "markdown",
   "id": "dc8bfcd2",
   "metadata": {},
   "source": [
    "# Age Conclusion ->\n",
    "* **Mean Age is slightly higher for developers.**"
   ]
  },
  {
   "cell_type": "markdown",
   "id": "086e802e",
   "metadata": {},
   "source": [
    "# Converted Comp\n"
   ]
  },
  {
   "cell_type": "code",
   "execution_count": 29,
   "id": "9f883776",
   "metadata": {},
   "outputs": [
    {
     "name": "stdout",
     "output_type": "stream",
     "text": [
      "count    3.327500e+04\n",
      "mean     1.027512e+05\n",
      "std      2.264399e+05\n",
      "min      0.000000e+00\n",
      "25%      2.422800e+04\n",
      "50%      5.318400e+04\n",
      "75%      9.438400e+04\n",
      "max      2.000000e+06\n",
      "Name: ConvertedComp, dtype: float64\n",
      "dataset contains 14082 nan values\n"
     ]
    }
   ],
   "source": [
    "# describe Age column\n",
    "print(df.ConvertedComp.describe())\n",
    "\n",
    "# check for null values\n",
    "print('dataset contains', df['ConvertedComp'].isna().sum(), 'nan values')\n"
   ]
  },
  {
   "cell_type": "code",
   "execution_count": 30,
   "id": "52fb9b43",
   "metadata": {},
   "outputs": [
    {
     "data": {
      "image/png": "[encoded data removed]",
      "text/plain": [
       "<Figure size 576x432 with 1 Axes>"
      ]
     },
     "metadata": {
      "needs_background": "light"
     },
     "output_type": "display_data"
    }
   ],
   "source": [
    "# Distribution of Dev and Data Compensation\n",
    "\n",
    "CompDev = df.loc[df.is_data_role=='dev', 'ConvertedComp'].dropna()\n",
    "CompData = df.loc[df.is_data_role=='data', 'ConvertedComp'].dropna()\n",
    "\n",
    "kwargs = dict(histtype='barstacked', alpha=0.3, bins=100)\n",
    "fig, ax = plt.subplots(figsize=(8, 6))\n",
    "\n",
    "plt.hist(CompDev, **kwargs, color='g', label='Dev')\n",
    "plt.hist(CompData, **kwargs, color='b', label='Data')\n",
    "plt.gca().set(ylabel='Frequency', xlabel='Compensation')\n",
    "plt.title('Distribution of Respondent Compensation', fontsize= 15, fontweight='bold')\n",
    "plt.legend();\n",
    "\n",
    "plt.rcParams[\"font.weight\"] = \"bold\"\n",
    "plt.rcParams[\"axes.labelweight\"] = \"bold\"\n",
    "\n",
    "plt.savefig('plots/02-Distribution of Respondent Compensation.png', bbox_inches='tight')\n"
   ]
  },
  {
   "cell_type": "code",
   "execution_count": 47,
   "id": "8dfa60cb",
   "metadata": {},
   "outputs": [
    {
     "data": {
      "image/png": "[encoded data removed]",
      "text/plain": [
       "<Figure size 720x720 with 1 Axes>"
      ]
     },
     "metadata": {},
     "output_type": "display_data"
    }
   ],
   "source": [
    "# vertical boxplot\n",
    "df_z = df[df['ConvertedComp'].notnull()]\n",
    "\n",
    "sns.set(style=\"white\", palette=\"Blues\", color_codes=True)\n",
    "plt.figure(figsize=[10, 10])\n",
    "#df['comp_log'] = np.log(df['ConvertedComp'].values)\n",
    "#ax = sns.boxplot(x='is_data_role', y='comp_log', data=df)\n",
    "ax = sns.boxplot(x='is_data_role', y='ConvertedComp', data=df_z)\n",
    "plt.title('Distribution of Respondent Compensation', fontsize= 15, fontweight='bold')\n",
    "ax.set_xlabel(\"Compensation (USD))\", labelpad=20, weight='bold', size=12)\n",
    "ax.set_ylabel(\" \", labelpad=20, weight='bold', size=12)\n",
    "ax.legend(['Data Role', 'Dev Role'])\n",
    "\n",
    "plt.rcParams[\"font.weight\"] = \"bold\"\n",
    "plt.rcParams[\"axes.labelweight\"] = \"bold\"\n",
    "\n",
    "plt.savefig('plots/03-Distribution of Respondent Compensation.png', bbox_inches='tight')\n"
   ]
  },
  {
   "cell_type": "code",
   "execution_count": 32,
   "id": "227a9708",
   "metadata": {},
   "outputs": [
    {
     "name": "stdout",
     "output_type": "stream",
     "text": [
      "data role mean compensation is 115215\n",
      "dev role mean compensation is 100115\n",
      "\n",
      "Average Data Roles earn more by $ 15100\n"
     ]
    }
   ],
   "source": [
    "# mean comensation: Data vs Dev\n",
    "print('data role mean compensation is', round(CompData.mean()))\n",
    "print('dev role mean compensation is',  round(CompDev.mean()))\n",
    "print(\"\")\n",
    "print('Average Data Roles earn more by $', round(CompData.mean()) - round(CompDev.mean()))\n"
   ]
  },
  {
   "cell_type": "markdown",
   "id": "502e17b3",
   "metadata": {},
   "source": [
    "# Compensation Conclusion ->\n",
    "* **Average data roles pay 15% more than Dev roles.**"
   ]
  },
  {
   "cell_type": "markdown",
   "id": "3db85235",
   "metadata": {},
   "source": [
    "# Education (EdLevel)"
   ]
  },
  {
   "cell_type": "code",
   "execution_count": 48,
   "id": "426526dd",
   "metadata": {},
   "outputs": [
    {
     "data": {
      "image/png": "[encoded data removed]",
      "text/plain": [
       "<Figure size 720x720 with 2 Axes>"
      ]
     },
     "metadata": {},
     "output_type": "display_data"
    }
   ],
   "source": [
    "# plot education levels\n",
    "educ_order = ['I never completed any formal education',\n",
    "                'Primary/elementary school',\n",
    "                'Secondary school (e.g. American high school, German Realschule or Gymnasium, etc.)',\n",
    "                'Associate degree (A.A., A.S., etc.)',\n",
    "                'Some college/university study without earning a degree',\n",
    "                'Bachelor’s degree (B.A., B.S., B.Eng., etc.)',\n",
    "                'Master’s degree (M.A., M.S., M.Eng., MBA, etc.)',\n",
    "                'Professional degree (JD, MD, etc.)',\n",
    "                'Other doctoral degree (Ph.D., Ed.D., etc.)']\n",
    "\n",
    "# respondent education level\n",
    "fig, axes = plt.subplots(2, 1, figsize=(10, 10), sharey=True)\n",
    "fig.suptitle('Respondent Education Level')\n",
    "\n",
    "plt.rcParams[\"font.weight\"] = \"bold\"\n",
    "plt.rcParams[\"axes.labelweight\"] = \"bold\"\n",
    "\n",
    "# Data\n",
    "plt.subplot(2, 1, 1)\n",
    "sns.countplot(ax=axes[0], y=df_data.EdLevel, order=educ_order, palette=\"ch:.25\")\n",
    "axes[0].set_title('Data')\n",
    "plt.xticks(rotation = 50);\n",
    "plt.title(schema['EdLevel'])\n",
    "plt.xlabel(None);\n",
    "plt.ylabel('Data');\n",
    "\n",
    "# Dev\n",
    "plt.subplot(2, 1, 2)\n",
    "sns.countplot(ax=axes[1], y=df_dev.EdLevel, order=educ_order, palette=\"ch:.25\")\n",
    "axes[1].set_title('Dev')\n",
    "plt.xticks(rotation = 50);\n",
    "plt.xlabel(None);\n",
    "plt.ylabel('Dev');\n",
    "\n",
    "plt.rcParams[\"font.weight\"] = \"bold\"\n",
    "plt.rcParams[\"axes.labelweight\"] = \"bold\"\n",
    "\n",
    "plt.savefig('plots/04-Respondent Education Level.png', bbox_inches='tight')\n"
   ]
  },
  {
   "cell_type": "markdown",
   "id": "865ea29e",
   "metadata": {},
   "source": [
    "**Education Level for Data and Dev Roles: Formal Education Ratio**"
   ]
  },
  {
   "cell_type": "code",
   "execution_count": 34,
   "id": "c0a361da",
   "metadata": {},
   "outputs": [],
   "source": [
    "# make edlev index key list\n",
    "edlev_index = ['associate','bachelors', 'no degree', 'masters', 'doctoral', 'elementary', 'professional', \n",
    "               'secondary', 'some college']\n"
   ]
  },
  {
   "cell_type": "code",
   "execution_count": 35,
   "id": "2f72a4a8",
   "metadata": {},
   "outputs": [],
   "source": [
    "# data edlev\n",
    "data_edlev_val = pd.DataFrame(df.loc[df['is_data_role']=='data']['EdLevel'].value_counts(sort=False, dropna=True))\n",
    "data_edlev_val.sort_index(inplace=True)\n",
    "# convert data edlev to dictionary\n",
    "data_edlev_dict = dict(zip(edlev_index, data_edlev_val['EdLevel'].to_list()))\n"
   ]
  },
  {
   "cell_type": "code",
   "execution_count": 36,
   "id": "4ab05237",
   "metadata": {},
   "outputs": [],
   "source": [
    "# data total\n",
    "data_edlev_total = data_edlev_val.sum()\n",
    "# data bachelor's\n",
    "data_bach_ratio = data_edlev_dict['bachelors'] / data_edlev_total\n",
    "# data pgrad\n",
    "data_pgrad_ratio = (sum([data_edlev_dict.get(k) for k in [\"masters\", \"doctoral\", \n",
    "                                                          \"professional\"]])) / data_edlev_total\n"
   ]
  },
  {
   "cell_type": "code",
   "execution_count": 37,
   "id": "f39a39a9",
   "metadata": {},
   "outputs": [],
   "source": [
    "# dev edlev\n",
    "dev_edlev_val = pd.DataFrame(df.loc[df['is_data_role']=='dev']['EdLevel'].value_counts(sort=False, dropna=True))\n",
    "dev_edlev_val.sort_index(inplace=True)\n",
    "# convert dev edlev to dictionary\n",
    "dev_edlev_dict = dict(zip(edlev_index, dev_edlev_val['EdLevel'].to_list()))\n"
   ]
  },
  {
   "cell_type": "code",
   "execution_count": 38,
   "id": "057e80b1",
   "metadata": {},
   "outputs": [],
   "source": [
    "# dev total\n",
    "dev_edlev_total = dev_edlev_val.sum()\n",
    "# dev bachelor's\n",
    "dev_bach_ratio = dev_edlev_dict['bachelors'] / dev_edlev_total\n",
    "# dev pgrad\n",
    "dev_pgrad_ratio = (sum([dev_edlev_dict.get(k) for k in [\"masters\", \"doctoral\", \n",
    "                                                        \"professional\"]])) / dev_edlev_total\n"
   ]
  },
  {
   "cell_type": "code",
   "execution_count": 39,
   "id": "6f648e7f",
   "metadata": {},
   "outputs": [
    {
     "name": "stdout",
     "output_type": "stream",
     "text": [
      "data bachelors ratio is: 0.4177\n",
      "data postgrad ratio is: 0.4182\n",
      "dev bachelors ratio is: 0.5143\n",
      "dev postgrad ratio is: 0.2616\n"
     ]
    }
   ],
   "source": [
    "# formal education ratios\n",
    "print('data bachelors ratio is:', round(data_bach_ratio[0],4))\n",
    "print('data postgrad ratio is:', round(data_pgrad_ratio[0],4))\n",
    "print('dev bachelors ratio is:', round(dev_bach_ratio[0],4))\n",
    "print('dev postgrad ratio is:', round(dev_pgrad_ratio[0],4))\n"
   ]
  },
  {
   "cell_type": "markdown",
   "id": "61f1ced0",
   "metadata": {},
   "source": [
    "# Education Conclusion ->\n",
    "* **College degrees are very common among both data and developer roles.**\n",
    "* **Bachelor's degrees dominate among developers while post-graduate degrees are twice as common for data roles.**"
   ]
  },
  {
   "cell_type": "code",
   "execution_count": 40,
   "id": "420a7d5e",
   "metadata": {},
   "outputs": [
    {
     "data": {
      "text/html": [
       "<div>\n",
       "<style scoped>\n",
       "    .dataframe tbody tr th:only-of-type {\n",
       "        vertical-align: middle;\n",
       "    }\n",
       "\n",
       "    .dataframe tbody tr th {\n",
       "        vertical-align: top;\n",
       "    }\n",
       "\n",
       "    .dataframe thead th {\n",
       "        text-align: right;\n",
       "    }\n",
       "</style>\n",
       "<table border=\"1\" class=\"dataframe\">\n",
       "  <thead>\n",
       "    <tr style=\"text-align: right;\">\n",
       "      <th></th>\n",
       "      <th>Respondent</th>\n",
       "      <th>MainBranch</th>\n",
       "      <th>Hobbyist</th>\n",
       "      <th>Age</th>\n",
       "      <th>Age1stCode</th>\n",
       "      <th>CompFreq</th>\n",
       "      <th>CompTotal</th>\n",
       "      <th>ConvertedComp</th>\n",
       "      <th>Country</th>\n",
       "      <th>CurrencyDesc</th>\n",
       "      <th>...</th>\n",
       "      <th>SurveyLength</th>\n",
       "      <th>Trans</th>\n",
       "      <th>UndergradMajor</th>\n",
       "      <th>WebframeDesireNextYear</th>\n",
       "      <th>WebframeWorkedWith</th>\n",
       "      <th>WelcomeChange</th>\n",
       "      <th>WorkWeekHrs</th>\n",
       "      <th>YearsCode</th>\n",
       "      <th>YearsCodePro</th>\n",
       "      <th>is_data_role</th>\n",
       "    </tr>\n",
       "  </thead>\n",
       "  <tbody>\n",
       "    <tr>\n",
       "      <th>0</th>\n",
       "      <td>22</td>\n",
       "      <td>I am a developer by profession</td>\n",
       "      <td>Yes</td>\n",
       "      <td>NaN</td>\n",
       "      <td>18</td>\n",
       "      <td>Monthly</td>\n",
       "      <td>NaN</td>\n",
       "      <td>NaN</td>\n",
       "      <td>India</td>\n",
       "      <td>Indian rupee</td>\n",
       "      <td>...</td>\n",
       "      <td>Appropriate in length</td>\n",
       "      <td>NaN</td>\n",
       "      <td>Computer science, computer engineering, or sof...</td>\n",
       "      <td>NaN</td>\n",
       "      <td>NaN</td>\n",
       "      <td>Just as welcome now as I felt last year</td>\n",
       "      <td>50.0</td>\n",
       "      <td>10</td>\n",
       "      <td>2</td>\n",
       "      <td>data</td>\n",
       "    </tr>\n",
       "    <tr>\n",
       "      <th>1</th>\n",
       "      <td>25</td>\n",
       "      <td>I am a developer by profession</td>\n",
       "      <td>No</td>\n",
       "      <td>NaN</td>\n",
       "      <td>25</td>\n",
       "      <td>Monthly</td>\n",
       "      <td>NaN</td>\n",
       "      <td>NaN</td>\n",
       "      <td>Portugal</td>\n",
       "      <td>European Euro</td>\n",
       "      <td>...</td>\n",
       "      <td>Appropriate in length</td>\n",
       "      <td>No</td>\n",
       "      <td>Computer science, computer engineering, or sof...</td>\n",
       "      <td>NaN</td>\n",
       "      <td>NaN</td>\n",
       "      <td>Just as welcome now as I felt last year</td>\n",
       "      <td>40.0</td>\n",
       "      <td>23</td>\n",
       "      <td>18</td>\n",
       "      <td>data</td>\n",
       "    </tr>\n",
       "  </tbody>\n",
       "</table>\n",
       "<p>2 rows × 62 columns</p>\n",
       "</div>"
      ],
      "text/plain": [
       "   Respondent                      MainBranch Hobbyist  Age Age1stCode  \\\n",
       "0          22  I am a developer by profession      Yes  NaN         18   \n",
       "1          25  I am a developer by profession       No  NaN         25   \n",
       "\n",
       "  CompFreq  CompTotal  ConvertedComp   Country   CurrencyDesc  ...  \\\n",
       "0  Monthly        NaN            NaN     India   Indian rupee  ...   \n",
       "1  Monthly        NaN            NaN  Portugal  European Euro  ...   \n",
       "\n",
       "            SurveyLength Trans  \\\n",
       "0  Appropriate in length   NaN   \n",
       "1  Appropriate in length    No   \n",
       "\n",
       "                                      UndergradMajor WebframeDesireNextYear  \\\n",
       "0  Computer science, computer engineering, or sof...                    NaN   \n",
       "1  Computer science, computer engineering, or sof...                    NaN   \n",
       "\n",
       "  WebframeWorkedWith                            WelcomeChange WorkWeekHrs  \\\n",
       "0                NaN  Just as welcome now as I felt last year        50.0   \n",
       "1                NaN  Just as welcome now as I felt last year        40.0   \n",
       "\n",
       "  YearsCode YearsCodePro is_data_role  \n",
       "0        10            2         data  \n",
       "1        23           18         data  \n",
       "\n",
       "[2 rows x 62 columns]"
      ]
     },
     "execution_count": 40,
     "metadata": {},
     "output_type": "execute_result"
    }
   ],
   "source": [
    "df.head(2)"
   ]
  },
  {
   "cell_type": "markdown",
   "id": "ddd33fa9",
   "metadata": {},
   "source": [
    "# Q2 How satisfied are data and developer roles with their jobs?"
   ]
  },
  {
   "cell_type": "code",
   "execution_count": 42,
   "id": "26990512",
   "metadata": {},
   "outputs": [
    {
     "name": "stdout",
     "output_type": "stream",
     "text": [
      "count              43043\n",
      "unique                 5\n",
      "top       Very satisfied\n",
      "freq               13825\n",
      "Name: JobSat, dtype: object\n",
      "dataset contains 4314 nan values\n"
     ]
    }
   ],
   "source": [
    "# describe job satisfaction column: count, unique, nan rows, etc\n",
    "print(df.JobSat.describe())\n",
    "\n",
    "# check for null values in jobsat column\n",
    "print('dataset contains', df['JobSat'].isna().sum(), 'nan values')\n"
   ]
  },
  {
   "cell_type": "code",
   "execution_count": 62,
   "id": "2327105a",
   "metadata": {},
   "outputs": [
    {
     "data": {
      "text/plain": [
       "Very satisfied                        0.32\n",
       "Slightly satisfied                    0.31\n",
       "Slightly dissatisfied                 0.16\n",
       "Neither satisfied nor dissatisfied    0.13\n",
       "Very dissatisfied                     0.08\n",
       "Name: JobSat, dtype: float64"
      ]
     },
     "execution_count": 62,
     "metadata": {},
     "output_type": "execute_result"
    }
   ],
   "source": [
    "# Job Satisfaction Percent - All\n",
    "total = df['JobSat'].count()\n",
    "\n",
    "jobsat_percent = df['JobSat'].value_counts()/total\n",
    "\n",
    "jobsat_percent.round(2)"
   ]
  },
  {
   "cell_type": "markdown",
   "id": "ab6a37a1",
   "metadata": {},
   "source": [
    "## Conclusion ->\n",
    "63% of respondents are satisfied, while 37% are not.\n"
   ]
  },
  {
   "cell_type": "code",
   "execution_count": null,
   "id": "c03132ad",
   "metadata": {},
   "outputs": [],
   "source": [
    "# Job Satisfaction Percent - All\n",
    "total = df['JobSat'].count()\n",
    "\n",
    "jobsat_percent = df['JobSat'].value_counts()/total\n",
    "\n",
    "jobsat_percent.round(2)"
   ]
  },
  {
   "cell_type": "code",
   "execution_count": 66,
   "id": "2d6fcb65",
   "metadata": {},
   "outputs": [
    {
     "data": {
      "text/html": [
       "<div>\n",
       "<style scoped>\n",
       "    .dataframe tbody tr th:only-of-type {\n",
       "        vertical-align: middle;\n",
       "    }\n",
       "\n",
       "    .dataframe tbody tr th {\n",
       "        vertical-align: top;\n",
       "    }\n",
       "\n",
       "    .dataframe thead th {\n",
       "        text-align: right;\n",
       "    }\n",
       "</style>\n",
       "<table border=\"1\" class=\"dataframe\">\n",
       "  <thead>\n",
       "    <tr style=\"text-align: right;\">\n",
       "      <th></th>\n",
       "      <th>JobSat</th>\n",
       "    </tr>\n",
       "  </thead>\n",
       "  <tbody>\n",
       "    <tr>\n",
       "      <th>0</th>\n",
       "      <td>Slightly dissatisfied</td>\n",
       "    </tr>\n",
       "    <tr>\n",
       "      <th>1</th>\n",
       "      <td>Neither satisfied nor dissatisfied</td>\n",
       "    </tr>\n",
       "    <tr>\n",
       "      <th>2</th>\n",
       "      <td>Slightly dissatisfied</td>\n",
       "    </tr>\n",
       "    <tr>\n",
       "      <th>3</th>\n",
       "      <td>Slightly satisfied</td>\n",
       "    </tr>\n",
       "    <tr>\n",
       "      <th>4</th>\n",
       "      <td>Neither satisfied nor dissatisfied</td>\n",
       "    </tr>\n",
       "    <tr>\n",
       "      <th>...</th>\n",
       "      <td>...</td>\n",
       "    </tr>\n",
       "    <tr>\n",
       "      <th>8721</th>\n",
       "      <td>NaN</td>\n",
       "    </tr>\n",
       "    <tr>\n",
       "      <th>8722</th>\n",
       "      <td>NaN</td>\n",
       "    </tr>\n",
       "    <tr>\n",
       "      <th>8723</th>\n",
       "      <td>NaN</td>\n",
       "    </tr>\n",
       "    <tr>\n",
       "      <th>8724</th>\n",
       "      <td>NaN</td>\n",
       "    </tr>\n",
       "    <tr>\n",
       "      <th>8725</th>\n",
       "      <td>NaN</td>\n",
       "    </tr>\n",
       "  </tbody>\n",
       "</table>\n",
       "<p>8726 rows × 1 columns</p>\n",
       "</div>"
      ],
      "text/plain": [
       "                                  JobSat\n",
       "0                  Slightly dissatisfied\n",
       "1     Neither satisfied nor dissatisfied\n",
       "2                  Slightly dissatisfied\n",
       "3                     Slightly satisfied\n",
       "4     Neither satisfied nor dissatisfied\n",
       "...                                  ...\n",
       "8721                                 NaN\n",
       "8722                                 NaN\n",
       "8723                                 NaN\n",
       "8724                                 NaN\n",
       "8725                                 NaN\n",
       "\n",
       "[8726 rows x 1 columns]"
      ]
     },
     "execution_count": 66,
     "metadata": {},
     "output_type": "execute_result"
    }
   ],
   "source": [
    "data_jobsat = pd.DataFrame(df.loc[df['is_data_role']=='data']['JobSat'])#.value_counts(sort=False, dropna=True))\n",
    "\n",
    "data_jobsat"
   ]
  },
  {
   "cell_type": "markdown",
   "id": "5324cd4a",
   "metadata": {},
   "source": [
    "**Job Satisfaction by Developer Roles**"
   ]
  },
  {
   "cell_type": "code",
   "execution_count": 49,
   "id": "b7caf4b9",
   "metadata": {},
   "outputs": [
    {
     "data": {
      "image/png": "[encoded data removed]",
      "text/plain": [
       "<Figure size 720x360 with 1 Axes>"
      ]
     },
     "metadata": {},
     "output_type": "display_data"
    }
   ],
   "source": [
    "# plot job satisfaction for developer roles\n",
    "jobsat_order = ['Very dissatisfied', 'Slightly dissatisfied', 'Neither satisfied nor dissatisfied', \n",
    "                'Slightly satisfied', 'Very satisfied']\n",
    "\n",
    "plt.figure(figsize = (10, 5))\n",
    "\n",
    "sns.countplot(y = df_dev.JobSat, order = jobsat_order, palette = \"ch:.25\")\n",
    "plt.xticks(rotation = 50);\n",
    "plt.title(schema['JobSat'])\n",
    "plt.ylabel(None);\n",
    "\n",
    "plt.savefig('plots/05-Job Satisfaction-Dev.png', bbox_inches='tight')\n"
   ]
  },
  {
   "cell_type": "markdown",
   "id": "37c50e23",
   "metadata": {},
   "source": [
    "**Job Satisfaction by Data Roles**"
   ]
  },
  {
   "cell_type": "code",
   "execution_count": 50,
   "id": "4cfa80ca",
   "metadata": {},
   "outputs": [
    {
     "data": {
      "image/png": "[encoded data removed]",
      "text/plain": [
       "<Figure size 720x360 with 1 Axes>"
      ]
     },
     "metadata": {},
     "output_type": "display_data"
    }
   ],
   "source": [
    "# plot job satisfaction for data roles\n",
    "jobsat_order = ['Very dissatisfied', 'Slightly dissatisfied', 'Neither satisfied nor dissatisfied', \n",
    "                'Slightly satisfied', 'Very satisfied']\n",
    "\n",
    "plt.figure(figsize = (10, 5))\n",
    "\n",
    "sns.countplot(y = df_data.JobSat, order = jobsat_order, palette = \"ch:.25\")\n",
    "plt.xticks(rotation = 50);\n",
    "plt.title(schema['JobSat'])\n",
    "plt.xlabel('No. Respondents', size = 15)\n",
    "plt.ylabel(None);\n",
    "\n",
    "plt.savefig('plots/06-Job Satisfaction-Data Roles.png', bbox_inches='tight')\n"
   ]
  },
  {
   "cell_type": "code",
   "execution_count": null,
   "id": "544cfcba",
   "metadata": {},
   "outputs": [],
   "source": []
  },
  {
   "cell_type": "code",
   "execution_count": null,
   "id": "30e99cba",
   "metadata": {},
   "outputs": [],
   "source": []
  },
  {
   "cell_type": "code",
   "execution_count": null,
   "id": "59930ce0",
   "metadata": {},
   "outputs": [],
   "source": []
  },
  {
   "cell_type": "code",
   "execution_count": null,
   "id": "44412c45",
   "metadata": {},
   "outputs": [],
   "source": []
  },
  {
   "cell_type": "code",
   "execution_count": null,
   "id": "901d05c5",
   "metadata": {},
   "outputs": [],
   "source": []
  },
  {
   "cell_type": "code",
   "execution_count": null,
   "id": "fb77fd69",
   "metadata": {},
   "outputs": [],
   "source": []
  },
  {
   "cell_type": "code",
   "execution_count": 46,
   "id": "ee2cd018",
   "metadata": {},
   "outputs": [
    {
     "ename": "SyntaxError",
     "evalue": "'break' outside loop (668683560.py, line 1)",
     "output_type": "error",
     "traceback": [
      "\u001b[0;36m  File \u001b[0;32m\"/var/folders/xm/pxb_5dwd6g72ftz3jmtqm_b00000gn/T/ipykernel_51637/668683560.py\"\u001b[0;36m, line \u001b[0;32m1\u001b[0m\n\u001b[0;31m    break\u001b[0m\n\u001b[0m    ^\u001b[0m\n\u001b[0;31mSyntaxError\u001b[0m\u001b[0;31m:\u001b[0m 'break' outside loop\n"
     ]
    }
   ],
   "source": [
    "break"
   ]
  },
  {
   "cell_type": "code",
   "execution_count": null,
   "id": "c5f3c0e3",
   "metadata": {},
   "outputs": [],
   "source": [
    "df.head(1)"
   ]
  },
  {
   "cell_type": "code",
   "execution_count": null,
   "id": "d26e93d9",
   "metadata": {},
   "outputs": [],
   "source": [
    "break"
   ]
  },
  {
   "cell_type": "markdown",
   "id": "8df39eb3",
   "metadata": {},
   "source": [
    "# Q3 Can we classify good predictors of job satisfaction with machine learning?\n"
   ]
  },
  {
   "cell_type": "markdown",
   "id": "48bd4594",
   "metadata": {},
   "source": [
    "**FEATURE MODELING**\n",
    "* remove unemployed\n",
    "* method for determining useful features / feature selection\n",
    "    * trim features by intuition\n",
    "    * programmaticaly remove uncorrelated columns\n",
    "* parse feature columns into useful types\n",
    "* expand columns with list-like structures\n",
    "* consider distribution of numeric features\n",
    "* manage missing values\n",
    "* encode categorical features"
   ]
  },
  {
   "cell_type": "code",
   "execution_count": null,
   "id": "6d1565b4",
   "metadata": {},
   "outputs": [],
   "source": [
    "# import data\n",
    "df = pd.read_csv('./sof-survey-data/survey_results_public.csv')\n"
   ]
  },
  {
   "cell_type": "code",
   "execution_count": null,
   "id": "8304537b",
   "metadata": {},
   "outputs": [],
   "source": [
    "df.head(3)"
   ]
  },
  {
   "cell_type": "code",
   "execution_count": null,
   "id": "1f4eda3f",
   "metadata": {},
   "outputs": [],
   "source": [
    "# all features\n",
    "df.columns\n"
   ]
  },
  {
   "cell_type": "markdown",
   "id": "ced37100",
   "metadata": {},
   "source": [
    "# DATA PREPARATION\n",
    "* drop unemployed responses\n",
    "* manually drop feature columns that are not of interest\n",
    "* drop NaN values  \n",
    "* encode categorical feature columns\n",
    "* drop string object columns\n",
    "* reset index\n"
   ]
  },
  {
   "cell_type": "code",
   "execution_count": null,
   "id": "bb5a2645",
   "metadata": {},
   "outputs": [],
   "source": [
    "# drop unemployed responses\n",
    "df = df[df.Employment.isin(['Employed full-time', 'Independent contractor, freelancer, or self-employed', \n",
    "                            'Employed part-time'])]\n",
    " \n",
    "# narrow feature set: drop column features that are not of interest\n",
    "df = df[['Hobbyist', 'Age', 'Age1stCode','ConvertedComp','EdLevel','JobSat','JobFactors','JobSeek',\n",
    "         'WorkWeekHrs','YearsCode','YearsCodePro']]\n"
   ]
  },
  {
   "cell_type": "code",
   "execution_count": null,
   "id": "efe458ed",
   "metadata": {},
   "outputs": [],
   "source": [
    "df.shape"
   ]
  },
  {
   "cell_type": "markdown",
   "id": "19b9583b",
   "metadata": {},
   "source": [
    "### Model Features"
   ]
  },
  {
   "cell_type": "code",
   "execution_count": null,
   "id": "a232cebc",
   "metadata": {},
   "outputs": [],
   "source": [
    "list(df.columns)"
   ]
  },
  {
   "cell_type": "code",
   "execution_count": null,
   "id": "0b34bff2",
   "metadata": {},
   "outputs": [],
   "source": [
    "# column datatypes\n",
    "pd.set_option('display.max_rows', 75)\n",
    "display(df.dtypes)\n"
   ]
  },
  {
   "cell_type": "markdown",
   "id": "33b82ca4",
   "metadata": {},
   "source": [
    "## Categorical Feature Mappings\n"
   ]
  },
  {
   "cell_type": "code",
   "execution_count": null,
   "id": "4cc2f944",
   "metadata": {},
   "outputs": [],
   "source": [
    "# categorical variable responses strings\n",
    "\n",
    "EdLevel_strs = ['I never completed any formal education',\n",
    "                'Primary/elementary school',\n",
    "                'Secondary school (e.g. American high school, German Realschule or Gymnasium, etc.)',\n",
    "                'Associate degree (A.A., A.S., etc.)',\n",
    "                'Some college/university study without earning a degree',\n",
    "                'Bachelor’s degree (B.A., B.S., B.Eng., etc.)',\n",
    "                'Master’s degree (M.A., M.S., M.Eng., MBA, etc.)',\n",
    "                'Professional degree (JD, MD, etc.)',\n",
    "                'Other doctoral degree (Ph.D., Ed.D., etc.)']\n",
    "\n",
    "JobSeek_strs = ['I am not interested in new job opportunities',\n",
    "                 'I’m not actively looking, but I am open to new opportunities',\n",
    "                 'I am actively looking for a job']\n"
   ]
  },
  {
   "cell_type": "markdown",
   "id": "fb6358d5",
   "metadata": {},
   "source": [
    "# Hobbyist"
   ]
  },
  {
   "cell_type": "code",
   "execution_count": null,
   "id": "6a2663d4",
   "metadata": {},
   "outputs": [],
   "source": [
    "# describe data\n",
    "print(df.Hobbyist.describe())\n",
    "\n",
    "# check for null values\n",
    "print('dataset contains', df['Hobbyist'].isna().sum(), 'nan values')\n"
   ]
  },
  {
   "cell_type": "code",
   "execution_count": null,
   "id": "a3681543",
   "metadata": {},
   "outputs": [],
   "source": [
    "# 'Hobbyist' responses\n",
    "print(list(df.Hobbyist.unique()))\n"
   ]
  },
  {
   "cell_type": "code",
   "execution_count": null,
   "id": "c3832294",
   "metadata": {},
   "outputs": [],
   "source": [
    "# convert 'Hobbyist' to yes=1 or no=0\n",
    "df['Hobbyist_bin'] = df.Hobbyist.map(dict(Yes=1, No=0))\n"
   ]
  },
  {
   "cell_type": "code",
   "execution_count": null,
   "id": "9b81790b",
   "metadata": {},
   "outputs": [],
   "source": [
    "df.Hobbyist_bin.head()\n"
   ]
  },
  {
   "cell_type": "markdown",
   "id": "3da16af0",
   "metadata": {},
   "source": [
    "# Age"
   ]
  },
  {
   "cell_type": "code",
   "execution_count": null,
   "id": "41eb551a",
   "metadata": {},
   "outputs": [],
   "source": [
    "# describe age column\n",
    "print(df.Age.describe())\n",
    "\n",
    "# check for null values in jobsat column\n",
    "print('dataset contains', df['Age'].isna().sum(), 'nan values')\n"
   ]
  },
  {
   "cell_type": "code",
   "execution_count": null,
   "id": "55abfec9",
   "metadata": {},
   "outputs": [],
   "source": [
    "# 'Age' unique responses\n",
    "print(list(df.Age.unique()))\n"
   ]
  },
  {
   "cell_type": "code",
   "execution_count": null,
   "id": "85421a1c",
   "metadata": {},
   "outputs": [],
   "source": [
    "# drop NaNs\n",
    "df = df.dropna(subset=['Age'], axis=0)\n"
   ]
  },
  {
   "cell_type": "code",
   "execution_count": null,
   "id": "dd0779e9",
   "metadata": {},
   "outputs": [],
   "source": [
    "df.shape\n"
   ]
  },
  {
   "cell_type": "markdown",
   "id": "6826b671",
   "metadata": {},
   "source": [
    "# Age1stCode"
   ]
  },
  {
   "cell_type": "code",
   "execution_count": null,
   "id": "8385b464",
   "metadata": {},
   "outputs": [],
   "source": [
    "# drop nulls Years Coding responses\n",
    "df = df[df['Age1stCode'].notnull()]\n"
   ]
  },
  {
   "cell_type": "code",
   "execution_count": null,
   "id": "71dc2546",
   "metadata": {},
   "outputs": [],
   "source": [
    "# replace 'Less than 1 year' with 0; 'More than 50 years' with 51\n",
    "df['Age1stCode'] = df['Age1stCode'].str.replace('Younger than 5 years', '4')\n",
    "df['Age1stCode'] = df['Age1stCode'].str.replace('Older than 85', '85')\n"
   ]
  },
  {
   "cell_type": "code",
   "execution_count": null,
   "id": "3ad89e93",
   "metadata": {},
   "outputs": [],
   "source": [
    "# convert 'Age1stCode' to type integer\n",
    "df['Age1stCode'] = df['Age1stCode'].astype(str).astype(int)\n"
   ]
  },
  {
   "cell_type": "code",
   "execution_count": null,
   "id": "15814ea2",
   "metadata": {},
   "outputs": [],
   "source": [
    "df.shape\n"
   ]
  },
  {
   "cell_type": "markdown",
   "id": "d6a2e5aa",
   "metadata": {},
   "source": [
    "# ConvertedComp\n"
   ]
  },
  {
   "cell_type": "code",
   "execution_count": null,
   "id": "caa7bc3d",
   "metadata": {},
   "outputs": [],
   "source": [
    "# drop nulls from ConvertedComp column\n",
    "df = df[df['ConvertedComp'].notnull()]\n",
    "\n",
    "df['ConvertedComp'].head()\n"
   ]
  },
  {
   "cell_type": "code",
   "execution_count": null,
   "id": "cedec741",
   "metadata": {},
   "outputs": [],
   "source": [
    "df.shape\n"
   ]
  },
  {
   "cell_type": "markdown",
   "id": "60f88a9d",
   "metadata": {},
   "source": [
    "# EdLevel"
   ]
  },
  {
   "cell_type": "code",
   "execution_count": null,
   "id": "5176cdc2",
   "metadata": {},
   "outputs": [],
   "source": [
    "# drop nan job factors\n",
    "df = df.dropna(subset=['EdLevel'], axis=0)\n"
   ]
  },
  {
   "cell_type": "code",
   "execution_count": null,
   "id": "0f11313f",
   "metadata": {},
   "outputs": [],
   "source": [
    "# create ordinal encoding for education level\n",
    "\n",
    "EdLevel_dict = {'I never completed any formal education':1,\n",
    "               'Primary/elementary school':2,\n",
    "               'Secondary school (e.g. American high school, German Realschule or Gymnasium, etc.)':3,\n",
    "               'Associate degree (A.A., A.S., etc.)': 4,\n",
    "               'Some college/university study without earning a degree':5,\n",
    "               'Bachelor’s degree (B.A., B.S., B.Eng., etc.)':6,\n",
    "               'Master’s degree (M.A., M.S., M.Eng., MBA, etc.)':7,\n",
    "               'Professional degree (JD, MD, etc.)':8,\n",
    "               'Other doctoral degree (Ph.D., Ed.D., etc.)':9}\n"
   ]
  },
  {
   "cell_type": "code",
   "execution_count": null,
   "id": "edf14dd4",
   "metadata": {},
   "outputs": [],
   "source": [
    "# import helper files\n",
    "from helper_functions.helper_functions import replace_values_in_string   \n"
   ]
  },
  {
   "cell_type": "code",
   "execution_count": null,
   "id": "fcf92c0e",
   "metadata": {},
   "outputs": [],
   "source": [
    "# encode EdLevel as integer\n",
    "df['EdLevel_encode'] = replace_values_in_string(df.EdLevel, EdLevel_dict)\n"
   ]
  },
  {
   "cell_type": "code",
   "execution_count": null,
   "id": "6c454d44",
   "metadata": {},
   "outputs": [],
   "source": [
    "# inspect data\n",
    "df.EdLevel_encode.head()\n"
   ]
  },
  {
   "cell_type": "code",
   "execution_count": null,
   "id": "bab2e348",
   "metadata": {},
   "outputs": [],
   "source": [
    "df.shape\n"
   ]
  },
  {
   "cell_type": "markdown",
   "id": "8605e843",
   "metadata": {},
   "source": [
    "# Target Variable: Job Satisfaction \n",
    "* simplified binary classification problem\n",
    "* ordinal classification\n"
   ]
  },
  {
   "cell_type": "code",
   "execution_count": null,
   "id": "13692da7",
   "metadata": {},
   "outputs": [],
   "source": [
    "# check for NaNs\n",
    "df['JobSat'].isna().sum()\n"
   ]
  },
  {
   "cell_type": "code",
   "execution_count": null,
   "id": "ed4a0520",
   "metadata": {},
   "outputs": [],
   "source": [
    "# drop NaNs\n",
    "df = df.dropna(subset=['JobSat'], axis=0)\n"
   ]
  },
  {
   "cell_type": "code",
   "execution_count": null,
   "id": "88e35ac7",
   "metadata": {},
   "outputs": [],
   "source": [
    "# encode job satisfaction string values to encoded categorical values \n",
    "JobSat_dict = {\n",
    "    'Very satisfied': 5,\n",
    "    'Slightly satisfied': 4,\n",
    "    'Neither satisfied nor dissatisfied': 3,\n",
    "    'Slightly dissatisfied' : 2,\n",
    "    'Very dissatisfied' : 1\n",
    "    }\n"
   ]
  },
  {
   "cell_type": "code",
   "execution_count": null,
   "id": "d4a40775",
   "metadata": {},
   "outputs": [],
   "source": [
    "# encode JobSat\n",
    "df['JobSat_encode'] = replace_values_in_string(df.JobSat, JobSat_dict)\n"
   ]
  },
  {
   "cell_type": "code",
   "execution_count": null,
   "id": "59ec921b",
   "metadata": {},
   "outputs": [],
   "source": [
    "df['JobSat_encode'].head()\n"
   ]
  },
  {
   "cell_type": "code",
   "execution_count": null,
   "id": "c3c8519f",
   "metadata": {},
   "outputs": [],
   "source": [
    "#  Encode JobSat feature column as a Binary classification where\n",
    "# 'Very satisfied,   'Slightly satisfied' = 1\n",
    "# 'Neither satisfied nor dissatisfied','Slightly dissatisfied','Very dissatisfied' = 0\n",
    "\n",
    "JobSat_bin_map = {\n",
    "    'Very satisfied': 1,\n",
    "    'Slightly satisfied': 1,\n",
    "    'Neither satisfied nor dissatisfied': 0,\n",
    "    'Slightly dissatisfied' : 0,\n",
    "    'Very dissatisfied' : 0\n",
    "    }\n",
    "\n",
    "df['JobSat_encode_bin'] = df['JobSat'].replace(JobSat_bin_map)\n"
   ]
  },
  {
   "cell_type": "code",
   "execution_count": null,
   "id": "39824ac2",
   "metadata": {},
   "outputs": [],
   "source": [
    "df['JobSat_encode_bin'].head()\n"
   ]
  },
  {
   "cell_type": "code",
   "execution_count": null,
   "id": "3a5aea49",
   "metadata": {},
   "outputs": [],
   "source": [
    "df.shape"
   ]
  },
  {
   "cell_type": "markdown",
   "id": "e72c5d68",
   "metadata": {},
   "source": [
    "# JobSeek"
   ]
  },
  {
   "cell_type": "code",
   "execution_count": null,
   "id": "61b2fc1c",
   "metadata": {},
   "outputs": [],
   "source": [
    "# drop NaNs\n",
    "df = df.dropna(subset=['JobSeek'], axis=0)\n"
   ]
  },
  {
   "cell_type": "code",
   "execution_count": null,
   "id": "7635b166",
   "metadata": {},
   "outputs": [],
   "source": [
    "# jobseek encoding dictionary\n",
    "JobSeek_dict = {'I am actively looking for a job': 0,\n",
    "                 'I’m not actively looking, but I am open to new opportunities': 1,\n",
    "                 'I am not interested in new job opportunities': 2}\n"
   ]
  },
  {
   "cell_type": "code",
   "execution_count": null,
   "id": "7a6c65b9",
   "metadata": {},
   "outputs": [],
   "source": [
    "# encode JobSeek as integer\n",
    "df['JobSeek_encode'] = replace_values_in_string(df.JobSeek, JobSeek_dict)\n"
   ]
  },
  {
   "cell_type": "code",
   "execution_count": null,
   "id": "cea19b56",
   "metadata": {},
   "outputs": [],
   "source": [
    "df['JobSeek_encode']\n"
   ]
  },
  {
   "cell_type": "code",
   "execution_count": null,
   "id": "7dd35f6f",
   "metadata": {},
   "outputs": [],
   "source": [
    "df.shape\n"
   ]
  },
  {
   "cell_type": "markdown",
   "id": "e5db2636",
   "metadata": {},
   "source": [
    "# WorkWeekHrs\n",
    "* remove NaNs\n",
    "* impute NaNs"
   ]
  },
  {
   "cell_type": "code",
   "execution_count": null,
   "id": "e1f19670",
   "metadata": {},
   "outputs": [],
   "source": [
    "# drop NaN WorkWeekHrs\n",
    "df = df.dropna(subset=['WorkWeekHrs'], axis=0)\n"
   ]
  },
  {
   "cell_type": "code",
   "execution_count": null,
   "id": "a3f77a61",
   "metadata": {},
   "outputs": [],
   "source": [
    "df.shape\n"
   ]
  },
  {
   "cell_type": "markdown",
   "id": "555592c3",
   "metadata": {},
   "source": [
    "# YearsCode"
   ]
  },
  {
   "cell_type": "code",
   "execution_count": null,
   "id": "8385902e",
   "metadata": {},
   "outputs": [],
   "source": [
    "# drop nulls Years Coding responses\n",
    "df = df[df['YearsCode'].notnull()]\n"
   ]
  },
  {
   "cell_type": "code",
   "execution_count": null,
   "id": "50b628f9",
   "metadata": {},
   "outputs": [],
   "source": [
    "# replace 'Less than 1 year' with 0\n",
    "# replace 'More than 50 years' with 51\n",
    "df['YearsCode'] = df['YearsCode'].str.replace('Less than 1 year', '0')\n",
    "df['YearsCode'] = df['YearsCode'].str.replace('More than 50 years', '51')\n"
   ]
  },
  {
   "cell_type": "code",
   "execution_count": null,
   "id": "80261524",
   "metadata": {},
   "outputs": [],
   "source": [
    "# convert 'Age1stCode' to type integer\n",
    "df['YearsCode'] = df['YearsCode'].astype(str).astype(int)\n"
   ]
  },
  {
   "cell_type": "code",
   "execution_count": null,
   "id": "5e4121ea",
   "metadata": {},
   "outputs": [],
   "source": [
    "df['YearsCode'].head()\n"
   ]
  },
  {
   "cell_type": "code",
   "execution_count": null,
   "id": "2f87a4dc",
   "metadata": {},
   "outputs": [],
   "source": [
    "df.shape\n"
   ]
  },
  {
   "cell_type": "markdown",
   "id": "3c556e8e",
   "metadata": {},
   "source": [
    "# YearsCodePro"
   ]
  },
  {
   "cell_type": "code",
   "execution_count": null,
   "id": "1e1d1827",
   "metadata": {},
   "outputs": [],
   "source": [
    "# drop nulls Years Coding responses\n",
    "df = df[df['YearsCodePro'].notnull()]\n"
   ]
  },
  {
   "cell_type": "code",
   "execution_count": null,
   "id": "7f97f3ea",
   "metadata": {},
   "outputs": [],
   "source": [
    "# replace 'Less than 1 year' with 0\n",
    "# replace 'More than 50 years' with 51\n",
    "df['YearsCodePro'] = df['YearsCodePro'].str.replace('Less than 1 year', '0')\n",
    "df['YearsCodePro'] = df['YearsCodePro'].str.replace('More than 50 years', '51')\n"
   ]
  },
  {
   "cell_type": "code",
   "execution_count": null,
   "id": "8c809c89",
   "metadata": {},
   "outputs": [],
   "source": [
    "# convert 'Age1stCode' to type integer\n",
    "df['YearsCodePro'] = df['YearsCodePro'].astype(str).astype(int)\n"
   ]
  },
  {
   "cell_type": "code",
   "execution_count": null,
   "id": "1e2ff326",
   "metadata": {},
   "outputs": [],
   "source": [
    "df['YearsCodePro'].head()\n"
   ]
  },
  {
   "cell_type": "code",
   "execution_count": null,
   "id": "691b3915",
   "metadata": {},
   "outputs": [],
   "source": [
    "df.shape\n"
   ]
  },
  {
   "cell_type": "markdown",
   "id": "cf87a509",
   "metadata": {},
   "source": [
    "RESET INDEX"
   ]
  },
  {
   "cell_type": "code",
   "execution_count": null,
   "id": "17e661da",
   "metadata": {},
   "outputs": [],
   "source": [
    "# reset index\n",
    "df = df.reset_index(drop=True)\n"
   ]
  },
  {
   "cell_type": "markdown",
   "id": "88b57761",
   "metadata": {},
   "source": [
    "PRUNE DATASET FOR MODELING \n"
   ]
  },
  {
   "cell_type": "code",
   "execution_count": null,
   "id": "eb8cffd5",
   "metadata": {},
   "outputs": [],
   "source": [
    "list(df.columns)\n"
   ]
  },
  {
   "cell_type": "code",
   "execution_count": null,
   "id": "b90f4c60",
   "metadata": {},
   "outputs": [],
   "source": [
    "# drop original feature columns\n",
    "df.drop(['Hobbyist', 'EdLevel', 'JobSat','JobFactors','JobSeek', 'JobSat_encode'], axis=1, inplace=True)\n"
   ]
  },
  {
   "cell_type": "code",
   "execution_count": null,
   "id": "8ca9ec37",
   "metadata": {},
   "outputs": [],
   "source": [
    "list(df.columns)\n"
   ]
  },
  {
   "cell_type": "code",
   "execution_count": null,
   "id": "05cedc3a",
   "metadata": {},
   "outputs": [],
   "source": [
    "df.head(2)\n"
   ]
  },
  {
   "cell_type": "code",
   "execution_count": null,
   "id": "9c1636bf",
   "metadata": {},
   "outputs": [],
   "source": [
    "df.shape\n"
   ]
  },
  {
   "cell_type": "markdown",
   "id": "63cddaf2",
   "metadata": {},
   "source": [
    "## Feature Preprocessing\n",
    "\n",
    "1. data standardization\n",
    "\n",
    " * StandardScalar transformer shifts each feature such that they have a 0-mean and a unit standard deviation.\n",
    " \n",
    "   \n",
    "* numerical feature scaling / feature normalizing\n",
    "* pipeline to chain processing and training"
   ]
  },
  {
   "cell_type": "code",
   "execution_count": null,
   "id": "0fadac49",
   "metadata": {},
   "outputs": [],
   "source": [
    "# display model diagram\n",
    "set_config(display='diagram')\n"
   ]
  },
  {
   "cell_type": "code",
   "execution_count": null,
   "id": "00210718",
   "metadata": {},
   "outputs": [],
   "source": [
    "# numerical columns\n",
    "numerical_columns = [\"Age\", \"Age1stCode\", \"ConvertedComp\", \"WorkWeekHrs\", 'YearsCode', \"YearsCodePro\", \n",
    "                    'Hobbyist_bin', 'EdLevel_encode', 'JobSat_encode_bin', 'JobSeek_encode']\n",
    "df[numerical_columns].head(2)\n"
   ]
  },
  {
   "cell_type": "code",
   "execution_count": null,
   "id": "70c5aced",
   "metadata": {},
   "outputs": [],
   "source": [
    "data_numeric = df[numerical_columns]\n",
    "data_numeric.head(2)\n"
   ]
  },
  {
   "cell_type": "code",
   "execution_count": null,
   "id": "8b437525",
   "metadata": {},
   "outputs": [],
   "source": [
    "# set target \n",
    "y = df['JobSat_encode_bin']\n",
    "# drop target variable from feature df\n",
    "X = df.drop(['JobSat_encode_bin'], axis=1)\n"
   ]
  },
  {
   "cell_type": "code",
   "execution_count": null,
   "id": "c42f76aa",
   "metadata": {},
   "outputs": [],
   "source": [
    "# create training and test data\n",
    "X_train, X_test, y_train, y_test = train_test_split(X, y, test_size=0.20, random_state=42)\n",
    "X_train.shape, X_test.shape\n"
   ]
  },
  {
   "cell_type": "markdown",
   "id": "1eb0d667",
   "metadata": {},
   "source": [
    "**MODEL FITTING WITH PREPROCESSING**"
   ]
  },
  {
   "cell_type": "code",
   "execution_count": null,
   "id": "ea58280a",
   "metadata": {},
   "outputs": [],
   "source": [
    "# data transform: scale data with StandardScalar -> learn scaling from data\n",
    "scaler = StandardScaler()\n",
    "scaler.fit(X_train)\n"
   ]
  },
  {
   "cell_type": "markdown",
   "id": "d5cf082d",
   "metadata": {},
   "source": [
    "Compute the mean and standard deviation for each feature, and store as model states."
   ]
  },
  {
   "cell_type": "code",
   "execution_count": null,
   "id": "64b7acd3",
   "metadata": {},
   "outputs": [],
   "source": [
    "# mean learned from data\n",
    "scaler.mean_\n"
   ]
  },
  {
   "cell_type": "code",
   "execution_count": null,
   "id": "15cdab48",
   "metadata": {},
   "outputs": [],
   "source": [
    "# scale (standard deviation) learned from data\n",
    "scaler.scale_\n"
   ]
  },
  {
   "cell_type": "markdown",
   "id": "9bd46d21",
   "metadata": {},
   "source": [
    "Perform data transformation: subtract mean and divide by standard deviation"
   ]
  },
  {
   "cell_type": "code",
   "execution_count": null,
   "id": "8386a679",
   "metadata": {},
   "outputs": [],
   "source": [
    "# perform data (X) transformation\n",
    "X_train_scaled = scaler.transform(X_train)\n",
    "X_train_scaled\n"
   ]
  },
  {
   "cell_type": "code",
   "execution_count": null,
   "id": "8cb0da72",
   "metadata": {},
   "outputs": [],
   "source": [
    "# fit and transform at once...\n",
    "X_train_scaled = scaler.fit_transform(X_train)\n",
    "X_train_scaled\n"
   ]
  },
  {
   "cell_type": "code",
   "execution_count": null,
   "id": "57eeeb1a",
   "metadata": {},
   "outputs": [],
   "source": [
    "# convert to df and inspect statistics: mean ~ 0 and std ~ 1\n",
    "X_train_scaled = pd.DataFrame(X_train_scaled, columns=X_train.columns)\n",
    "X_train_scaled.describe()\n"
   ]
  },
  {
   "cell_type": "code",
   "execution_count": null,
   "id": "d83b013b",
   "metadata": {},
   "outputs": [],
   "source": [
    "# visualize effects of StandardScalar\n",
    "num_points_to_plot = 300\n",
    "\n",
    "plt.style.use('classic')\n",
    "\n",
    "sns.jointplot(data=X_train[:num_points_to_plot], x=\"Age\",\n",
    "              y=\"WorkWeekHrs\", marginal_kws=dict(bins=15))\n",
    "plt.suptitle(\"Jointplot of 'Age' vs 'WorkWeekHrs' \\nbefore StandardScaler\", y=1.1)\n",
    "\n",
    "sns.jointplot(data=X_train_scaled[:num_points_to_plot], x=\"Age\",\n",
    "              y=\"WorkWeekHrs\", marginal_kws=dict(bins=15))\n",
    "_ = plt.suptitle(\"Jointplot of 'Age' vs 'WorkWeekHrs' \\nafter StandardScaler\", y=1.1)\n",
    "\n",
    "plt.savefig('plots/07-visualize effects of StandardScalar.png', bbox_inches='tight')\n"
   ]
  },
  {
   "cell_type": "markdown",
   "id": "2504a6de",
   "metadata": {},
   "source": [
    "# Logistic Regression Classifer Model\n",
    "**Combine sequential operations with Pipeline.**"
   ]
  },
  {
   "cell_type": "code",
   "execution_count": null,
   "id": "1616cf34",
   "metadata": {},
   "outputs": [],
   "source": [
    "import time\n",
    "from sklearn.linear_model import LogisticRegression\n",
    "from sklearn.pipeline import make_pipeline\n",
    "\n",
    "model = make_pipeline(StandardScaler(), LogisticRegression())\n",
    "model\n"
   ]
  },
  {
   "cell_type": "code",
   "execution_count": null,
   "id": "c038678f",
   "metadata": {},
   "outputs": [],
   "source": [
    "# check the name of each step of model\n",
    "model.named_steps\n"
   ]
  },
  {
   "cell_type": "code",
   "execution_count": null,
   "id": "25364e48",
   "metadata": {},
   "outputs": [],
   "source": [
    "# time to fit model\n",
    "start = time.time()\n",
    "model.fit(X_train, y_train)\n",
    "elapsed_time = time.time() - start\n",
    "elapsed_time\n"
   ]
  },
  {
   "cell_type": "code",
   "execution_count": null,
   "id": "9de12a1d",
   "metadata": {},
   "outputs": [],
   "source": [
    "# predict y given a test set\n",
    "predicted_target = model.predict(X_test)\n",
    "predicted_target[:5]\n"
   ]
  },
  {
   "cell_type": "code",
   "execution_count": null,
   "id": "cae0aa90",
   "metadata": {},
   "outputs": [],
   "source": [
    "# check the score of the predictive pipeline \n",
    "model_name = model.__class__.__name__\n",
    "score = model.score(X_test, y_test)\n",
    "print(f\"The accuracy using a {model_name} is {score:.3f} \"\n",
    "      f\"with a fitting time of {elapsed_time:.3f} seconds \"\n",
    "      f\"in {model[-1].n_iter_[0]} iterations\")\n"
   ]
  },
  {
   "cell_type": "code",
   "execution_count": null,
   "id": "c359c230",
   "metadata": {},
   "outputs": [],
   "source": [
    "# compare to model with unscaled features\n",
    "model = LogisticRegression()\n",
    "start = time.time()\n",
    "model.fit(X_train, y_train)\n",
    "elapsed_time = time.time() - start\n"
   ]
  },
  {
   "cell_type": "code",
   "execution_count": null,
   "id": "acc5feca",
   "metadata": {},
   "outputs": [],
   "source": [
    "#\n",
    "model_name = model.__class__.__name__\n",
    "score = model.score(X_test, y_test)\n",
    "print(f\"The accuracy using a {model_name} is {score:.3f} \"\n",
    "      f\"with a fitting time of {elapsed_time:.3f} seconds \"\n",
    "      f\"in {model.n_iter_[0]} iterations\")\n"
   ]
  },
  {
   "cell_type": "markdown",
   "id": "ffdace95",
   "metadata": {},
   "source": [
    "**Conclusion >>**  \n",
    "Scaling data before training a model improved computational performance. Number of iterations and training time decreased."
   ]
  },
  {
   "cell_type": "markdown",
   "id": "8a78093b",
   "metadata": {},
   "source": [
    "## Model Validation\n",
    "* cross-validation"
   ]
  },
  {
   "cell_type": "code",
   "execution_count": null,
   "id": "8df2c93c",
   "metadata": {},
   "outputs": [],
   "source": [
    "from sklearn.preprocessing import StandardScaler\n",
    "from sklearn.linear_model import LogisticRegression\n",
    "from sklearn.pipeline import make_pipeline\n",
    "\n",
    "model = make_pipeline(StandardScaler(), LogisticRegression())\n"
   ]
  },
  {
   "cell_type": "code",
   "execution_count": null,
   "id": "08e967a5",
   "metadata": {},
   "outputs": [],
   "source": [
    "# import numerical data\n",
    "numerical_columns = [\"Age\", \"Age1stCode\", \"ConvertedComp\", \"WorkWeekHrs\", \"YearsCodePro\"]\n",
    "df[numerical_columns].head()\n"
   ]
  },
  {
   "cell_type": "code",
   "execution_count": null,
   "id": "567c184a",
   "metadata": {},
   "outputs": [],
   "source": [
    "# cross validation takes a parameter cv that defines the splitting strategy\n",
    "%time\n",
    "from sklearn.model_selection import cross_validate\n",
    "\n",
    "model = make_pipeline(StandardScaler(), LogisticRegression())\n",
    "cv_result = cross_validate(model, data_numeric, y, cv=5)\n",
    "cv_result\n"
   ]
  },
  {
   "cell_type": "code",
   "execution_count": null,
   "id": "343d099f",
   "metadata": {},
   "outputs": [],
   "source": [
    "# extract scores computed on test fold of each cv round\n",
    "scores = cv_result[\"test_score\"]\n",
    "print(\n",
    "    \"The mean cross-validation accuracy is: \"\n",
    "    f\"{scores.mean():.3f} +/- {scores.std():.3f}\"\n",
    ")\n"
   ]
  },
  {
   "cell_type": "markdown",
   "id": "a5bc91a0",
   "metadata": {},
   "source": [
    "# Random Forest Classifer Model"
   ]
  },
  {
   "cell_type": "code",
   "execution_count": null,
   "id": "406f4fa0",
   "metadata": {},
   "outputs": [],
   "source": [
    "# set target variable\n",
    "y = df['JobSat_encode_bin']\n",
    "# drop target variable from feature df\n",
    "X = df.drop(['JobSat_encode_bin'], axis=1)\n"
   ]
  },
  {
   "cell_type": "code",
   "execution_count": null,
   "id": "ca783d52",
   "metadata": {},
   "outputs": [],
   "source": [
    "# create training and test data\n",
    "X_train, X_test, y_train, y_test = train_test_split(X, y, test_size=0.20, random_state=42)\n",
    "X_train.shape, X_test.shape\n"
   ]
  },
  {
   "cell_type": "code",
   "execution_count": null,
   "id": "ab6e2a76",
   "metadata": {},
   "outputs": [],
   "source": [
    "# instantiate random forest classifier and fit data\n",
    "rf_clf = RandomForestClassifier(random_state=42, n_jobs=-1, max_depth=5,\n",
    "                                       n_estimators=100, oob_score=True)\n"
   ]
  },
  {
   "cell_type": "code",
   "execution_count": null,
   "id": "cecb5e4b",
   "metadata": {},
   "outputs": [],
   "source": [
    "%%time\n",
    "rf_clf.fit(X_train, y_train)\n"
   ]
  },
  {
   "cell_type": "code",
   "execution_count": null,
   "id": "7951d5cf",
   "metadata": {},
   "outputs": [],
   "source": [
    "# check oob score\n",
    "rf_clf.oob_score_\n"
   ]
  },
  {
   "cell_type": "code",
   "execution_count": null,
   "id": "66713ea7",
   "metadata": {},
   "outputs": [],
   "source": [
    "# hyperparameter tuning for rf using GridSearchCV and fit data\n",
    "rf = RandomForestClassifier(random_state=42, n_jobs=-1)\n"
   ]
  },
  {
   "cell_type": "code",
   "execution_count": null,
   "id": "ad7d2109",
   "metadata": {},
   "outputs": [],
   "source": [
    "params = {\n",
    "    'max_depth': [2,3,5,10,20],\n",
    "    'min_samples_leaf': [5,10,20,50,100,200],\n",
    "    'n_estimators': [10,25,30,50,100,200]\n",
    "}\n"
   ]
  },
  {
   "cell_type": "code",
   "execution_count": null,
   "id": "54059a9f",
   "metadata": {},
   "outputs": [],
   "source": [
    "# instantiate grid search model\n",
    "grid_search = GridSearchCV(estimator=rf,\n",
    "                           param_grid=params,\n",
    "                           cv = 4,\n",
    "                           n_jobs=-1, verbose=1, scoring=\"accuracy\")\n"
   ]
  },
  {
   "cell_type": "code",
   "execution_count": null,
   "id": "443a2edf",
   "metadata": {},
   "outputs": [],
   "source": [
    "%%time\n",
    "grid_search.fit(X_train, y_train)\n"
   ]
  },
  {
   "cell_type": "code",
   "execution_count": null,
   "id": "5bea968e",
   "metadata": {},
   "outputs": [],
   "source": [
    "grid_search.best_score_\n"
   ]
  },
  {
   "cell_type": "code",
   "execution_count": null,
   "id": "b7275bd1",
   "metadata": {},
   "outputs": [],
   "source": [
    "rf_best = grid_search.best_estimator_\n",
    "rf_best\n"
   ]
  },
  {
   "cell_type": "markdown",
   "id": "d9c74e4d",
   "metadata": {},
   "source": [
    "BEST ESTIMATOR\n",
    "* max_depth = 3\n",
    "* min_samples_leaf=5 \n",
    "* n_estimators=200"
   ]
  },
  {
   "cell_type": "markdown",
   "id": "f8d8832a",
   "metadata": {},
   "source": [
    "**Visualize Random Forest**\n"
   ]
  },
  {
   "cell_type": "code",
   "execution_count": null,
   "id": "7b01d619",
   "metadata": {},
   "outputs": [],
   "source": [
    "from sklearn.tree import plot_tree\n"
   ]
  },
  {
   "cell_type": "code",
   "execution_count": null,
   "id": "31fb43f8",
   "metadata": {},
   "outputs": [],
   "source": [
    "# plot trees\n",
    "plt.figure(figsize=(80,40))\n",
    "plot_tree(rf_best.estimators_[5], feature_names = X.columns,class_names=['Satisfied', \n",
    "                                                                         \"Not Satisfied\"],filled=True);\n",
    "\n",
    "plt.savefig('plots/08-plot-random-forest-trees.png', bbox_inches='tight')\n"
   ]
  },
  {
   "cell_type": "code",
   "execution_count": null,
   "id": "d78f6faf",
   "metadata": {},
   "outputs": [],
   "source": [
    "# plot trees\n",
    "plt.figure(figsize=(80,40))\n",
    "plot_tree(rf_best.estimators_[7], feature_names = X.columns,class_names=['Satisfied', \"Not Satisfied\"],filled=True);\n",
    "\n",
    "plt.savefig('plots/09-plot-random-forest-trees.png', bbox_inches='tight')\n"
   ]
  },
  {
   "cell_type": "code",
   "execution_count": null,
   "id": "76ccb2d5",
   "metadata": {},
   "outputs": [],
   "source": [
    "# sort data by feature importance\n",
    "rf_best.feature_importances_\n"
   ]
  },
  {
   "cell_type": "code",
   "execution_count": null,
   "id": "026b54b9",
   "metadata": {},
   "outputs": [],
   "source": [
    "imp_df = pd.DataFrame({\n",
    "    \"Varname\": X_train.columns,\n",
    "    \"Imp\": rf_best.feature_importances_\n",
    "})\n"
   ]
  },
  {
   "cell_type": "code",
   "execution_count": null,
   "id": "7afcf83a",
   "metadata": {},
   "outputs": [],
   "source": [
    "imp_df.sort_values(by=\"Imp\", ascending=False)\n"
   ]
  },
  {
   "cell_type": "markdown",
   "id": "0a69fa94",
   "metadata": {},
   "source": [
    "**Random Forest Model Conclusion**  \n",
    "Job seeking & Worker Compensation features are more indicative of job satisfaction than other features.\n"
   ]
  },
  {
   "cell_type": "code",
   "execution_count": null,
   "id": "0cc595fa",
   "metadata": {},
   "outputs": [],
   "source": []
  }
 ],
 "metadata": {
  "kernelspec": {
   "display_name": "Python 3 (ipykernel)",
   "language": "python",
   "name": "python3"
  },
  "language_info": {
   "codemirror_mode": {
    "name": "ipython",
    "version": 3
   },
   "file_extension": ".py",
   "mimetype": "text/x-python",
   "name": "python",
   "nbconvert_exporter": "python",
   "pygments_lexer": "ipython3",
   "version": "3.9.7"
  }
 },
 "nbformat": 4,
 "nbformat_minor": 5
}
