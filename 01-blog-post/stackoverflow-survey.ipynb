{
 "cells": [
  {
   "cell_type": "markdown",
   "id": "a132c1a5",
   "metadata": {},
   "source": [
    "DEVELOPER SURVEY ANALYSIS - NOTEBOOK\n"
   ]
  },
  {
   "cell_type": "markdown",
   "id": "4ca80224",
   "metadata": {},
   "source": [
    "OUTLINE"
   ]
  },
  {
   "cell_type": "code",
   "execution_count": null,
   "id": "4d4be60f",
   "metadata": {},
   "outputs": [],
   "source": []
  },
  {
   "cell_type": "code",
   "execution_count": 1,
   "id": "63c4b7b7",
   "metadata": {},
   "outputs": [],
   "source": [
    "# import data analysis & graph packages\n",
    "import pandas as pd\n",
    "import numpy as np\n",
    "\n",
    "import zipfile\n",
    "import glob\n",
    "import sys\n",
    "import os\n",
    "import re\n",
    "\n",
    "import requests\n",
    "from io import BytesIO\n",
    "from itertools import chain\n",
    "import matplotlib.pyplot as plt\n",
    "import seaborn as sns\n",
    "%matplotlib inline\n"
   ]
  },
  {
   "cell_type": "code",
   "execution_count": 2,
   "id": "70750f9b",
   "metadata": {},
   "outputs": [
    {
     "name": "stdout",
     "output_type": "stream",
     "text": [
      "https://info.stackoverflowsolutions.com/rs/719-EMH-566/images/stack-overflow-developer-survey-2020.zip\n"
     ]
    }
   ],
   "source": [
    "# import survey data\n",
    "\n",
    "# data directory\n",
    "folder_name = 'sof-survey-data'\n",
    "if not os.path.exists(folder_name):\n",
    "    os.makedirs(folder_name)\n",
    "    \n",
    "# download developer survey file\n",
    "survey_results_url = 'https://info.stackoverflowsolutions.com/rs/719-EMH-566/images/stack-overflow-developer-survey-2020.zip'\n",
    "print(survey_results_url)\n",
    "response = requests.get(survey_results_url)\n",
    "\n",
    "# open zip file and return readable and writeable view\n",
    "zipDoc = zipfile.ZipFile(BytesIO(response.content))\n",
    "\n",
    "# save extracted zip file\n",
    "zipDoc.extractall(folder_name)\n"
   ]
  },
  {
   "cell_type": "code",
   "execution_count": 3,
   "id": "a1024306",
   "metadata": {},
   "outputs": [],
   "source": [
    "# import data\n",
    "df = pd.read_csv('./sof-survey-data/survey_results_public.csv')\n",
    "schema = pd.read_csv('./sof-survey-data/survey_results_schema.csv')\n"
   ]
  },
  {
   "cell_type": "code",
   "execution_count": 4,
   "id": "f694a7ed",
   "metadata": {},
   "outputs": [],
   "source": [
    "# import schema survey questions\n",
    "schema_fname =  './sof-survey-data/survey_results_schema.csv'\n",
    "schema_df = pd.read_csv(schema_fname, index_col='Column')\n",
    "schema = schema_df.QuestionText\n"
   ]
  },
  {
   "cell_type": "markdown",
   "id": "51ad6bd9",
   "metadata": {},
   "source": [
    "**Import helper files**"
   ]
  },
  {
   "cell_type": "code",
   "execution_count": 6,
   "id": "14880c38",
   "metadata": {},
   "outputs": [
    {
     "data": {
      "text/plain": [
       "'/Users/andrewnachtigal/Documents/00-ComputerScience/03-Udacity/03-Udacity-Data-Science/00-git-repo/Udacity-Data-Science/01-blog-post/jupyter-notebooks'"
      ]
     },
     "execution_count": 6,
     "metadata": {},
     "output_type": "execute_result"
    }
   ],
   "source": [
    "pwd"
   ]
  },
  {
   "cell_type": "code",
   "execution_count": null,
   "id": "4eea8ee3",
   "metadata": {},
   "outputs": [],
   "source": []
  },
  {
   "cell_type": "code",
   "execution_count": 5,
   "id": "e30b9d74",
   "metadata": {},
   "outputs": [
    {
     "ename": "ModuleNotFoundError",
     "evalue": "No module named 'helper_functions'",
     "output_type": "error",
     "traceback": [
      "\u001b[0;31m---------------------------------------------------------------------------\u001b[0m",
      "\u001b[0;31mModuleNotFoundError\u001b[0m                       Traceback (most recent call last)",
      "\u001b[0;32m/var/folders/xm/pxb_5dwd6g72ftz3jmtqm_b00000gn/T/ipykernel_47097/2141703986.py\u001b[0m in \u001b[0;36m<module>\u001b[0;34m\u001b[0m\n\u001b[1;32m      1\u001b[0m \u001b[0;31m# import helper files\u001b[0m\u001b[0;34m\u001b[0m\u001b[0;34m\u001b[0m\u001b[0m\n\u001b[0;32m----> 2\u001b[0;31m \u001b[0;32mfrom\u001b[0m \u001b[0mhelper_functions\u001b[0m\u001b[0;34m.\u001b[0m\u001b[0mhelper_functions\u001b[0m \u001b[0;32mimport\u001b[0m \u001b[0mprint_question_text\u001b[0m\u001b[0;34m\u001b[0m\u001b[0;34m\u001b[0m\u001b[0m\n\u001b[0m\u001b[1;32m      3\u001b[0m \u001b[0;34m\u001b[0m\u001b[0m\n\u001b[1;32m      4\u001b[0m \u001b[0;31m# https://stackoverflow.com/questions/4383571/importing-files-from-different-folder\u001b[0m\u001b[0;34m\u001b[0m\u001b[0;34m\u001b[0m\u001b[0m\n",
      "\u001b[0;31mModuleNotFoundError\u001b[0m: No module named 'helper_functions'"
     ]
    }
   ],
   "source": [
    "# import helper files\n",
    "from helper_functions.helper_functions import print_question_text\n",
    "\n",
    "# https://stackoverflow.com/questions/4383571/importing-files-from-different-folder"
   ]
  },
  {
   "cell_type": "code",
   "execution_count": null,
   "id": "c4ca536b",
   "metadata": {},
   "outputs": [],
   "source": [
    "# call function to Display question text for survey questions of interest\n",
    "question_list = ['DevType', 'JobSat']\n",
    "\n",
    "for question in question_list:\n",
    "    print_question_text(question)"
   ]
  },
  {
   "cell_type": "code",
   "execution_count": null,
   "id": "d86e84cb",
   "metadata": {},
   "outputs": [],
   "source": []
  },
  {
   "cell_type": "markdown",
   "id": "c4b24753",
   "metadata": {},
   "source": [
    "Q1. Can we distinguish between data roles and developer roles? \n",
    "\n",
    "**What factors are correlated with each group?**\n",
    "\n",
    "\n",
    "* Individual survey responses may contain any combination of the developer types and therefore contain \n",
    "significant variation. \n",
    "* For the purpose of analysis, we focus on responses containing either developer or data roles."
   ]
  },
  {
   "cell_type": "markdown",
   "id": "28bbf881",
   "metadata": {},
   "source": [
    "Q2. Can we evaluate job satisfaction via descriptive statistics? \n",
    "\n",
    "**plus graphical evaluation**\n",
    "\n",
    "\n",
    "* Individual \n",
    "* For "
   ]
  },
  {
   "cell_type": "markdown",
   "id": "552f3425",
   "metadata": {},
   "source": [
    "Q3. Can we classify the best predictors of job satisfaction through a machine learning model?\n",
    "\n",
    "**Models evaluated**\n",
    "\n",
    "\n",
    "* Individual \n",
    "* For "
   ]
  },
  {
   "cell_type": "markdown",
   "id": "5a848dc4",
   "metadata": {},
   "source": [
    "### Stackoverflow Survey Data \n",
    "\n",
    "**Steps of Data Science Process**  \n",
    "gather, assess, clean, analyze, model, visualize"
   ]
  },
  {
   "cell_type": "markdown",
   "id": "152ea67b",
   "metadata": {},
   "source": [
    "### Survey Questions\n"
   ]
  },
  {
   "cell_type": "code",
   "execution_count": null,
   "id": "1ff980ad",
   "metadata": {},
   "outputs": [],
   "source": [
    "# adjsut rows and column display\n",
    "#pd.set_option('display.max_rows', 100)\n",
    "#pd.set_option('display.max_colwidth', 200)\n",
    "#pd.set_option('display.max_columns', 180)"
   ]
  },
  {
   "cell_type": "code",
   "execution_count": null,
   "id": "5c415b03",
   "metadata": {},
   "outputs": [],
   "source": [
    " schema"
   ]
  },
  {
   "cell_type": "code",
   "execution_count": null,
   "id": "0dd5eb05",
   "metadata": {},
   "outputs": [],
   "source": [
    "# reset display ... ?\n",
    "\n"
   ]
  },
  {
   "cell_type": "markdown",
   "id": "8f7d1b9b",
   "metadata": {},
   "source": [
    "# Q1"
   ]
  },
  {
   "cell_type": "markdown",
   "id": "851abcfe",
   "metadata": {},
   "source": [
    "## Developer Roles\n"
   ]
  },
  {
   "cell_type": "code",
   "execution_count": null,
   "id": "99352fb8",
   "metadata": {},
   "outputs": [],
   "source": [
    "# drop NaNs\n",
    "df = df.dropna(subset=['DevType'], axis=0)\n"
   ]
  },
  {
   "cell_type": "code",
   "execution_count": null,
   "id": "e9ce4d2e",
   "metadata": {},
   "outputs": [],
   "source": [
    "# unique DevType roles\n",
    "DevRoles = df.DevType.unique()\n",
    "DevStr = []\n",
    "for i in range(len(DevRoles)):\n",
    "    '''Create list of unique developer roles found in survey responses under 'DevType'.\n",
    "        Iterate over DevType column\n",
    "    '''\n",
    "    role = DevRoles[i].split(\";\")\n",
    "    DevStr.append(role)\n",
    "DevTypes = set(list(chain.from_iterable(DevStr)))\n",
    "DevTypes\n"
   ]
  },
  {
   "cell_type": "code",
   "execution_count": null,
   "id": "1b483268",
   "metadata": {},
   "outputs": [],
   "source": [
    "# specify data and dev role markers\n",
    "data_roles = ['Data or business analyst', 'Data scientist or machine learning specialist', 'Engineer, data']\n",
    "dev_roles = ['Developer']\n"
   ]
  },
  {
   "cell_type": "code",
   "execution_count": null,
   "id": "1b0bc4c9",
   "metadata": {},
   "outputs": [],
   "source": [
    "# subset responses including developer roles\n",
    "df_dev = df[df['DevType'].str.contains('|'.join(dev_roles), na=False) == True].copy(deep=True)\n",
    "\n",
    "# https://stackoverflow.com/questions/20625582/how-to-deal-with-settingwithcopywarning-in-pandas"
   ]
  },
  {
   "cell_type": "code",
   "execution_count": null,
   "id": "e70ad1e8",
   "metadata": {},
   "outputs": [],
   "source": [
    "# drop responses including data roles\n",
    "df_dev = df_dev[~df_dev['DevType'].str.contains('|'.join(data_roles), na=False) == True]\n"
   ]
  },
  {
   "cell_type": "code",
   "execution_count": null,
   "id": "552a46d6",
   "metadata": {},
   "outputs": [],
   "source": [
    "# shape of developer roles dataset\n",
    "print('dev roles dataframe contains', np.shape(df_dev)[0], 'rows and', np.shape(df_dev)[1], 'columns.')\n"
   ]
  },
  {
   "cell_type": "markdown",
   "id": "8029692f",
   "metadata": {},
   "source": [
    "## Data Roles\n"
   ]
  },
  {
   "cell_type": "code",
   "execution_count": null,
   "id": "f489fef2",
   "metadata": {},
   "outputs": [],
   "source": [
    "# subset all responses including data\n",
    "df_data = df[df['DevType'].str.contains('|'.join(data_roles), na=False) == True].copy(deep=True)\n"
   ]
  },
  {
   "cell_type": "raw",
   "id": "c6531a36",
   "metadata": {},
   "source": [
    "# subset all responses including data roles\n",
    "df_data = df_data[~df_data['DevType'].str.contains('|'.join(dev_roles), na=False) == True]\n"
   ]
  },
  {
   "cell_type": "code",
   "execution_count": null,
   "id": "dd0a0aca",
   "metadata": {},
   "outputs": [],
   "source": [
    "# shape of data roles dataframe\n",
    "print('data roles dataframe contains', np.shape(df_data)[0], 'rows and', \n",
    "      np.shape(df_data)[1], 'columns.')\n"
   ]
  },
  {
   "cell_type": "markdown",
   "id": "f4b9ce8c",
   "metadata": {},
   "source": [
    "### Add Indicator Column for developer and data roles: 'is_data_role'"
   ]
  },
  {
   "cell_type": "code",
   "execution_count": null,
   "id": "b7c1c099",
   "metadata": {},
   "outputs": [],
   "source": [
    "# set indicator column for data and dev roles\n",
    "df_data['is_data_role'] = 'data'\n",
    "df_dev['is_data_role'] = 'dev'\n"
   ]
  },
  {
   "cell_type": "code",
   "execution_count": null,
   "id": "34d0e641",
   "metadata": {},
   "outputs": [],
   "source": [
    "# join data and developer data\n",
    "df = pd.concat([df_data, df_dev])\n",
    "\n",
    "# reset index\n",
    "df = df.reset_index(drop=True)\n"
   ]
  },
  {
   "cell_type": "code",
   "execution_count": null,
   "id": "c7d977a7",
   "metadata": {},
   "outputs": [],
   "source": [
    "df.head(3)\n"
   ]
  },
  {
   "cell_type": "markdown",
   "id": "93aa084a",
   "metadata": {},
   "source": [
    "## Data & Developer Role Feature Exploration"
   ]
  },
  {
   "cell_type": "code",
   "execution_count": null,
   "id": "d1a12eb3",
   "metadata": {},
   "outputs": [],
   "source": [
    "df.shape\n"
   ]
  },
  {
   "cell_type": "code",
   "execution_count": null,
   "id": "7ecad6a9",
   "metadata": {},
   "outputs": [],
   "source": [
    "# column datatypes\n",
    "pd.set_option('display.max_rows', 10)\n",
    "display(df.dtypes)\n"
   ]
  },
  {
   "cell_type": "markdown",
   "id": "acaa38cf",
   "metadata": {},
   "source": [
    "## Data vs. Dev\n",
    "\n",
    "* explore statistical/visual similarities and differences\n",
    "* select features manually\n",
    "\n",
    "Features\n",
    "\n",
    "* Age\n",
    "* Converted Comp\n",
    "* EdLevel\n"
   ]
  },
  {
   "cell_type": "markdown",
   "id": "aa6624d9",
   "metadata": {},
   "source": [
    "# Age"
   ]
  },
  {
   "cell_type": "code",
   "execution_count": null,
   "id": "198f1924",
   "metadata": {},
   "outputs": [],
   "source": [
    "# describe Age column\n",
    "\n",
    "print(df.Age.describe())\n",
    "\n",
    "# check for null values\n",
    "print('dataset contains', df['Age'].isna().sum(), 'nan values')\n"
   ]
  },
  {
   "cell_type": "code",
   "execution_count": null,
   "id": "33f8d65f",
   "metadata": {},
   "outputs": [],
   "source": [
    "# unique Age responses\n",
    "print(list(df.Age.unique()))\n"
   ]
  },
  {
   "cell_type": "markdown",
   "id": "abf45de8",
   "metadata": {},
   "source": [
    "## Age Histogram"
   ]
  },
  {
   "cell_type": "code",
   "execution_count": null,
   "id": "0cb55e69",
   "metadata": {},
   "outputs": [],
   "source": [
    "# Age histogram\n",
    "AgeDev = df.loc[df.is_data_role=='dev', 'Age']\n",
    "AgeData = df.loc[df.is_data_role=='data', 'Age']\n",
    "\n",
    "kwargs = dict(histtype='stepfilled', alpha=0.3, bins=100)\n",
    "fig, ax = plt.subplots(figsize=(8, 6))\n",
    "\n",
    "plt.hist(AgeDev, **kwargs, color='g', label='Dev')\n",
    "plt.hist(AgeData, **kwargs, color='b', label='Data')\n",
    "plt.gca().set(ylabel='Frequency', xlabel='Age')\n",
    "plt.title('Frequency Histogram of Respondent Age', fontsize= 15, fontweight='bold')\n",
    "plt.xlim(0,70)\n",
    "plt.legend();\n",
    "\n",
    "plt.rcParams[\"font.weight\"] = \"bold\"\n",
    "plt.rcParams[\"axes.labelweight\"] = \"bold\"\n",
    "\n"
   ]
  },
  {
   "cell_type": "code",
   "execution_count": null,
   "id": "5c46838b",
   "metadata": {},
   "outputs": [],
   "source": [
    "# Age: Data mean vs Dev mean \n",
    "print('data role mean Age is', round(AgeData.mean(),2))  \n",
    "print('dev role mean Age is',  round(AgeDev.mean(),2))\n"
   ]
  },
  {
   "cell_type": "markdown",
   "id": "dc8bfcd2",
   "metadata": {},
   "source": [
    "# Age Conclusion ->\n",
    "* **Mean Age is slightly higher for developers.**"
   ]
  },
  {
   "cell_type": "markdown",
   "id": "086e802e",
   "metadata": {},
   "source": [
    "# Converted Comp\n"
   ]
  },
  {
   "cell_type": "code",
   "execution_count": null,
   "id": "9f883776",
   "metadata": {},
   "outputs": [],
   "source": [
    "# describe Age column\n",
    "print(df.ConvertedComp.describe())\n",
    "\n",
    "# check for null values\n",
    "print('dataset contains', df['ConvertedComp'].isna().sum(), 'nan values')\n"
   ]
  },
  {
   "cell_type": "code",
   "execution_count": null,
   "id": "52fb9b43",
   "metadata": {},
   "outputs": [],
   "source": [
    "# Distribution of Dev and Data Compensation\n",
    "\n",
    "CompDev = df.loc[df.is_data_role=='dev', 'ConvertedComp'].dropna()\n",
    "CompData = df.loc[df.is_data_role=='data', 'ConvertedComp'].dropna()\n",
    "\n",
    "kwargs = dict(histtype='barstacked', alpha=0.3, bins=100)\n",
    "fig, ax = plt.subplots(figsize=(8, 6))\n",
    "\n",
    "plt.hist(CompDev, **kwargs, color='g', label='Dev')\n",
    "plt.hist(CompData, **kwargs, color='b', label='Data')\n",
    "plt.gca().set(ylabel='Frequency', xlabel='Compensation')\n",
    "plt.title('Distribution of Respondent Compensation', fontsize= 15, fontweight='bold')\n",
    "plt.legend();\n",
    "\n",
    "plt.rcParams[\"font.weight\"] = \"bold\"\n",
    "plt.rcParams[\"axes.labelweight\"] = \"bold\"\n"
   ]
  },
  {
   "cell_type": "code",
   "execution_count": null,
   "id": "8dfa60cb",
   "metadata": {},
   "outputs": [],
   "source": [
    "# vertical boxplot\n",
    "df_z = df[df['ConvertedComp'].notnull()]\n",
    "\n",
    "sns.set(style=\"white\", palette=\"Blues\", color_codes=True)\n",
    "plt.figure(figsize=[10, 10])\n",
    "#df['comp_log'] = np.log(df['ConvertedComp'].values)\n",
    "#ax = sns.boxplot(x='is_data_role', y='comp_log', data=df)\n",
    "ax = sns.boxplot(x='is_data_role', y='ConvertedComp', data=df_z)\n",
    "plt.title('Distribution of Respondent Compensation', fontsize= 15, fontweight='bold')\n",
    "ax.set_xlabel(\"Compensation (USD))\", labelpad=20, weight='bold', size=12)\n",
    "ax.set_ylabel(\" \", labelpad=20, weight='bold', size=12)\n",
    "ax.legend(['Data Role', 'Dev Role'])\n",
    "\n",
    "plt.rcParams[\"font.weight\"] = \"bold\"\n",
    "plt.rcParams[\"axes.labelweight\"] = \"bold\"\n"
   ]
  },
  {
   "cell_type": "code",
   "execution_count": null,
   "id": "227a9708",
   "metadata": {},
   "outputs": [],
   "source": [
    "# mean comensation: Data vs Dev\n",
    "print('data role mean compensation is', round(CompData.mean()))\n",
    "print('dev role mean compensation is',  round(CompDev.mean()))\n",
    "print(\"\")\n",
    "print('Average Data Roles earn more by $', round(CompData.mean()) - round(CompDev.mean()))\n"
   ]
  },
  {
   "cell_type": "markdown",
   "id": "502e17b3",
   "metadata": {},
   "source": [
    "# Compensation Conclusion ->\n",
    "* **Average data roles pay 15% more than Dev roles.**"
   ]
  },
  {
   "cell_type": "markdown",
   "id": "3db85235",
   "metadata": {},
   "source": [
    "# Education (EdLevel)"
   ]
  },
  {
   "cell_type": "code",
   "execution_count": null,
   "id": "426526dd",
   "metadata": {},
   "outputs": [],
   "source": [
    "# plot education levels\n",
    "educ_order = ['I never completed any formal education',\n",
    "                'Primary/elementary school',\n",
    "                'Secondary school (e.g. American high school, German Realschule or Gymnasium, etc.)',\n",
    "                'Associate degree (A.A., A.S., etc.)',\n",
    "                'Some college/university study without earning a degree',\n",
    "                'Bachelor’s degree (B.A., B.S., B.Eng., etc.)',\n",
    "                'Master’s degree (M.A., M.S., M.Eng., MBA, etc.)',\n",
    "                'Professional degree (JD, MD, etc.)',\n",
    "                'Other doctoral degree (Ph.D., Ed.D., etc.)']\n",
    "\n",
    "# respondent education level\n",
    "fig, axes = plt.subplots(2, 1, figsize=(10, 10), sharey=True)\n",
    "fig.suptitle('Respondent Education Level')\n",
    "\n",
    "plt.rcParams[\"font.weight\"] = \"bold\"\n",
    "plt.rcParams[\"axes.labelweight\"] = \"bold\"\n",
    "\n",
    "# Data\n",
    "plt.subplot(2, 1, 1)\n",
    "sns.countplot(ax=axes[0], y=df_data.EdLevel, order=educ_order, palette=\"ch:.25\")\n",
    "axes[0].set_title('Data')\n",
    "plt.xticks(rotation = 50);\n",
    "plt.title(schema['EdLevel'])\n",
    "plt.xlabel(None);\n",
    "plt.ylabel('Data');\n",
    "\n",
    "# Dev\n",
    "plt.subplot(2, 1, 2)\n",
    "sns.countplot(ax=axes[1], y=df_dev.EdLevel, order=educ_order, palette=\"ch:.25\")\n",
    "axes[1].set_title('Dev')\n",
    "plt.xticks(rotation = 50);\n",
    "plt.xlabel(None);\n",
    "plt.ylabel('Dev');\n",
    "\n",
    "plt.rcParams[\"font.weight\"] = \"bold\"\n",
    "plt.rcParams[\"axes.labelweight\"] = \"bold\"\n"
   ]
  },
  {
   "cell_type": "markdown",
   "id": "865ea29e",
   "metadata": {},
   "source": [
    "**Education Level for Data and Dev Roles: Formal Education Ratio**"
   ]
  },
  {
   "cell_type": "code",
   "execution_count": null,
   "id": "c0a361da",
   "metadata": {},
   "outputs": [],
   "source": [
    "# make edlev index key list\n",
    "edlev_index = ['associate','bachelors', 'no degree', 'masters', 'doctoral', 'elementary', 'professional', \n",
    "               'secondary', 'some college']\n"
   ]
  },
  {
   "cell_type": "code",
   "execution_count": null,
   "id": "2f72a4a8",
   "metadata": {},
   "outputs": [],
   "source": [
    "# data edlev\n",
    "data_edlev_val = pd.DataFrame(df.loc[df['is_data_role']=='data']['EdLevel'].value_counts(sort=False, dropna=True))\n",
    "data_edlev_val.sort_index(inplace=True)\n",
    "# convert data edlev to dictionary\n",
    "data_edlev_dict = dict(zip(edlev_index, data_edlev_val['EdLevel'].to_list()))\n"
   ]
  },
  {
   "cell_type": "code",
   "execution_count": null,
   "id": "4ab05237",
   "metadata": {},
   "outputs": [],
   "source": [
    "# data total\n",
    "data_edlev_total = data_edlev_val.sum()\n",
    "# data bachelor's\n",
    "data_bach_ratio = data_edlev_dict['bachelors'] / data_edlev_total\n",
    "# data pgrad\n",
    "data_pgrad_ratio = (sum([data_edlev_dict.get(k) for k in [\"masters\", \"doctoral\", \n",
    "                                                          \"professional\"]])) / data_edlev_total\n"
   ]
  },
  {
   "cell_type": "code",
   "execution_count": null,
   "id": "f39a39a9",
   "metadata": {},
   "outputs": [],
   "source": [
    "# dev edlev\n",
    "dev_edlev_val = pd.DataFrame(df.loc[df['is_data_role']=='dev']['EdLevel'].value_counts(sort=False, dropna=True))\n",
    "dev_edlev_val.sort_index(inplace=True)\n",
    "# convert dev edlev to dictionary\n",
    "dev_edlev_dict = dict(zip(edlev_index, dev_edlev_val['EdLevel'].to_list()))\n"
   ]
  },
  {
   "cell_type": "code",
   "execution_count": null,
   "id": "057e80b1",
   "metadata": {},
   "outputs": [],
   "source": [
    "# dev total\n",
    "dev_edlev_total = dev_edlev_val.sum()\n",
    "# dev bachelor's\n",
    "dev_bach_ratio = dev_edlev_dict['bachelors'] / dev_edlev_total\n",
    "# dev pgrad\n",
    "dev_pgrad_ratio = (sum([dev_edlev_dict.get(k) for k in [\"masters\", \"doctoral\", \n",
    "                                                        \"professional\"]])) / dev_edlev_total\n"
   ]
  },
  {
   "cell_type": "code",
   "execution_count": null,
   "id": "6f648e7f",
   "metadata": {},
   "outputs": [],
   "source": [
    "# formal education ratios\n",
    "print('data bachelors ratio is:', round(data_bach_ratio[0],4))\n",
    "print('data postgrad ratio is:', round(data_pgrad_ratio[0],4))\n",
    "print('dev bachelors ratio is:', round(dev_bach_ratio[0],4))\n",
    "print('dev postgrad ratio is:', round(dev_pgrad_ratio[0],4))\n"
   ]
  },
  {
   "cell_type": "markdown",
   "id": "61f1ced0",
   "metadata": {},
   "source": [
    "# Education Conclusion ->\n",
    "* **College degrees are very common among both data and developer roles.**\n",
    "* **Bachelor's degrees dominate among developers while post-graduate degrees are twice as common for data roles.**"
   ]
  },
  {
   "cell_type": "code",
   "execution_count": null,
   "id": "420a7d5e",
   "metadata": {},
   "outputs": [],
   "source": []
  },
  {
   "cell_type": "markdown",
   "id": "ddd33fa9",
   "metadata": {},
   "source": [
    "# Q2"
   ]
  },
  {
   "cell_type": "code",
   "execution_count": null,
   "id": "30e99cba",
   "metadata": {},
   "outputs": [],
   "source": []
  },
  {
   "cell_type": "code",
   "execution_count": null,
   "id": "59930ce0",
   "metadata": {},
   "outputs": [],
   "source": []
  },
  {
   "cell_type": "code",
   "execution_count": null,
   "id": "44412c45",
   "metadata": {},
   "outputs": [],
   "source": []
  },
  {
   "cell_type": "code",
   "execution_count": null,
   "id": "901d05c5",
   "metadata": {},
   "outputs": [],
   "source": []
  },
  {
   "cell_type": "code",
   "execution_count": null,
   "id": "fb77fd69",
   "metadata": {},
   "outputs": [],
   "source": []
  },
  {
   "cell_type": "code",
   "execution_count": null,
   "id": "ee2cd018",
   "metadata": {},
   "outputs": [],
   "source": []
  },
  {
   "cell_type": "code",
   "execution_count": null,
   "id": "c5f3c0e3",
   "metadata": {},
   "outputs": [],
   "source": []
  },
  {
   "cell_type": "code",
   "execution_count": null,
   "id": "d26e93d9",
   "metadata": {},
   "outputs": [],
   "source": []
  },
  {
   "cell_type": "markdown",
   "id": "8df39eb3",
   "metadata": {},
   "source": [
    "# Q3\n",
    "**Can we classify good predictors of job satisfaction with machine learning?**\n"
   ]
  },
  {
   "cell_type": "markdown",
   "id": "48bd4594",
   "metadata": {},
   "source": [
    "**FEATURE MODELING**\n",
    "* remove unemployed\n",
    "* method for determining useful features / feature selection\n",
    "    * trim features by intuition\n",
    "    * programmaticaly remove uncorrelated columns\n",
    "* parse feature columns into useful types\n",
    "* expand columns with list-like structures\n",
    "* consider distribution of numeric features\n",
    "* manage missing values\n",
    "* encode categorical features"
   ]
  },
  {
   "cell_type": "code",
   "execution_count": null,
   "id": "8304537b",
   "metadata": {},
   "outputs": [],
   "source": [
    "df.head(3)"
   ]
  },
  {
   "cell_type": "code",
   "execution_count": null,
   "id": "1f4eda3f",
   "metadata": {},
   "outputs": [],
   "source": [
    "# all features\n",
    "df.columns"
   ]
  },
  {
   "cell_type": "markdown",
   "id": "ced37100",
   "metadata": {},
   "source": [
    "# DATA PREPARATION\n",
    "* drop unemployed responses\n",
    "* manually drop feature columns that are not of interest\n",
    "* drop NaN values  \n",
    "* encode categorical feature columns\n",
    "* drop string object columns\n",
    "* reset index\n"
   ]
  },
  {
   "cell_type": "code",
   "execution_count": null,
   "id": "bb5a2645",
   "metadata": {},
   "outputs": [],
   "source": [
    "# drop unemployed responses\n",
    "df = df[df.Employment.isin(['Employed full-time', 'Independent contractor, freelancer, or self-employed', \n",
    "                            'Employed part-time'])]\n",
    " \n",
    "# narrow feature set: drop column features that are not of interest\n",
    "df = df[['Hobbyist', 'Age', 'Age1stCode','ConvertedComp','EdLevel','JobSat','JobFactors','JobSeek',\n",
    "         'WorkWeekHrs','YearsCode','YearsCodePro','is_data_role']]\n"
   ]
  },
  {
   "cell_type": "code",
   "execution_count": null,
   "id": "efe458ed",
   "metadata": {},
   "outputs": [],
   "source": [
    "df.shape"
   ]
  },
  {
   "cell_type": "markdown",
   "id": "19b9583b",
   "metadata": {},
   "source": [
    "### Model Features"
   ]
  },
  {
   "cell_type": "code",
   "execution_count": null,
   "id": "a232cebc",
   "metadata": {},
   "outputs": [],
   "source": [
    "list(df.columns)"
   ]
  },
  {
   "cell_type": "code",
   "execution_count": null,
   "id": "0b34bff2",
   "metadata": {},
   "outputs": [],
   "source": [
    "# column datatypes\n",
    "pd.set_option('display.max_rows', 75)\n",
    "display(df.dtypes)\n"
   ]
  },
  {
   "cell_type": "markdown",
   "id": "33b82ca4",
   "metadata": {},
   "source": [
    "## Categorical Feature Mappings\n"
   ]
  },
  {
   "cell_type": "code",
   "execution_count": null,
   "id": "4cc2f944",
   "metadata": {},
   "outputs": [],
   "source": [
    "# categorical variable responses strings\n",
    "\n",
    "EdLevel_strs = ['I never completed any formal education',\n",
    "                'Primary/elementary school',\n",
    "                'Secondary school (e.g. American high school, German Realschule or Gymnasium, etc.)',\n",
    "                'Associate degree (A.A., A.S., etc.)',\n",
    "                'Some college/university study without earning a degree',\n",
    "                'Bachelor’s degree (B.A., B.S., B.Eng., etc.)',\n",
    "                'Master’s degree (M.A., M.S., M.Eng., MBA, etc.)',\n",
    "                'Professional degree (JD, MD, etc.)',\n",
    "                'Other doctoral degree (Ph.D., Ed.D., etc.)']\n",
    "\n",
    "JobSeek_strs = ['I am not interested in new job opportunities',\n",
    "                 'I’m not actively looking, but I am open to new opportunities',\n",
    "                 'I am actively looking for a job']\n",
    "\n",
    "JobFactors_strs = ['Diversity of the company or organization',\n",
    "                 'Family friendliness',\n",
    "                 'Financial performance or funding status of the company or organization',\n",
    "                 'Flex time or a flexible schedule',\n",
    "                 'How widely used or impactful my work output would be',\n",
    "                 'Industry that I’d be working in',\n",
    "                 'Languages, frameworks, and other technologies I’d be working with',\n",
    "                 'Office environment or company culture',\n",
    "                 'Opportunities for professional development',\n",
    "                 'Remote work options',\n",
    "                 'Specific department or team I’d be working on']\n"
   ]
  },
  {
   "cell_type": "markdown",
   "id": "fb6358d5",
   "metadata": {},
   "source": [
    "# Hobbyist"
   ]
  },
  {
   "cell_type": "code",
   "execution_count": null,
   "id": "6a2663d4",
   "metadata": {},
   "outputs": [],
   "source": [
    "# describe data\n",
    "print(df.Hobbyist.describe())\n",
    "\n",
    "# check for null values\n",
    "print('dataset contains', df['Hobbyist'].isna().sum(), 'nan values')\n"
   ]
  },
  {
   "cell_type": "code",
   "execution_count": null,
   "id": "a3681543",
   "metadata": {},
   "outputs": [],
   "source": [
    "# 'Hobbyist' responses\n",
    "print(list(df.Hobbyist.unique()))\n"
   ]
  },
  {
   "cell_type": "code",
   "execution_count": null,
   "id": "c3832294",
   "metadata": {},
   "outputs": [],
   "source": [
    "# convert 'Hobbyist' to yes=1 or no=0\n",
    "df['Hobbyist_bin'] = df.Hobbyist.map(dict(Yes=1, No=0))\n"
   ]
  },
  {
   "cell_type": "code",
   "execution_count": null,
   "id": "9b81790b",
   "metadata": {},
   "outputs": [],
   "source": [
    "df.Hobbyist_bin.head()\n"
   ]
  },
  {
   "cell_type": "markdown",
   "id": "3da16af0",
   "metadata": {},
   "source": [
    "# Age"
   ]
  },
  {
   "cell_type": "code",
   "execution_count": null,
   "id": "41eb551a",
   "metadata": {},
   "outputs": [],
   "source": [
    "# describe age column\n",
    "print(df.Age.describe())\n",
    "\n",
    "# check for null values in jobsat column\n",
    "print('dataset contains', df['Age'].isna().sum(), 'nan values')\n"
   ]
  },
  {
   "cell_type": "code",
   "execution_count": null,
   "id": "55abfec9",
   "metadata": {},
   "outputs": [],
   "source": [
    "# 'Age' unique responses\n",
    "print(list(df.Age.unique()))\n"
   ]
  },
  {
   "cell_type": "code",
   "execution_count": null,
   "id": "85421a1c",
   "metadata": {},
   "outputs": [],
   "source": [
    "# drop NaNs\n",
    "df = df.dropna(subset=['Age'], axis=0)\n"
   ]
  },
  {
   "cell_type": "code",
   "execution_count": null,
   "id": "dd0779e9",
   "metadata": {},
   "outputs": [],
   "source": [
    "df.shape\n"
   ]
  },
  {
   "cell_type": "markdown",
   "id": "6826b671",
   "metadata": {},
   "source": [
    "# Age1stCode"
   ]
  },
  {
   "cell_type": "code",
   "execution_count": null,
   "id": "8385b464",
   "metadata": {},
   "outputs": [],
   "source": [
    "# drop nulls Years Coding responses\n",
    "df = df[df['Age1stCode'].notnull()]\n"
   ]
  },
  {
   "cell_type": "code",
   "execution_count": null,
   "id": "71dc2546",
   "metadata": {},
   "outputs": [],
   "source": [
    "# replace 'Less than 1 year' with 0; 'More than 50 years' with 51\n",
    "df['Age1stCode'] = df['Age1stCode'].str.replace('Younger than 5 years', '4')\n",
    "df['Age1stCode'] = df['Age1stCode'].str.replace('Older than 85', '85')\n"
   ]
  },
  {
   "cell_type": "code",
   "execution_count": null,
   "id": "3ad89e93",
   "metadata": {},
   "outputs": [],
   "source": [
    "# convert 'Age1stCode' to type integer\n",
    "df['Age1stCode'] = df['Age1stCode'].astype(str).astype(int)\n"
   ]
  },
  {
   "cell_type": "code",
   "execution_count": null,
   "id": "15814ea2",
   "metadata": {},
   "outputs": [],
   "source": [
    "df.shape\n"
   ]
  },
  {
   "cell_type": "markdown",
   "id": "d6a2e5aa",
   "metadata": {},
   "source": [
    "# ConvertedComp\n"
   ]
  },
  {
   "cell_type": "code",
   "execution_count": null,
   "id": "caa7bc3d",
   "metadata": {},
   "outputs": [],
   "source": [
    "# drop nulls from ConvertedComp column\n",
    "df = df[df['ConvertedComp'].notnull()]\n",
    "\n",
    "df['ConvertedComp'].head()\n"
   ]
  },
  {
   "cell_type": "code",
   "execution_count": null,
   "id": "cedec741",
   "metadata": {},
   "outputs": [],
   "source": [
    "df.shape\n"
   ]
  },
  {
   "cell_type": "markdown",
   "id": "60f88a9d",
   "metadata": {},
   "source": [
    "# EdLevel"
   ]
  },
  {
   "cell_type": "code",
   "execution_count": null,
   "id": "5176cdc2",
   "metadata": {},
   "outputs": [],
   "source": [
    "# drop nan job factors\n",
    "df = df.dropna(subset=['EdLevel'], axis=0)\n"
   ]
  },
  {
   "cell_type": "code",
   "execution_count": null,
   "id": "0f11313f",
   "metadata": {},
   "outputs": [],
   "source": [
    "# create ordinal encoding for education level\n",
    "\n",
    "EdLevel_dict = {'I never completed any formal education':1,\n",
    "               'Primary/elementary school':2,\n",
    "               'Secondary school (e.g. American high school, German Realschule or Gymnasium, etc.)':3,\n",
    "               'Associate degree (A.A., A.S., etc.)': 4,\n",
    "               'Some college/university study without earning a degree':5,\n",
    "               'Bachelor’s degree (B.A., B.S., B.Eng., etc.)':6,\n",
    "               'Master’s degree (M.A., M.S., M.Eng., MBA, etc.)':7,\n",
    "               'Professional degree (JD, MD, etc.)':8,\n",
    "               'Other doctoral degree (Ph.D., Ed.D., etc.)':9}\n"
   ]
  },
  {
   "cell_type": "code",
   "execution_count": null,
   "id": "ec565a1e",
   "metadata": {},
   "outputs": [],
   "source": [
    "pwd"
   ]
  },
  {
   "cell_type": "code",
   "execution_count": null,
   "id": "edf14dd4",
   "metadata": {},
   "outputs": [],
   "source": [
    "# import helper files\n",
    "from helper_functions.helper_functions import replace_values_in_string\n"
   ]
  },
  {
   "cell_type": "code",
   "execution_count": null,
   "id": "c127ac75",
   "metadata": {},
   "outputs": [],
   "source": [
    "# replace values in string function\n",
    "# https://stackoverflow.com/questions/14156473/can-you-write-a-str-replace-using-dictionary-values-in-python\n",
    "\n",
    "def replace_values_in_string(text, args_dict):\n",
    "    for key in args_dict.keys():\n",
    "        text = text.replace(key, str(args_dict[key]))\n",
    "    return text\n"
   ]
  },
  {
   "cell_type": "code",
   "execution_count": null,
   "id": "fcf92c0e",
   "metadata": {},
   "outputs": [],
   "source": [
    "# encode EdLevel as integer\n",
    "df['EdLevel_encode'] = replace_values_in_string(df.EdLevel, EdLevel_dict)\n"
   ]
  },
  {
   "cell_type": "code",
   "execution_count": null,
   "id": "6c454d44",
   "metadata": {},
   "outputs": [],
   "source": [
    "# inspect data\n",
    "df.EdLevel_encode\n"
   ]
  },
  {
   "cell_type": "code",
   "execution_count": null,
   "id": "bab2e348",
   "metadata": {},
   "outputs": [],
   "source": [
    "df.shape\n"
   ]
  },
  {
   "cell_type": "markdown",
   "id": "8605e843",
   "metadata": {},
   "source": [
    "# Target Variable: Job Satisfaction \n",
    "* simplified binary classification problem\n",
    "* ordinal classification\n"
   ]
  },
  {
   "cell_type": "code",
   "execution_count": null,
   "id": "13692da7",
   "metadata": {},
   "outputs": [],
   "source": [
    "# check for NaNs\n",
    "df['JobSat'].isna().sum()\n"
   ]
  },
  {
   "cell_type": "code",
   "execution_count": null,
   "id": "ed4a0520",
   "metadata": {},
   "outputs": [],
   "source": [
    "# drop NaNs\n",
    "df = df.dropna(subset=['JobSat'], axis=0)\n"
   ]
  },
  {
   "cell_type": "code",
   "execution_count": null,
   "id": "88e35ac7",
   "metadata": {},
   "outputs": [],
   "source": [
    "# encode job satisfaction string values to encoded categorical values \n",
    "JobSat_dict = {\n",
    "    'Very satisfied': 5,\n",
    "    'Slightly satisfied': 4,\n",
    "    'Neither satisfied nor dissatisfied': 3,\n",
    "    'Slightly dissatisfied' : 2,\n",
    "    'Very dissatisfied' : 1\n",
    "    }\n"
   ]
  },
  {
   "cell_type": "code",
   "execution_count": null,
   "id": "d4a40775",
   "metadata": {},
   "outputs": [],
   "source": [
    "# encode JobSat\n",
    "df['JobSat_encode'] = replace_values_in_string(df.JobSat, JobSat_dict)\n"
   ]
  },
  {
   "cell_type": "code",
   "execution_count": null,
   "id": "59ec921b",
   "metadata": {},
   "outputs": [],
   "source": [
    "df['JobSat_encode'].head()\n"
   ]
  },
  {
   "cell_type": "code",
   "execution_count": null,
   "id": "c3c8519f",
   "metadata": {},
   "outputs": [],
   "source": [
    "#  Encode 'JobSat' feature column as a Binary classification problem:\n",
    "\n",
    "# 'Very satisfied,'Slightly satisfied' = 1\n",
    "# 'Neither satisfied nor dissatisfied','Slightly dissatisfied','Very dissatisfied' = 0\n",
    "\n",
    "JobSat_bin_map = {\n",
    "    'Very satisfied': 1,\n",
    "    'Slightly satisfied': 1,\n",
    "    'Neither satisfied nor dissatisfied': 0,\n",
    "    'Slightly dissatisfied' : 0,\n",
    "    'Very dissatisfied' : 0\n",
    "    }\n",
    "\n",
    "df['JobSat_encode_bin'] = df['JobSat'].replace(JobSat_bin_map)\n"
   ]
  },
  {
   "cell_type": "code",
   "execution_count": null,
   "id": "39824ac2",
   "metadata": {},
   "outputs": [],
   "source": [
    "df['JobSat_encode_bin'].head()\n"
   ]
  },
  {
   "cell_type": "code",
   "execution_count": null,
   "id": "3a5aea49",
   "metadata": {},
   "outputs": [],
   "source": [
    "df.shape"
   ]
  },
  {
   "cell_type": "markdown",
   "id": "bacdb26e",
   "metadata": {},
   "source": [
    "# JobFactors"
   ]
  },
  {
   "cell_type": "code",
   "execution_count": null,
   "id": "b35d2d3c",
   "metadata": {},
   "outputs": [],
   "source": [
    "# drop NaNs\n",
    "# df = df.dropna(subset=['JobFactors'], axis=0)\n"
   ]
  },
  {
   "cell_type": "code",
   "execution_count": null,
   "id": "aff942d4",
   "metadata": {},
   "outputs": [],
   "source": [
    "JobFactors_strs\n"
   ]
  },
  {
   "cell_type": "markdown",
   "id": "7cfe76d9",
   "metadata": {},
   "source": [
    "**ENCODE JOBFACTORS**"
   ]
  },
  {
   "cell_type": "code",
   "execution_count": null,
   "id": "87ea4569",
   "metadata": {},
   "outputs": [],
   "source": [
    "# https://stackoverflow.com/questions/54757552/how-to-add-dummies-to-pandas-dataframe\n",
    "\n",
    "# get one hot encoding of non-ordinal feature column\n",
    "one_hot_job_factors = pd.get_dummies(df[['JobFactors']])\n",
    "\n",
    "\n",
    "# drop feature column & add encoded features\n",
    "## df = df.drop('JobFactors', axis=1)\n",
    "# join encoded feature to df\n",
    "##df = df.join(one_hot_job_factors)\n",
    "\n",
    "one_hot_job_factors.head(3)\n"
   ]
  },
  {
   "cell_type": "code",
   "execution_count": null,
   "id": "3b1a4014",
   "metadata": {},
   "outputs": [],
   "source": [
    "# check expanded feature df\n",
    "print('df with features:', df.shape)\n"
   ]
  },
  {
   "cell_type": "code",
   "execution_count": null,
   "id": "bcf82779",
   "metadata": {},
   "outputs": [],
   "source": [
    "df.shape"
   ]
  },
  {
   "cell_type": "markdown",
   "id": "e72c5d68",
   "metadata": {},
   "source": [
    "# JobSeek"
   ]
  },
  {
   "cell_type": "code",
   "execution_count": null,
   "id": "61b2fc1c",
   "metadata": {},
   "outputs": [],
   "source": [
    "# drop NaNs\n",
    "df = df.dropna(subset=['JobSeek'], axis=0)\n"
   ]
  },
  {
   "cell_type": "code",
   "execution_count": null,
   "id": "7635b166",
   "metadata": {},
   "outputs": [],
   "source": [
    "# jobseek encoding dictionary\n",
    "JobSeek_dict = {'I am actively looking for a job': 0,\n",
    "                 'I’m not actively looking, but I am open to new opportunities': 1,\n",
    "                 'I am not interested in new job opportunities': 2}\n"
   ]
  },
  {
   "cell_type": "code",
   "execution_count": null,
   "id": "7a6c65b9",
   "metadata": {},
   "outputs": [],
   "source": [
    "# encode JobSeek as integer\n",
    "df['JobSeek_encode'] = replace_values_in_string(df.JobSeek, JobSeek_dict)\n"
   ]
  },
  {
   "cell_type": "code",
   "execution_count": null,
   "id": "cea19b56",
   "metadata": {},
   "outputs": [],
   "source": [
    "df['JobSeek_encode']\n"
   ]
  },
  {
   "cell_type": "code",
   "execution_count": null,
   "id": "7dd35f6f",
   "metadata": {},
   "outputs": [],
   "source": [
    "df.shape"
   ]
  },
  {
   "cell_type": "markdown",
   "id": "e5db2636",
   "metadata": {},
   "source": [
    "# WorkWeekHrs\n",
    "* remove NaNs\n",
    "* impute NaNs"
   ]
  },
  {
   "cell_type": "code",
   "execution_count": null,
   "id": "e1f19670",
   "metadata": {},
   "outputs": [],
   "source": [
    "# drop NaN WorkWeekHrs\n",
    "df = df.dropna(subset=['WorkWeekHrs'], axis=0)\n"
   ]
  },
  {
   "cell_type": "code",
   "execution_count": null,
   "id": "a3f77a61",
   "metadata": {},
   "outputs": [],
   "source": [
    "df.shape\n"
   ]
  },
  {
   "cell_type": "markdown",
   "id": "555592c3",
   "metadata": {},
   "source": [
    "# YearsCode"
   ]
  },
  {
   "cell_type": "code",
   "execution_count": null,
   "id": "8385902e",
   "metadata": {},
   "outputs": [],
   "source": [
    "# drop nulls Years Coding responses\n",
    "df = df[df['YearsCode'].notnull()]\n"
   ]
  },
  {
   "cell_type": "code",
   "execution_count": null,
   "id": "50b628f9",
   "metadata": {},
   "outputs": [],
   "source": [
    "# replace 'Less than 1 year' with 0\n",
    "# replace 'More than 50 years' with 51\n",
    "df['YearsCode'] = df['YearsCode'].str.replace('Less than 1 year', '0')\n",
    "df['YearsCode'] = df['YearsCode'].str.replace('More than 50 years', '51')\n"
   ]
  },
  {
   "cell_type": "code",
   "execution_count": null,
   "id": "80261524",
   "metadata": {},
   "outputs": [],
   "source": [
    "# convert 'Age1stCode' to type integer\n",
    "df['YearsCode'] = df['YearsCode'].astype(str).astype(int)\n"
   ]
  },
  {
   "cell_type": "code",
   "execution_count": null,
   "id": "5e4121ea",
   "metadata": {},
   "outputs": [],
   "source": [
    "df['YearsCode'].head()\n"
   ]
  },
  {
   "cell_type": "code",
   "execution_count": null,
   "id": "2f87a4dc",
   "metadata": {},
   "outputs": [],
   "source": [
    "df.shape\n"
   ]
  },
  {
   "cell_type": "markdown",
   "id": "3c556e8e",
   "metadata": {},
   "source": [
    "# YearsCodePro"
   ]
  },
  {
   "cell_type": "code",
   "execution_count": null,
   "id": "1e1d1827",
   "metadata": {},
   "outputs": [],
   "source": [
    "# drop nulls Years Coding responses\n",
    "df = df[df['YearsCodePro'].notnull()]\n"
   ]
  },
  {
   "cell_type": "code",
   "execution_count": null,
   "id": "7f97f3ea",
   "metadata": {},
   "outputs": [],
   "source": [
    "# replace 'Less than 1 year' with 0\n",
    "# replace 'More than 50 years' with 51\n",
    "df['YearsCodePro'] = df['YearsCodePro'].str.replace('Less than 1 year', '0')\n",
    "df['YearsCodePro'] = df['YearsCodePro'].str.replace('More than 50 years', '51')\n"
   ]
  },
  {
   "cell_type": "code",
   "execution_count": null,
   "id": "8c809c89",
   "metadata": {},
   "outputs": [],
   "source": [
    "# convert 'Age1stCode' to type integer\n",
    "df['YearsCodePro'] = df['YearsCodePro'].astype(str).astype(int)\n"
   ]
  },
  {
   "cell_type": "code",
   "execution_count": null,
   "id": "1e2ff326",
   "metadata": {},
   "outputs": [],
   "source": [
    "df['YearsCodePro'].head()\n"
   ]
  },
  {
   "cell_type": "code",
   "execution_count": null,
   "id": "691b3915",
   "metadata": {},
   "outputs": [],
   "source": [
    "df.shape\n"
   ]
  },
  {
   "cell_type": "markdown",
   "id": "cf87a509",
   "metadata": {},
   "source": [
    "RESET INDEX"
   ]
  },
  {
   "cell_type": "code",
   "execution_count": null,
   "id": "17e661da",
   "metadata": {},
   "outputs": [],
   "source": [
    "# reset index\n",
    "df = df.reset_index(drop=True)\n"
   ]
  },
  {
   "cell_type": "markdown",
   "id": "88b57761",
   "metadata": {},
   "source": [
    "PRUNE DATASET FOR MODELING \n"
   ]
  },
  {
   "cell_type": "code",
   "execution_count": null,
   "id": "eb8cffd5",
   "metadata": {},
   "outputs": [],
   "source": [
    "list(df.columns)\n"
   ]
  },
  {
   "cell_type": "code",
   "execution_count": null,
   "id": "7c022b8d",
   "metadata": {},
   "outputs": [],
   "source": [
    "df.head()"
   ]
  },
  {
   "cell_type": "code",
   "execution_count": null,
   "id": "b90f4c60",
   "metadata": {},
   "outputs": [],
   "source": [
    "# drop original feature columns\n",
    "# ordinal encoding of 'JobSat' is dropped\n",
    "df.drop(['Hobbyist', 'EdLevel', 'JobSat','JobFactors','JobSeek', 'JobSat_encode'], axis=1, inplace=True)\n"
   ]
  },
  {
   "cell_type": "code",
   "execution_count": null,
   "id": "9c1636bf",
   "metadata": {},
   "outputs": [],
   "source": [
    "df.shape\n"
   ]
  },
  {
   "cell_type": "code",
   "execution_count": null,
   "id": "c6959306",
   "metadata": {},
   "outputs": [],
   "source": [
    "interrupt before overwrite"
   ]
  },
  {
   "cell_type": "code",
   "execution_count": null,
   "id": "3ad2abc8",
   "metadata": {},
   "outputs": [],
   "source": []
  },
  {
   "cell_type": "code",
   "execution_count": null,
   "id": "0cc595fa",
   "metadata": {},
   "outputs": [],
   "source": []
  },
  {
   "cell_type": "code",
   "execution_count": null,
   "id": "7760f00c",
   "metadata": {},
   "outputs": [],
   "source": []
  }
 ],
 "metadata": {
  "kernelspec": {
   "display_name": "Python 3 (ipykernel)",
   "language": "python",
   "name": "python3"
  },
  "language_info": {
   "codemirror_mode": {
    "name": "ipython",
    "version": 3
   },
   "file_extension": ".py",
   "mimetype": "text/x-python",
   "name": "python",
   "nbconvert_exporter": "python",
   "pygments_lexer": "ipython3",
   "version": "3.9.7"
  }
 },
 "nbformat": 4,
 "nbformat_minor": 5
}
