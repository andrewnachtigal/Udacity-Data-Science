{
 "cells": [
  {
   "cell_type": "markdown",
   "id": "59673cf3",
   "metadata": {},
   "source": [
    "## PySpark Tools"
   ]
  },
  {
   "cell_type": "markdown",
   "id": "e9f3a337",
   "metadata": {},
   "source": [
    "# Customer Churn Prediction Model\n",
    "\n",
    "* The goal of a customer churn model is to evaluate the behaviors and attributes of current and former customers to determine trends that lead to churn.\n",
    "* Several behavioral factors that are widely used in these models are customer purchase intervals, cancellations, follow-up calls, emails, and on-page engagement. Customer attributes, like demographics, location, and income, can also be indicators of churn likelihood.\n",
    "\n",
    "* Customer churn models are generally created with a classification algorithm, like logistic regression or decision trees. For these algorithms, all categorical data must be converted into a numerical equivalent using techniques like one-hot-encoding."
   ]
  },
  {
   "cell_type": "code",
   "execution_count": 1,
   "id": "6bcbc38a",
   "metadata": {},
   "outputs": [],
   "source": [
    "# import libraries\n",
    "import numpy as np\n",
    "import pandas as pd\n",
    "import matplotlib.pyplot as plt\n",
    "import seaborn as sns\n",
    "\n",
    "# import pyspark\n",
    "from pyspark import SparkContext, SparkConf\n",
    "from pyspark.sql import SparkSession\n",
    "from pyspark.sql import Window\n",
    "\n",
    "# import pyspark analytic functions\n",
    "from pyspark.sql.functions import avg, col, concat, count, desc, isnull, \\\n",
    "asc, explode, lit, min, max, split, stddev, udf, isnan, when, rank, \\\n",
    "log, sqrt, cbrt, exp, count, isnan, countDistinct\n",
    "from sklearn.preprocessing import LabelEncoder \n"
   ]
  },
  {
   "cell_type": "code",
   "execution_count": 41,
   "id": "7813cd0b",
   "metadata": {},
   "outputs": [],
   "source": [
    "# import pyspark analytic functions\n",
    "from pyspark.sql import functions as F, window\n",
    "from pyspark.sql.types import IntegerType\n",
    "from pyspark.sql.functions import min as Fmin, max as Fmax, sum as Fsum, round as Fround\n",
    "from pyspark.sql.types import IntegerType, DateType, TimestampType, StringType\n"
   ]
  },
  {
   "cell_type": "code",
   "execution_count": 3,
   "id": "a361852b",
   "metadata": {},
   "outputs": [
    {
     "name": "stdout",
     "output_type": "stream",
     "text": [
      "22/11/05 14:27:29 WARN Utils: Your hostname, Andrews-MacBook-Pro.local resolves to a loopback address: 127.0.0.1; using 10.0.0.39 instead (on interface en0)\n",
      "22/11/05 14:27:29 WARN Utils: Set SPARK_LOCAL_IP if you need to bind to another address\n"
     ]
    },
    {
     "name": "stderr",
     "output_type": "stream",
     "text": [
      "Setting default log level to \"WARN\".\n",
      "To adjust logging level use sc.setLogLevel(newLevel). For SparkR, use setLogLevel(newLevel).\n"
     ]
    },
    {
     "name": "stdout",
     "output_type": "stream",
     "text": [
      "22/11/05 14:27:30 WARN NativeCodeLoader: Unable to load native-hadoop library for your platform... using builtin-java classes where applicable\n",
      "22/11/05 14:27:31 WARN Utils: Service 'SparkUI' could not bind on port 4040. Attempting port 4041.\n",
      "22/11/05 14:27:31 WARN Utils: Service 'SparkUI' could not bind on port 4041. Attempting port 4042.\n"
     ]
    }
   ],
   "source": [
    "# Create a Spark session\n",
    "spark = SparkSession \\\n",
    "    .builder \\\n",
    "    .appName(\"Sparkify\") \\\n",
    "    .getOrCreate()\n"
   ]
  },
  {
   "cell_type": "markdown",
   "id": "7724cda8",
   "metadata": {},
   "source": [
    "# Load and Clean Dataset\n",
    "In this workspace, the mini-dataset file is `mini_sparkify_event_data.json`. Load and clean the dataset, checking for invalid or missing data - for example, records without userids or sessionids. \n",
    "\n"
   ]
  },
  {
   "cell_type": "code",
   "execution_count": 4,
   "id": "14469555",
   "metadata": {},
   "outputs": [
    {
     "name": "stderr",
     "output_type": "stream",
     "text": [
      "                                                                                \r"
     ]
    },
    {
     "data": {
      "text/plain": [
       "[Row(artist='Martha Tilston', auth='Logged In', firstName='Colin', gender='M', itemInSession=50, lastName='Freeman', length=277.89016, level='paid', location='Bakersfield, CA', method='PUT', page='NextSong', registration=1538173362000, sessionId=29, song='Rockpools', status=200, ts=1538352117000, userAgent='Mozilla/5.0 (Windows NT 6.1; WOW64; rv:31.0) Gecko/20100101 Firefox/31.0', userId='30')]"
      ]
     },
     "execution_count": 4,
     "metadata": {},
     "output_type": "execute_result"
    }
   ],
   "source": [
    "# load data\n",
    "path = \"data/mini_sparkify_event_data.json\"\n",
    "spark.sql(\"set spark.sql.legacy.timeParserPolicy=LEGACY\")\n",
    "df = spark.read.json(path)\n",
    "df.createOrReplaceTempView(\"df\")\n",
    "df.take(1)\n"
   ]
  },
  {
   "cell_type": "markdown",
   "id": "7e1ff2f6",
   "metadata": {},
   "source": [
    "## Examine Dataframe Schema\n",
    "* show dataframe columns names & datatype\n"
   ]
  },
  {
   "cell_type": "code",
   "execution_count": 5,
   "id": "562ecd5a",
   "metadata": {},
   "outputs": [
    {
     "name": "stdout",
     "output_type": "stream",
     "text": [
      "root\n",
      " |-- artist: string (nullable = true)\n",
      " |-- auth: string (nullable = true)\n",
      " |-- firstName: string (nullable = true)\n",
      " |-- gender: string (nullable = true)\n",
      " |-- itemInSession: long (nullable = true)\n",
      " |-- lastName: string (nullable = true)\n",
      " |-- length: double (nullable = true)\n",
      " |-- level: string (nullable = true)\n",
      " |-- location: string (nullable = true)\n",
      " |-- method: string (nullable = true)\n",
      " |-- page: string (nullable = true)\n",
      " |-- registration: long (nullable = true)\n",
      " |-- sessionId: long (nullable = true)\n",
      " |-- song: string (nullable = true)\n",
      " |-- status: long (nullable = true)\n",
      " |-- ts: long (nullable = true)\n",
      " |-- userAgent: string (nullable = true)\n",
      " |-- userId: string (nullable = true)\n",
      "\n"
     ]
    }
   ],
   "source": [
    "# print schema\n",
    "df.printSchema()\n"
   ]
  },
  {
   "cell_type": "markdown",
   "id": "44ea9237",
   "metadata": {},
   "source": [
    "## Examine Elements of Dataframe\n"
   ]
  },
  {
   "cell_type": "markdown",
   "id": "9b971fa5",
   "metadata": {},
   "source": [
    "### Examine Elements by Column\n"
   ]
  },
  {
   "cell_type": "code",
   "execution_count": 6,
   "id": "708f59fe",
   "metadata": {},
   "outputs": [
    {
     "name": "stdout",
     "output_type": "stream",
     "text": [
      "+----------------+---------+---------+------+-------------+--------+---------+-----+--------------------+------+\n",
      "|          artist|     auth|firstName|gender|itemInSession|lastName|   length|level|            location|method|\n",
      "+----------------+---------+---------+------+-------------+--------+---------+-----+--------------------+------+\n",
      "|  Martha Tilston|Logged In|    Colin|     M|           50| Freeman|277.89016| paid|     Bakersfield, CA|   PUT|\n",
      "|Five Iron Frenzy|Logged In|    Micah|     M|           79|    Long|236.09424| free|Boston-Cambridge-...|   PUT|\n",
      "|    Adam Lambert|Logged In|    Colin|     M|           51| Freeman| 282.8273| paid|     Bakersfield, CA|   PUT|\n",
      "|          Enigma|Logged In|    Micah|     M|           80|    Long|262.71302| free|Boston-Cambridge-...|   PUT|\n",
      "|       Daft Punk|Logged In|    Colin|     M|           52| Freeman|223.60771| paid|     Bakersfield, CA|   PUT|\n",
      "+----------------+---------+---------+------+-------------+--------+---------+-----+--------------------+------+\n",
      "only showing top 5 rows\n",
      "\n"
     ]
    }
   ],
   "source": [
    "# show first rows\n",
    "df.select('artist', 'auth', 'firstName', 'gender', 'itemInSession', 'lastName', \\\n",
    "          'length', 'level', 'location', 'method').show(5)\n"
   ]
  },
  {
   "cell_type": "code",
   "execution_count": 7,
   "id": "99a421da",
   "metadata": {},
   "outputs": [
    {
     "name": "stdout",
     "output_type": "stream",
     "text": [
      "+--------+-------------+---------+--------------------+------+-------------+--------------------+------+\n",
      "|    page| registration|sessionId|                song|status|           ts|           userAgent|userId|\n",
      "+--------+-------------+---------+--------------------+------+-------------+--------------------+------+\n",
      "|NextSong|1538173362000|       29|           Rockpools|   200|1538352117000|Mozilla/5.0 (Wind...|    30|\n",
      "|NextSong|1538331630000|        8|              Canada|   200|1538352180000|\"Mozilla/5.0 (Win...|     9|\n",
      "|NextSong|1538173362000|       29|   Time For Miracles|   200|1538352394000|Mozilla/5.0 (Wind...|    30|\n",
      "|NextSong|1538331630000|        8|Knocking On Forbi...|   200|1538352416000|\"Mozilla/5.0 (Win...|     9|\n",
      "|NextSong|1538173362000|       29|Harder Better Fas...|   200|1538352676000|Mozilla/5.0 (Wind...|    30|\n",
      "+--------+-------------+---------+--------------------+------+-------------+--------------------+------+\n",
      "only showing top 5 rows\n",
      "\n"
     ]
    }
   ],
   "source": [
    "# show first rows\n",
    "df.select('page', 'registration', 'sessionId', 'song', 'status', 'ts', 'userAgent', \\\n",
    "          'userId').show(5)\n"
   ]
  },
  {
   "cell_type": "code",
   "execution_count": 8,
   "id": "997eb926",
   "metadata": {},
   "outputs": [
    {
     "name": "stdout",
     "output_type": "stream",
     "text": [
      "+-------------+-------------+\n",
      "| registration|           ts|\n",
      "+-------------+-------------+\n",
      "|1538173362000|1538352117000|\n",
      "|1538331630000|1538352180000|\n",
      "|1538173362000|1538352394000|\n",
      "|1538331630000|1538352416000|\n",
      "|1538173362000|1538352676000|\n",
      "+-------------+-------------+\n",
      "only showing top 5 rows\n",
      "\n"
     ]
    }
   ],
   "source": [
    "# show first rows\n",
    "df.select('registration', 'ts').show(5)\n"
   ]
  },
  {
   "cell_type": "markdown",
   "id": "a40f9281",
   "metadata": {},
   "source": [
    "## Clean Missing & Empty Values\n",
    "\n",
    "* For string columns, check for None and null\n",
    "* For numeric columns, check for zeroes and NaN\n"
   ]
  },
  {
   "cell_type": "code",
   "execution_count": 9,
   "id": "2fa1e09e",
   "metadata": {},
   "outputs": [
    {
     "name": "stderr",
     "output_type": "stream",
     "text": [
      "                                                                                \r"
     ]
    },
    {
     "name": "stdout",
     "output_type": "stream",
     "text": [
      "( artist ) missing values:  58392\n",
      "( auth ) missing values:  0\n",
      "( firstName ) missing values:  8346\n",
      "( gender ) missing values:  8346\n"
     ]
    },
    {
     "name": "stderr",
     "output_type": "stream",
     "text": [
      "\r",
      "[Stage 17:>                                                         (0 + 4) / 4]\r",
      "\r",
      "                                                                                \r"
     ]
    },
    {
     "name": "stdout",
     "output_type": "stream",
     "text": [
      "( itemInSession ) missing values:  0\n",
      "( lastName ) missing values:  8346\n",
      "( length ) missing values:  58392\n",
      "( level ) missing values:  0\n",
      "( location ) missing values:  8346\n",
      "( method ) missing values:  0\n",
      "( page ) missing values:  0\n",
      "( registration ) missing values:  8346\n",
      "( sessionId ) missing values:  0\n",
      "( song ) missing values:  58392\n",
      "( status ) missing values:  0\n",
      "( ts ) missing values:  0\n",
      "( userAgent ) missing values:  8346\n",
      "( userId ) missing values:  0\n"
     ]
    }
   ],
   "source": [
    "# Check for missing values\n",
    "for value in df.columns:\n",
    "    print (\"(\",value,\") missing values: \", df.where(df[value].isNull()).count())\n",
    "    "
   ]
  },
  {
   "cell_type": "code",
   "execution_count": 10,
   "id": "b382391e",
   "metadata": {},
   "outputs": [
    {
     "name": "stdout",
     "output_type": "stream",
     "text": [
      "( artist ) empty values:  0\n",
      "( auth ) empty values:  0\n",
      "( firstName ) empty values:  0\n",
      "( gender ) empty values:  0\n",
      "( itemInSession ) empty values:  0\n",
      "( lastName ) empty values:  0\n",
      "( length ) empty values:  0\n",
      "( level ) empty values:  0\n",
      "( location ) empty values:  0\n",
      "( method ) empty values:  0\n",
      "( page ) empty values:  0\n",
      "( registration ) empty values:  0\n",
      "( sessionId ) empty values:  0\n",
      "( song ) empty values:  0\n",
      "( status ) empty values:  0\n",
      "( ts ) empty values:  0\n",
      "( userAgent ) empty values:  0\n",
      "( userId ) empty values:  8346\n"
     ]
    }
   ],
   "source": [
    "# Check for empty values\n",
    "for value in df.columns:\n",
    "    print (\"(\",value,\") empty values: \", df.filter(df[value] == '').count())\n",
    "    "
   ]
  },
  {
   "cell_type": "markdown",
   "id": "e9ea17ce",
   "metadata": {},
   "source": [
    "### Remove Columns with Missing userId  or sessionId Entries\n",
    "* Remove entries with missing userId or sessionId"
   ]
  },
  {
   "cell_type": "code",
   "execution_count": 11,
   "id": "4aec9ded",
   "metadata": {},
   "outputs": [
    {
     "name": "stdout",
     "output_type": "stream",
     "text": [
      "There are 286500 rows in the dataset.\n",
      " 0 missing values in userId or sessionId.\n"
     ]
    }
   ],
   "source": [
    "# Remove records with missing values in userId or sessionId\n",
    "num_rows = df.count()\n",
    "print(f\"There are {df.count()} rows in the dataset\")\n",
    "\n",
    "df = df.dropna(how = 'any', subset = ['userId', 'sessionId'])\n",
    "print(f\" {num_rows - df.count()} missing values\")\n"
   ]
  },
  {
   "cell_type": "code",
   "execution_count": 12,
   "id": "bf8bbc99",
   "metadata": {},
   "outputs": [],
   "source": [
    "# Remove columns with empty userId\n",
    "df = df.filter(df.userId != \"\")\n"
   ]
  },
  {
   "cell_type": "code",
   "execution_count": 45,
   "id": "8e800af3",
   "metadata": {},
   "outputs": [
    {
     "name": "stderr",
     "output_type": "stream",
     "text": [
      "                                                                                \r"
     ]
    },
    {
     "data": {
      "text/plain": [
       "278154"
      ]
     },
     "execution_count": 45,
     "metadata": {},
     "output_type": "execute_result"
    }
   ],
   "source": [
    "# count records after filter\n",
    "df.count()\n"
   ]
  },
  {
   "cell_type": "markdown",
   "id": "c5276c08",
   "metadata": {},
   "source": [
    "# Exploratory Data Analysis\n",
    "When you're working with the full dataset, perform EDA by loading a small subset of the data and doing basic manipulations within Spark. In this workspace, you are already provided a small subset of data you can explore.\n",
    "\n",
    "### Define Churn\n",
    "\n",
    "Once you've done some preliminary analysis, create a column `Churn` to use as the label for your model. I suggest using the `Cancellation Confirmation` events to define your churn, which happen for both paid and free users. As a bonus task, you can also look into the `Downgrade` events.\n",
    "\n",
    "### Explore Data\n",
    "Once you've defined churn, perform some exploratory data analysis to observe the behavior for users who stayed vs users who churned. You can start by exploring aggregates on these two groups of users, observing how much of a specific action they experienced per a certain time unit or number of songs played."
   ]
  },
  {
   "cell_type": "markdown",
   "id": "069088b9",
   "metadata": {},
   "source": [
    "### Cancellation Event Churn"
   ]
  },
  {
   "cell_type": "code",
   "execution_count": 13,
   "id": "86c60ac1",
   "metadata": {},
   "outputs": [],
   "source": [
    "# define churn cancellation event\n",
    "churn_cancel = udf(lambda x: 1 if x == \"Cancellation Confirmation\" else 0, IntegerType())\n",
    "df = df.withColumn(\"churn\", churn_cancel(\"page\"))\n"
   ]
  },
  {
   "cell_type": "code",
   "execution_count": 14,
   "id": "822f1208",
   "metadata": {},
   "outputs": [
    {
     "name": "stderr",
     "output_type": "stream",
     "text": [
      "\r",
      "[Stage 116:>                                                        (0 + 4) / 4]\r"
     ]
    },
    {
     "name": "stdout",
     "output_type": "stream",
     "text": [
      "23.1% of users churned.\n"
     ]
    },
    {
     "name": "stderr",
     "output_type": "stream",
     "text": [
      "\r",
      "[Stage 116:============================>                            (2 + 2) / 4]\r",
      "\r",
      "                                                                                \r"
     ]
    }
   ],
   "source": [
    "# Percent users who have cancelled/churned\n",
    "churn_percent = df.groupBy('userId').agg({'churn': 'sum'})\\\n",
    "    .select(avg('sum(churn)')).collect()[0]['avg(sum(churn))']\n",
    "print(f\"{round(churn_percent * 100, 1)}% of users churned.\")\n"
   ]
  },
  {
   "cell_type": "markdown",
   "id": "f93b6789",
   "metadata": {},
   "source": [
    "## Exploratory Data Analysis\n"
   ]
  },
  {
   "cell_type": "markdown",
   "id": "35592e34",
   "metadata": {},
   "source": [
    "**Compare user behavior between churn and not churn.**"
   ]
  },
  {
   "cell_type": "code",
   "execution_count": 34,
   "id": "ec131776",
   "metadata": {},
   "outputs": [
    {
     "name": "stderr",
     "output_type": "stream",
     "text": [
      "                                                                                \r"
     ]
    },
    {
     "data": {
      "image/png": "[encoded data removed]",
      "text/plain": [
       "<Figure size 432x288 with 1 Axes>"
      ]
     },
     "metadata": {
      "needs_background": "light"
     },
     "output_type": "display_data"
    }
   ],
   "source": [
    "# plot churn ratio for unique users\n",
    "user_churn = df.dropDuplicates([\"userId\", \"Churn\"]).groupby([\"Churn\"]).count().sort(\"Churn\").toPandas()\n",
    "ax = sns.barplot(x='Churn', y='count', data=user_churn, palette='tab20c')\n",
    "plt.title('Churn Ratio of Unique Users', size=14, fontweight = 'bold')\n",
    "plt.xlabel('churn', fontsize=12, weight='bold')\n",
    "plt.ylabel('count', fontsize=12, weight='bold')\n",
    "sns.despine(ax=ax);\n",
    "plt.savefig('plots/total_churn_ratio.png')\n"
   ]
  },
  {
   "cell_type": "code",
   "execution_count": 33,
   "id": "32a8dde6",
   "metadata": {},
   "outputs": [
    {
     "name": "stderr",
     "output_type": "stream",
     "text": [
      "                                                                                \r"
     ]
    },
    {
     "data": {
      "image/png": "[encoded data removed]",
      "text/plain": [
       "<Figure size 432x288 with 1 Axes>"
      ]
     },
     "metadata": {
      "needs_background": "light"
     },
     "output_type": "display_data"
    }
   ],
   "source": [
    "# plot churn ratio for paid and free subscribers \n",
    "subscription_churn = df.dropDuplicates([\"userId\", \"level\",'Churn']).groupby([\"Churn\",'level']).count().sort(\"Churn\").toPandas()\n",
    "ax = sns.barplot(x=\"Churn\", y=\"count\",hue='level', data=subscription_churn, palette='tab20c')\n",
    "plt.title('Subscription Level Ratio by Churn', size=14, fontweight = 'bold')\n",
    "plt.xlabel('churn', fontsize=12, weight='bold')\n",
    "plt.ylabel('count', fontsize=12, weight='bold')\n",
    "sns.despine(ax=ax);\n",
    "plt.savefig('plots/subscription_level_churn_ratio')\n"
   ]
  },
  {
   "cell_type": "markdown",
   "id": "f35ef11e",
   "metadata": {},
   "source": [
    "## Churn by SQL"
   ]
  },
  {
   "cell_type": "code",
   "execution_count": 17,
   "id": "ac076b47",
   "metadata": {},
   "outputs": [],
   "source": [
    "# create churn_event table\n",
    "churn_event_log = spark.sql(\"\"\"\n",
    "    SELECT\n",
    "        cc.*,\n",
    "        FROM_UNIXTIME(registration/1000, \"Y-M-d HH:mm:ss\") AS registration_time,\n",
    "        FROM_UNIXTIME(ts/1000, \"Y-M-d HH:mm:ss\") AS action_time,\n",
    "        CASE\n",
    "            WHEN cc.page='Cancellation Confirmation' THEN 1\n",
    "            ELSE 0\n",
    "        END AS churn_event\n",
    "    FROM\n",
    "        df AS cc\n",
    "\"\"\")\n",
    "\n",
    "churn_event_log.createOrReplaceTempView(\"churn_event_log\")\n"
   ]
  },
  {
   "cell_type": "code",
   "execution_count": 18,
   "id": "1b94e612",
   "metadata": {},
   "outputs": [],
   "source": [
    "# create 'churn' column: 1 if churned, 0 if not.\n",
    "churn_event_log = spark.sql(\"\"\"\n",
    "    SELECT\n",
    "        artist, auth, gender, itemInSession,\n",
    "        length, level, location, method, page,\n",
    "        registration_time, sessionId, song, status,\n",
    "        userAgent, userId, action_time, churn_event,\n",
    "        MAX(churn_event) OVER (PARTITION BY userId) AS churn\n",
    "    FROM\n",
    "        churn_event_log\n",
    "\"\"\")\n",
    "\n",
    "churn_event_log.createOrReplaceTempView(\"churn_event_log\")\n"
   ]
  },
  {
   "cell_type": "code",
   "execution_count": 22,
   "id": "4a2c7049",
   "metadata": {},
   "outputs": [
    {
     "name": "stderr",
     "output_type": "stream",
     "text": [
      "[Stage 148:==============>                                          (1 + 3) / 4]\r"
     ]
    },
    {
     "name": "stdout",
     "output_type": "stream",
     "text": [
      "+-------------------+--------------------+------+-----+-----------+-----+\n",
      "|        action_time|                page|userId|level|churn_event|churn|\n",
      "+-------------------+--------------------+------+-----+-----------+-----+\n",
      "| 2018-10-2 09:36:45|Cancellation Conf...|100001| free|          1|    1|\n",
      "|2018-10-11 09:19:41|Cancellation Conf...|100003| free|          1|    1|\n",
      "|2018-10-19 10:57:05|Cancellation Conf...|100005| free|          1|    1|\n",
      "| 2018-10-5 08:24:30|Cancellation Conf...|100006| free|          1|    1|\n",
      "|2018-11-29 03:45:09|Cancellation Conf...|100007| paid|          1|    1|\n",
      "|2018-10-26 20:31:44|Cancellation Conf...|100009| free|          1|    1|\n",
      "| 2018-10-1 11:04:45|Cancellation Conf...|100011| free|          1|    1|\n",
      "| 2018-11-1 12:35:00|Cancellation Conf...|100012| free|          1|    1|\n",
      "| 2018-11-2 11:53:36|Cancellation Conf...|100013| paid|          1|    1|\n",
      "|2018-11-20 11:04:09|Cancellation Conf...|100014| paid|          1|    1|\n",
      "+-------------------+--------------------+------+-----+-----------+-----+\n",
      "\n"
     ]
    },
    {
     "name": "stderr",
     "output_type": "stream",
     "text": [
      "\r",
      "                                                                                \r"
     ]
    }
   ],
   "source": [
    "# select userId that churned\n",
    "spark.sql(\"\"\"\n",
    "    SELECT action_time, page, userId, level, churn_event, churn \n",
    "    FROM churn_event_log\n",
    "    WHERE churn = 1 and churn_event = 1 \n",
    "    ORDER BY userId, action_time\n",
    "    LIMIT 10\n",
    "\"\"\").show()"
   ]
  },
  {
   "cell_type": "code",
   "execution_count": 23,
   "id": "219d9387",
   "metadata": {},
   "outputs": [
    {
     "name": "stderr",
     "output_type": "stream",
     "text": [
      "\r",
      "[Stage 152:>                                                        (0 + 4) / 4]\r"
     ]
    },
    {
     "name": "stdout",
     "output_type": "stream",
     "text": [
      "+------------------+--------------------+------+-----+-----------+-----+\n",
      "|       action_time|                page|userId|level|churn_event|churn|\n",
      "+------------------+--------------------+------+-----+-----------+-----+\n",
      "|2018-9-30 23:53:03|         Roll Advert|100001| free|          0|    1|\n",
      "|2018-9-30 23:52:27|            NextSong|100001| free|          0|    1|\n",
      "|2018-9-30 23:49:02|         Roll Advert|100001| free|          0|    1|\n",
      "|2018-9-30 23:48:29|            NextSong|100001| free|          0|    1|\n",
      "|2018-9-30 23:48:24|                Home|100001| free|          0|    1|\n",
      "|2018-10-2 09:36:45|Cancellation Conf...|100001| free|          1|    1|\n",
      "|2018-10-2 09:34:34|              Cancel|100001| free|          0|    1|\n",
      "|2018-10-2 09:34:33|         Roll Advert|100001| free|          0|    1|\n",
      "|2018-10-2 09:33:52|            NextSong|100001| free|          0|    1|\n",
      "|2018-10-2 09:29:46|                Home|100001| free|          0|    1|\n",
      "+------------------+--------------------+------+-----+-----------+-----+\n",
      "\n"
     ]
    },
    {
     "name": "stderr",
     "output_type": "stream",
     "text": [
      "\r",
      "                                                                                \r"
     ]
    }
   ],
   "source": [
    "# check churn labeling for userId 100001\n",
    "spark.sql(\"\"\"\n",
    "    SELECT action_time, page, userId, level, churn_event,churn \n",
    "    FROM churn_event_log\n",
    "    WHERE userId = 100001 \n",
    "    ORDER BY action_time DESC\n",
    "    LIMIT 10\n",
    "\"\"\").show()\n"
   ]
  },
  {
   "cell_type": "markdown",
   "id": "b6142bc0",
   "metadata": {},
   "source": [
    "## User Tenure\n",
    "* User Tenure is the duration of active service: from registration until cancellation.\n"
   ]
  },
  {
   "cell_type": "code",
   "execution_count": 25,
   "id": "ceb92d66",
   "metadata": {},
   "outputs": [
    {
     "name": "stderr",
     "output_type": "stream",
     "text": [
      "[Stage 155:==============>                                          (1 + 3) / 4]\r"
     ]
    },
    {
     "name": "stdout",
     "output_type": "stream",
     "text": [
      "+------+-----------+-----+\n",
      "|userId|tenure_days|churn|\n",
      "+------+-----------+-----+\n",
      "|   100|         43|    0|\n",
      "|100005|         72|    1|\n",
      "|100006|          9|    1|\n",
      "|100007|         93|    1|\n",
      "|100008|         68|    0|\n",
      "+------+-----------+-----+\n",
      "only showing top 5 rows\n",
      "\n"
     ]
    },
    {
     "name": "stderr",
     "output_type": "stream",
     "text": [
      "\r",
      "                                                                                \r"
     ]
    }
   ],
   "source": [
    "# calculate user tenure in days\n",
    "user_tenure = spark.sql(\"\"\"\n",
    "    SELECT userId, \n",
    "    INT((UNIX_TIMESTAMP(MAX(action_time)) - UNIX_TIMESTAMP(MIN(registration_time)))/86400) AS tenure_days,\n",
    "    MAX(churn) AS churn\n",
    "    FROM churn_event_log\n",
    "    GROUP BY userId\n",
    "\"\"\")\n",
    "\n",
    "user_tenure.createOrReplaceTempView(\"user_tenure\")\n",
    "user_tenure.show(5)\n",
    "\n"
   ]
  },
  {
   "cell_type": "code",
   "execution_count": 28,
   "id": "c615c1f4",
   "metadata": {},
   "outputs": [
    {
     "data": {
      "text/html": [
       "<div>\n",
       "<style scoped>\n",
       "    .dataframe tbody tr th:only-of-type {\n",
       "        vertical-align: middle;\n",
       "    }\n",
       "\n",
       "    .dataframe tbody tr th {\n",
       "        vertical-align: top;\n",
       "    }\n",
       "\n",
       "    .dataframe thead th {\n",
       "        text-align: right;\n",
       "    }\n",
       "</style>\n",
       "<table border=\"1\" class=\"dataframe\">\n",
       "  <thead>\n",
       "    <tr style=\"text-align: right;\">\n",
       "      <th></th>\n",
       "      <th>userId</th>\n",
       "      <th>tenure_days</th>\n",
       "      <th>churn</th>\n",
       "    </tr>\n",
       "  </thead>\n",
       "  <tbody>\n",
       "    <tr>\n",
       "      <th>0</th>\n",
       "      <td>100</td>\n",
       "      <td>43.0</td>\n",
       "      <td>0</td>\n",
       "    </tr>\n",
       "    <tr>\n",
       "      <th>1</th>\n",
       "      <td>100005</td>\n",
       "      <td>72.0</td>\n",
       "      <td>1</td>\n",
       "    </tr>\n",
       "    <tr>\n",
       "      <th>2</th>\n",
       "      <td>100006</td>\n",
       "      <td>9.0</td>\n",
       "      <td>1</td>\n",
       "    </tr>\n",
       "    <tr>\n",
       "      <th>3</th>\n",
       "      <td>100007</td>\n",
       "      <td>93.0</td>\n",
       "      <td>1</td>\n",
       "    </tr>\n",
       "    <tr>\n",
       "      <th>4</th>\n",
       "      <td>100008</td>\n",
       "      <td>68.0</td>\n",
       "      <td>0</td>\n",
       "    </tr>\n",
       "  </tbody>\n",
       "</table>\n",
       "</div>"
      ],
      "text/plain": [
       "   userId  tenure_days  churn\n",
       "0     100         43.0      0\n",
       "1  100005         72.0      1\n",
       "2  100006          9.0      1\n",
       "3  100007         93.0      1\n",
       "4  100008         68.0      0"
      ]
     },
     "execution_count": 28,
     "metadata": {},
     "output_type": "execute_result"
    }
   ],
   "source": [
    "user_tenure_df = user_tenure.toPandas()\n",
    "user_tenure_df.head()\n"
   ]
  },
  {
   "cell_type": "code",
   "execution_count": 32,
   "id": "21fb81c2",
   "metadata": {},
   "outputs": [
    {
     "data": {
      "image/png": "[encoded data removed]",
      "text/plain": [
       "<Figure size 432x288 with 1 Axes>"
      ]
     },
     "metadata": {
      "needs_background": "light"
     },
     "output_type": "display_data"
    }
   ],
   "source": [
    "# plot user tenure given churn\n",
    "ax = sns.boxplot(data=user_tenure_df, y='churn', x='tenure_days', orient='h', palette='tab20c')\n",
    "plt.xlabel('Days Since Registration')\n",
    "plt.ylabel('churn')\n",
    "plt.title('User Tenure  by Churn', size=14, fontweight = 'bold')\n",
    "sns.despine(ax=ax);\n",
    "# plt.savefig('plots/user_tenure')\n"
   ]
  },
  {
   "cell_type": "markdown",
   "id": "04326bea",
   "metadata": {},
   "source": [
    "**Users who cancel have shorter tenure.**"
   ]
  },
  {
   "cell_type": "markdown",
   "id": "d7715cb9",
   "metadata": {},
   "source": [
    "## Plot User Engagement\n",
    "* average events per session\n",
    "* number songs per session\n",
    "* playlist adds per session\n",
    "* session length\n",
    "* thumbs up/down per session\n"
   ]
  },
  {
   "cell_type": "code",
   "execution_count": 38,
   "id": "0385dc31",
   "metadata": {},
   "outputs": [
    {
     "name": "stderr",
     "output_type": "stream",
     "text": [
      "                                                                                \r"
     ]
    },
    {
     "data": {
      "image/png": "[encoded data removed]",
      "text/plain": [
       "<Figure size 432x288 with 1 Axes>"
      ]
     },
     "metadata": {
      "needs_background": "light"
     },
     "output_type": "display_data"
    }
   ],
   "source": [
    "# plot average number of events (items) per session\n",
    "items = df.select('userId','itemInSession','Churn') \\\n",
    "    .groupBy('userId','Churn') \\\n",
    "    .agg({'itemInSession':'avg'}) \\\n",
    "    .withColumnRenamed('avg(itemInSession)','itemInSession') \\\n",
    "    .select('userId', 'Churn', (col('itemInSession')).alias('itemInSession')) \\\n",
    "    .toPandas()\n",
    "ax = sns.boxplot(data=items, y='Churn', x='itemInSession', orient='h', palette='tab20c')\n",
    "plt.title('Average User Events per Session', size=14, fontweight = 'bold')\n",
    "plt.xlabel('Events per Session')\n",
    "plt.ylabel('Churn')\n",
    "sns.despine(ax=ax);\n",
    "# plt.savefig('plots/avg items per session')"
   ]
  },
  {
   "cell_type": "code",
   "execution_count": 39,
   "id": "76466cc1",
   "metadata": {},
   "outputs": [],
   "source": [
    "# plot number of songs player per session\n",
    "# total songs listened to\n",
    "# unique songs listened to\n"
   ]
  },
  {
   "cell_type": "markdown",
   "id": "a87fcab8",
   "metadata": {},
   "source": [
    "**How much of a specific action users experience per a certain time unit or number of songs played?**\n",
    "* how many ads per session length\n",
    "* how many ads per songs played"
   ]
  },
  {
   "cell_type": "markdown",
   "id": "7b8f6dfc",
   "metadata": {},
   "source": [
    "## Session Length"
   ]
  },
  {
   "cell_type": "code",
   "execution_count": 51,
   "id": "559b9b4f",
   "metadata": {},
   "outputs": [
    {
     "name": "stderr",
     "output_type": "stream",
     "text": [
      "/Users/andrewnachtigal/opt/anaconda3/lib/python3.9/site-packages/seaborn/distributions.py:2619: FutureWarning: `distplot` is a deprecated function and will be removed in a future version. Please adapt your code to use either `displot` (a figure-level function with similar flexibility) or `histplot` (an axes-level function for histograms).\n",
      "  warnings.warn(msg, FutureWarning)\n"
     ]
    },
    {
     "data": {
      "image/png": "[encoded data removed]",
      "text/plain": [
       "<Figure size 432x288 with 1 Axes>"
      ]
     },
     "metadata": {
      "needs_background": "light"
     },
     "output_type": "display_data"
    }
   ],
   "source": [
    "length_session = spark.sql('''\n",
    "                        SELECT length\n",
    "                        FROM df\n",
    "                                                    ''')\n",
    "sns.distplot(length_session.toPandas().dropna());\n",
    "plt.title('Session length distribution.');\n",
    "# plt.savefig('plots/avg items per session')\n"
   ]
  },
  {
   "cell_type": "code",
   "execution_count": 50,
   "id": "b47445bc",
   "metadata": {},
   "outputs": [
    {
     "name": "stderr",
     "output_type": "stream",
     "text": [
      "                                                                                \r"
     ]
    },
    {
     "data": {
      "image/png": "[encoded data removed]",
      "text/plain": [
       "<Figure size 432x288 with 1 Axes>"
      ]
     },
     "metadata": {
      "needs_background": "light"
     },
     "output_type": "display_data"
    }
   ],
   "source": [
    "# plot average session length per user\n",
    "items = df.select('userId','length','Churn') \\\n",
    "    .groupBy('userId','Churn') \\\n",
    "    .agg({'length':'avg'}) \\\n",
    "    .withColumnRenamed('avg(length)','length') \\\n",
    "    .select('userId', 'Churn', (col('length')).alias('length')) \\\n",
    "    .toPandas()\n",
    "ax = sns.boxplot(data=items, y='Churn', x='length', orient='h', palette='tab20c')\n",
    "plt.title('Average Session Length by Churn', size=14, fontweight = 'bold')\n",
    "plt.xlabel('Session l ength')\n",
    "plt.ylabel('Churn')\n",
    "sns.despine(ax=ax);\n",
    "# plt.savefig('plots/avg items per session')\n"
   ]
  },
  {
   "cell_type": "code",
   "execution_count": null,
   "id": "15804f81",
   "metadata": {},
   "outputs": [],
   "source": []
  },
  {
   "cell_type": "code",
   "execution_count": null,
   "id": "dc32f9c8",
   "metadata": {},
   "outputs": [],
   "source": []
  },
  {
   "cell_type": "markdown",
   "id": "8a6a7e00",
   "metadata": {},
   "source": [
    "# Page Events\n"
   ]
  },
  {
   "cell_type": "code",
   "execution_count": 46,
   "id": "77f367cc",
   "metadata": {},
   "outputs": [
    {
     "name": "stderr",
     "output_type": "stream",
     "text": [
      "                                                                                \r"
     ]
    },
    {
     "data": {
      "text/plain": [
       "['Cancel',\n",
       " 'Submit Downgrade',\n",
       " 'Thumbs Down',\n",
       " 'Home',\n",
       " 'Downgrade',\n",
       " 'Roll Advert',\n",
       " 'Logout',\n",
       " 'Save Settings',\n",
       " 'Cancellation Confirmation',\n",
       " 'About',\n",
       " 'Settings',\n",
       " 'Login',\n",
       " 'Add to Playlist',\n",
       " 'Add Friend',\n",
       " 'NextSong',\n",
       " 'Thumbs Up',\n",
       " 'Help',\n",
       " 'Upgrade',\n",
       " 'Error',\n",
       " 'Submit Upgrade',\n",
       " 'Submit Registration',\n",
       " 'Register']"
      ]
     },
     "execution_count": 46,
     "metadata": {},
     "output_type": "execute_result"
    }
   ],
   "source": [
    "# examine page events\n",
    "pages = spark.sql(\"SELECT DISTINCT page FROM df\")\n",
    "page_event = [row['page'] for row in pages.collect()]\n",
    "page_event\n"
   ]
  },
  {
   "cell_type": "markdown",
   "id": "a579c966",
   "metadata": {},
   "source": [
    "**Window Function**"
   ]
  },
  {
   "cell_type": "code",
   "execution_count": null,
   "id": "b49de203",
   "metadata": {},
   "outputs": [],
   "source": [
    "from pyspark.sql import Window\n",
    "windowSpec = \\\n",
    "  Window \\\n",
    "    .partitionBy(...) \\\n",
    "    .orderBy(...)"
   ]
  },
  {
   "cell_type": "code",
   "execution_count": 42,
   "id": "9f617e58",
   "metadata": {},
   "outputs": [],
   "source": [
    "# partition dataframe by user\n",
    "wf_user = window.Window().partitionBy('userId')\n"
   ]
  },
  {
   "cell_type": "code",
   "execution_count": 48,
   "id": "bc7c143c",
   "metadata": {},
   "outputs": [
    {
     "ename": "AttributeError",
     "evalue": "'WindowSpec' object has no attribute 'show'",
     "output_type": "error",
     "traceback": [
      "\u001b[0;31m---------------------------------------------------------------------------\u001b[0m",
      "\u001b[0;31mAttributeError\u001b[0m                            Traceback (most recent call last)",
      "\u001b[0;32m/var/folders/xm/pxb_5dwd6g72ftz3jmtqm_b00000gn/T/ipykernel_8099/1274898102.py\u001b[0m in \u001b[0;36m<module>\u001b[0;34m\u001b[0m\n\u001b[0;32m----> 1\u001b[0;31m \u001b[0mwf_user\u001b[0m\u001b[0;34m.\u001b[0m\u001b[0mshow\u001b[0m\u001b[0;34m(\u001b[0m\u001b[0;34m)\u001b[0m\u001b[0;34m\u001b[0m\u001b[0;34m\u001b[0m\u001b[0m\n\u001b[0m",
      "\u001b[0;31mAttributeError\u001b[0m: 'WindowSpec' object has no attribute 'show'"
     ]
    }
   ],
   "source": [
    "wf_user.show()"
   ]
  },
  {
   "cell_type": "code",
   "execution_count": 44,
   "id": "af09338a",
   "metadata": {},
   "outputs": [],
   "source": [
    "# collect page event data by user\n",
    "feature_list = df\\\n",
    ".withColumn('f_total_interactions',F.count('*').over(wf_user))\\\n",
    ".withColumn('f_artist_count', F.size(F.collect_set(F.col('artist')).over(wf_user)))\\\n",
    ".withColumn('f_song_count', F.size(F.collect_set(F.col('song')).over(wf_user)))\\\n",
    ".withColumn('f_session_count', F.size(F.collect_set(F.col('sessionId')).over(wf_user)))\\\n",
    ".withColumn('p_homepage_lands', F.sum(F.when(F.col('page')=='Home',1).otherwise(0)).over(wf_user))\\\n",
    ".withColumn('p_nextsongs', F.sum(F.when(F.col('page')=='NextSong',1).otherwise(0)).over(wf_user))\\\n",
    ".withColumn('p_thumbsup', F.sum(F.when(F.col('page')=='Thumbs Up',1).otherwise(0)).over(wf_user))\\\n",
    ".withColumn('p_thumbsdown', F.sum(F.when(F.col('page')=='Thumbs Down',1).otherwise(0)).over(wf_user))\\\n",
    ".withColumn('p_addtoplaylist', F.sum(F.when(F.col('page')=='Add to Playlist',1).otherwise(0)).over(wf_user))\\\n",
    ".withColumn('p_addfriend', F.sum(F.when(F.col('page')=='Add Friend',1).otherwise(0)).over(wf_user))\\\n",
    ".withColumn('p_rolladvert', F.sum(F.when(F.col('page')=='Roll Advert',1).otherwise(0)).over(wf_user))\\\n",
    ".withColumn('p_logout', F.sum(F.when(F.col('page')=='Logout',1).otherwise(0)).over(wf_user))\\\n",
    ".withColumn('p_downgrade', F.sum(F.when(F.col('page')=='Downgrade',1).otherwise(0)).over(wf_user))\\\n",
    ".withColumn('p_settings', F.sum(F.when(F.col('page')=='Settings',1).otherwise(0)).over(wf_user))\\\n",
    ".withColumn('p_help', F.sum(F.when(F.col('page')=='Help',1).otherwise(0)).over(wf_user))\\\n",
    ".withColumn('p_upgrade', F.sum(F.when(F.col('page')=='Upgrade',1).otherwise(0)).over(wf_user))\\\n",
    ".withColumn('p_about', F.sum(F.when(F.col('page')=='About',1).otherwise(0)).over(wf_user))\\\n",
    ".withColumn('p_savesettings', F.sum(F.when(F.col('page')=='Save Settings',1).otherwise(0)).over(wf_user))\\\n",
    ".withColumn('p_error', F.sum(F.when(F.col('page')=='Error',1).otherwise(0)).over(wf_user))\\\n",
    ".withColumn('p_submitupgrade', F.sum(F.when(F.col('page')=='Submit Upgrade',1).otherwise(0)).over(wf_user))\\\n",
    ".withColumn('p_submitdowngrade', F.sum(F.when(F.col('page')=='Submit Downgrade',1).otherwise(0)).over(wf_user))\\\n",
    ".withColumn('v_http307', F.sum(F.when(F.col('status')==307,1).otherwise(0)).over(wf_user))\\\n",
    ".withColumn('v_http400', F.sum(F.when(F.col('status')==400,1).otherwise(0)).over(wf_user))\\\n",
    ".withColumn('v_methodput', F.sum(F.when(F.col('method')=='PUT',1).otherwise(0)).over(wf_user))\\\n",
    ".withColumn('v_methodget', F.sum(F.when(F.col('method')=='GET',1).otherwise(0)).over(wf_user))\\\n",
    ".select(*['userId', 'f_total_interactions','f_artist_count','f_song_count','f_session_count', 'p_homepage_lands', 'p_nextsongs', 'p_thumbsup', 'p_thumbsdown','p_addtoplaylist', 'p_addfriend', 'p_rolladvert','p_logout', 'p_downgrade', 'p_settings', 'p_help', 'p_upgrade', 'p_about', 'p_savesettings', 'p_error', 'p_submitupgrade', 'p_submitdowngrade', 'v_http307', 'v_http400', 'v_methodput', 'v_methodget'])\\\n",
    ".distinct()\n"
   ]
  },
  {
   "cell_type": "code",
   "execution_count": 49,
   "id": "5370f0aa",
   "metadata": {},
   "outputs": [
    {
     "data": {
      "text/plain": [
       "DataFrame[userId: string, f_total_interactions: bigint, f_artist_count: int, f_song_count: int, f_session_count: int, p_homepage_lands: bigint, p_nextsongs: bigint, p_thumbsup: bigint, p_thumbsdown: bigint, p_addtoplaylist: bigint, p_addfriend: bigint, p_rolladvert: bigint, p_logout: bigint, p_downgrade: bigint, p_settings: bigint, p_help: bigint, p_upgrade: bigint, p_about: bigint, p_savesettings: bigint, p_error: bigint, p_submitupgrade: bigint, p_submitdowngrade: bigint, v_http307: bigint, v_http400: bigint, v_methodput: bigint, v_methodget: bigint]"
      ]
     },
     "execution_count": 49,
     "metadata": {},
     "output_type": "execute_result"
    }
   ],
   "source": [
    "feature_list"
   ]
  },
  {
   "cell_type": "code",
   "execution_count": null,
   "id": "de35e0b7",
   "metadata": {},
   "outputs": [],
   "source": []
  },
  {
   "cell_type": "code",
   "execution_count": null,
   "id": "70c94d68",
   "metadata": {},
   "outputs": [],
   "source": []
  },
  {
   "cell_type": "code",
   "execution_count": null,
   "id": "31f2b635",
   "metadata": {},
   "outputs": [],
   "source": []
  }
 ],
 "metadata": {
  "kernelspec": {
   "display_name": "Python 3 (ipykernel)",
   "language": "python",
   "name": "python3"
  },
  "language_info": {
   "codemirror_mode": {
    "name": "ipython",
    "version": 3
   },
   "file_extension": ".py",
   "mimetype": "text/x-python",
   "name": "python",
   "nbconvert_exporter": "python",
   "pygments_lexer": "ipython3",
   "version": "3.9.7"
  }
 },
 "nbformat": 4,
 "nbformat_minor": 5
}
