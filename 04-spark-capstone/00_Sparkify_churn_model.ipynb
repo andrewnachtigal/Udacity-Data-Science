{
 "cells": [
  {
   "cell_type": "markdown",
   "id": "091b4b51",
   "metadata": {},
   "source": [
    "# Spotify Streaming Music Service \n",
    "\n",
    "## Customer Churn Prediction with Machine Learning\n"
   ]
  },
  {
   "cell_type": "markdown",
   "id": "fa8f3ea4",
   "metadata": {},
   "source": [
    "## Project Overview\n",
    "\n",
    "Sparkify is a simulated music streaming service emulating a streaming service such as Spotify. Sparkify users stream music using the free subscription plan with ads or paid subscription plan without ads. \n",
    "\n",
    "Users may engage in actions such as thumb up or down, add songs to playlists, add friends, etc. Users are free to change their subscription plan by upgrading from free to paid, by downgrading from paid to free, or to entirely stop using the service by cancelling the subscription.\n",
    "\n",
    "Any user interaction with the service triggers a certain log event that represents our data. A log contains information about the event time, identifies the session and the user, includes some of user attributes, subscription plan, user interaction type etc.\n",
    "\n",
    "There are three datasets with event log information available for our project:\n",
    "\n",
    "* full (big) dataset of 12GB available on Amazon EMR cluster,\n",
    "* medium dataset available on IBM Watson cluster,\n",
    "* mini (sample) dataset available on local machine.\n",
    "\n",
    "This project will make use of the mini dataset available for use on a local machine."
   ]
  },
  {
   "cell_type": "markdown",
   "id": "38e56994",
   "metadata": {},
   "source": [
    "## Problem Statement\n",
    "\n",
    "**Customer churn is simply the rate at which customers cancel their subscriptions.**\n",
    "\n",
    "The goal of a customer churn model is to evaluate the behaviors and attributes of current and former customers to determine trends that lead to churn. Several behavioral factors that are widely used in these models are customer purchase intervals, cancellations, follow-up calls, emails, and on-page engagement. Customer attributes, like demographics, location, and income, can also be indicators of churn likelihood.\n",
    "\n",
    "Customer churn models are generally created with a classification algorithm, like logistic regression or decision trees. For these algorithms, all categorical data must be converted into a numerical equivalent using techniques like one-hot-encoding.\n",
    "\n",
    "Businesses strive to identify the potential users who are likely to leave before they actually leave the service in order to take actions to retain them. Some estimate that it may costs five or six times as much to acquire a new customer than it does to retain the ones you have.\n",
    "\n",
    "Our churned users are defined as those who cancel their Spotify subscription. \n",
    "\n",
    "The identification of potential churned users is a binary classification problem: either a user is churned or non-churned. In order to be able to properly classify users we will perform exploratory data analysis against sample data, then we’ll engineer the features that we will find important for churn classification, and finally, we’ll exercise modelling with selected features using various learning methods.\n",
    "\n",
    "The solution of our problem is to create a machine learning model that can provide prediction results achieving the project goal according to the chosen metrics as described in the next section.\n",
    "\n"
   ]
  },
  {
   "cell_type": "markdown",
   "id": "7405ec0f",
   "metadata": {},
   "source": [
    "## Model Evaluation Metrics\n",
    "\n",
    "Choosing correct metrics is important for the success of machine learning model evaluation. Our full dataset has 22,278 users out of which 5,003 are cancelled users (22.46%). If we use accuracy to measure the prediction quality of our model and our model identifies every users as a non-churned we achieve accuracy of 77.54% which is pretty high value for a blind model that always predicts 0.\n",
    "\n",
    "We will use the precision-recall metrics instead. The precision tells us the proportion how many churned users we successfully identified among all users that we identified as churned while the recall tells us the proportion how many churned users we successfully identified among all churned users:\n",
    "\n",
    "**Precision**  What proportion of positive identifications was actually correct?\n",
    "\n",
    "Precision = True Positives / (True Positives + False Positives )\n",
    "\n",
    "\n",
    "**Recall**  What proportion of actual positives was identified correctly?\n",
    "\n",
    "Recall = True Positives / ( True Positives + False Negatives )\n",
    "\n",
    "TP are true positives or correctly identified churned users, FP are false positives or non-churned users incorrectly identified as churned users, and FN are false negatives or churned users incorrectly identified as non-churned users.\n",
    "\n",
    "Normally, the classes are not perfectly distributed. Not in all cases we can clearly separate all points of a possitive class from all points of a negative class, so there will always be a certain grey zone where classes are mixed together. The inevitable consequence is an inverse relationship between the precision and recall: by increasing one parameter (precision or recall) the other parameter decreases (recall or precision). This is known as precision-recall tradeoff.\n",
    "\n",
    "Due to a high level of abstraction in this study we cannot focus on a specific business situation regareing precision-recall tradeoff. The F1 score is used in this project as the evaluation metric. The F1 score is defined as\n",
    "\n",
    "F1 = (2 * precision * recall) / (precision + recall)\n",
    "\n",
    "which is a balanced score between precision and recall. When predicting a churn, precision aims to make sure that it is really a churn, whereas recall aims to not miss any real churns. Therefore, I choose F1 score as the metric to evaluate model performance.\n"
   ]
  },
  {
   "cell_type": "markdown",
   "id": "b122310b",
   "metadata": {},
   "source": [
    "## I. Import libraries and Spark Session\n"
   ]
  },
  {
   "cell_type": "code",
   "execution_count": 1,
   "id": "4bbe40cb",
   "metadata": {},
   "outputs": [],
   "source": [
    "# import libraries\n",
    "import datetime\n",
    "import time\n",
    "import numpy as np\n",
    "import pandas as pd\n",
    "import matplotlib.pyplot as plt\n",
    "import seaborn as sns\n",
    "\n",
    "#! pip install pyspark\n",
    "import pyspark\n",
    "from pyspark import SparkContext, SparkConf\n",
    "\n",
    "from pyspark.sql import SparkSession\n",
    "from pyspark.sql import Window\n",
    "from pyspark.sql.functions import udf, col, concat, count, lit, avg, lag, first, last, when, desc, asc, countDistinct, when, isnan\n",
    "from pyspark.sql.functions import min as Fmin, max as Fmax, sum as Fsum, round as Fround\n",
    "from pyspark.sql.types import IntegerType, FloatType, DateType, TimestampType, StringType\n",
    "\n",
    "from pyspark.ml.feature import CountVectorizer, IDF, Normalizer, PCA, RegexTokenizer, StandardScaler, StopWordsRemover, StringIndexer, VectorAssembler\n",
    "from pyspark.ml.evaluation import MulticlassClassificationEvaluator, RegressionEvaluator\n",
    "from pyspark.ml.classification import GBTClassifier, RandomForestClassifier, LinearSVC, LogisticRegression, DecisionTreeClassifier\n",
    "from pyspark.ml.tuning import CrossValidator, ParamGridBuilder\n",
    "from pyspark.ml import Pipeline\n",
    "\n",
    "# import libraries\n",
    "from pyspark.sql import SparkSession, Window\n",
    "from pyspark import SparkFiles\n",
    "from pyspark.sql.functions import avg, col, concat, count, desc, \\\n",
    "asc, explode, lit, min, max, split, stddev, udf, isnan, when, rank, log, sqrt, cbrt, exp\n",
    "from pyspark.sql.functions import sum as Fsum\n",
    "from pyspark.sql.types import IntegerType\n",
    "\n",
    "%matplotlib inline\n"
   ]
  },
  {
   "cell_type": "code",
   "execution_count": 2,
   "id": "0c6017a2",
   "metadata": {},
   "outputs": [
    {
     "name": "stdout",
     "output_type": "stream",
     "text": [
      "22/12/04 13:21:51 WARN Utils: Your hostname, Andrews-MacBook-Pro.local resolves to a loopback address: 127.0.0.1; using 10.0.0.39 instead (on interface en0)\n",
      "22/12/04 13:21:51 WARN Utils: Set SPARK_LOCAL_IP if you need to bind to another address\n"
     ]
    },
    {
     "name": "stderr",
     "output_type": "stream",
     "text": [
      "Setting default log level to \"WARN\".\n",
      "To adjust logging level use sc.setLogLevel(newLevel). For SparkR, use setLogLevel(newLevel).\n"
     ]
    },
    {
     "name": "stdout",
     "output_type": "stream",
     "text": [
      "22/12/04 13:21:52 WARN NativeCodeLoader: Unable to load native-hadoop library for your platform... using builtin-java classes where applicable\n",
      "22/12/04 13:21:53 WARN Utils: Service 'SparkUI' could not bind on port 4040. Attempting port 4041.\n",
      "22/12/04 13:21:53 WARN Utils: Service 'SparkUI' could not bind on port 4041. Attempting port 4042.\n"
     ]
    }
   ],
   "source": [
    "# Create a Spark session\n",
    "spark = SparkSession \\\n",
    "    .builder \\\n",
    "    .appName(\"Sparkify\") \\\n",
    "    .getOrCreate()\n"
   ]
  },
  {
   "cell_type": "markdown",
   "id": "247afff3",
   "metadata": {},
   "source": [
    "## Load & Clean Sparkify Dataset\n",
    "* mini-dataset file: mini_sparkify_event_data.json"
   ]
  },
  {
   "cell_type": "code",
   "execution_count": 3,
   "id": "8f2c5554",
   "metadata": {},
   "outputs": [
    {
     "name": "stderr",
     "output_type": "stream",
     "text": [
      "                                                                                \r"
     ]
    }
   ],
   "source": [
    "# load data\n",
    "path = \"data/mini_sparkify_event_data.json\"\n",
    "spark.sql(\"set spark.sql.legacy.timeParserPolicy=LEGACY\")\n",
    "df = spark.read.json(path)\n",
    "df.createOrReplaceTempView(\"df\")\n"
   ]
  },
  {
   "cell_type": "code",
   "execution_count": 4,
   "id": "bcaf8bcf",
   "metadata": {},
   "outputs": [
    {
     "name": "stdout",
     "output_type": "stream",
     "text": [
      "root\n",
      " |-- artist: string (nullable = true)\n",
      " |-- auth: string (nullable = true)\n",
      " |-- firstName: string (nullable = true)\n",
      " |-- gender: string (nullable = true)\n",
      " |-- itemInSession: long (nullable = true)\n",
      " |-- lastName: string (nullable = true)\n",
      " |-- length: double (nullable = true)\n",
      " |-- level: string (nullable = true)\n",
      " |-- location: string (nullable = true)\n",
      " |-- method: string (nullable = true)\n",
      " |-- page: string (nullable = true)\n",
      " |-- registration: long (nullable = true)\n",
      " |-- sessionId: long (nullable = true)\n",
      " |-- song: string (nullable = true)\n",
      " |-- status: long (nullable = true)\n",
      " |-- ts: long (nullable = true)\n",
      " |-- userAgent: string (nullable = true)\n",
      " |-- userId: string (nullable = true)\n",
      "\n"
     ]
    }
   ],
   "source": [
    "# print schema\n",
    "df.printSchema()\n"
   ]
  },
  {
   "cell_type": "code",
   "execution_count": 5,
   "id": "f4a8d49a",
   "metadata": {},
   "outputs": [
    {
     "name": "stderr",
     "output_type": "stream",
     "text": [
      "\r",
      "[Stage 1:>                                                          (0 + 4) / 4]\r",
      "\r",
      "                                                                                \r"
     ]
    }
   ],
   "source": [
    "# load data\n",
    "path = \"data/mini_sparkify_event_data.json\"\n",
    "spark.sql(\"set spark.sql.legacy.timeParserPolicy=LEGACY\")\n",
    "sparkify_events = spark.read.json(path)\n",
    "sparkify_events.createOrReplaceTempView(\"sparkify_events\")\n"
   ]
  },
  {
   "cell_type": "code",
   "execution_count": 6,
   "id": "29b203c1",
   "metadata": {},
   "outputs": [
    {
     "name": "stdout",
     "output_type": "stream",
     "text": [
      "root\n",
      " |-- artist: string (nullable = true)\n",
      " |-- auth: string (nullable = true)\n",
      " |-- firstName: string (nullable = true)\n",
      " |-- gender: string (nullable = true)\n",
      " |-- itemInSession: long (nullable = true)\n",
      " |-- lastName: string (nullable = true)\n",
      " |-- length: double (nullable = true)\n",
      " |-- level: string (nullable = true)\n",
      " |-- location: string (nullable = true)\n",
      " |-- method: string (nullable = true)\n",
      " |-- page: string (nullable = true)\n",
      " |-- registration: long (nullable = true)\n",
      " |-- sessionId: long (nullable = true)\n",
      " |-- song: string (nullable = true)\n",
      " |-- status: long (nullable = true)\n",
      " |-- ts: long (nullable = true)\n",
      " |-- userAgent: string (nullable = true)\n",
      " |-- userId: string (nullable = true)\n",
      "\n"
     ]
    }
   ],
   "source": [
    "# print schema\n",
    "sparkify_events.printSchema()\n"
   ]
  },
  {
   "cell_type": "markdown",
   "id": "f9769bf5",
   "metadata": {},
   "source": [
    "## Exploratory Data Analysis\n",
    "When you're working with the full dataset, perform EDA by loading a small subset of the data and doing basic manipulations within Spark. In this workspace, you are already provided a small subset of data you can explore.\n",
    "\n",
    "### Define Churn\n",
    "Once you've done some preliminary analysis, create a column Churn to use as the label for your model. I suggest using the Cancellation Confirmation events to define your churn, which happen for both paid and free users. As a bonus task, you can also look into the Downgrade events.\n",
    "\n",
    "### Explore Data\n",
    "Once you've defined churn, perform some exploratory data analysis to observe the behavior for users who stayed vs users who churned. You can start by exploring aggregates on these two groups of users, observing how much of a specific action they experienced per a certain time unit or number of songs played."
   ]
  },
  {
   "cell_type": "markdown",
   "id": "44ea9237",
   "metadata": {},
   "source": [
    "### Examine Elements of Dataframe\n"
   ]
  },
  {
   "cell_type": "code",
   "execution_count": 7,
   "id": "708f59fe",
   "metadata": {},
   "outputs": [
    {
     "name": "stdout",
     "output_type": "stream",
     "text": [
      "+----------------+---------+---------+------+-------------+--------+---------+-----+--------------------+------+\n",
      "|          artist|     auth|firstName|gender|itemInSession|lastName|   length|level|            location|method|\n",
      "+----------------+---------+---------+------+-------------+--------+---------+-----+--------------------+------+\n",
      "|  Martha Tilston|Logged In|    Colin|     M|           50| Freeman|277.89016| paid|     Bakersfield, CA|   PUT|\n",
      "|Five Iron Frenzy|Logged In|    Micah|     M|           79|    Long|236.09424| free|Boston-Cambridge-...|   PUT|\n",
      "|    Adam Lambert|Logged In|    Colin|     M|           51| Freeman| 282.8273| paid|     Bakersfield, CA|   PUT|\n",
      "|          Enigma|Logged In|    Micah|     M|           80|    Long|262.71302| free|Boston-Cambridge-...|   PUT|\n",
      "|       Daft Punk|Logged In|    Colin|     M|           52| Freeman|223.60771| paid|     Bakersfield, CA|   PUT|\n",
      "+----------------+---------+---------+------+-------------+--------+---------+-----+--------------------+------+\n",
      "only showing top 5 rows\n",
      "\n"
     ]
    }
   ],
   "source": [
    "# show first rows\n",
    "df.select('artist', 'auth', 'firstName', 'gender', 'itemInSession', 'lastName', \\\n",
    "          'length', 'level', 'location', 'method').show(5)\n"
   ]
  },
  {
   "cell_type": "code",
   "execution_count": 8,
   "id": "99a421da",
   "metadata": {},
   "outputs": [
    {
     "name": "stdout",
     "output_type": "stream",
     "text": [
      "+--------+-------------+---------+--------------------+------+-------------+--------------------+------+\n",
      "|    page| registration|sessionId|                song|status|           ts|           userAgent|userId|\n",
      "+--------+-------------+---------+--------------------+------+-------------+--------------------+------+\n",
      "|NextSong|1538173362000|       29|           Rockpools|   200|1538352117000|Mozilla/5.0 (Wind...|    30|\n",
      "|NextSong|1538331630000|        8|              Canada|   200|1538352180000|\"Mozilla/5.0 (Win...|     9|\n",
      "|NextSong|1538173362000|       29|   Time For Miracles|   200|1538352394000|Mozilla/5.0 (Wind...|    30|\n",
      "|NextSong|1538331630000|        8|Knocking On Forbi...|   200|1538352416000|\"Mozilla/5.0 (Win...|     9|\n",
      "|NextSong|1538173362000|       29|Harder Better Fas...|   200|1538352676000|Mozilla/5.0 (Wind...|    30|\n",
      "+--------+-------------+---------+--------------------+------+-------------+--------------------+------+\n",
      "only showing top 5 rows\n",
      "\n"
     ]
    }
   ],
   "source": [
    "# show first rows\n",
    "df.select('page', 'registration', 'sessionId', 'song', 'status', 'ts', 'userAgent', \\\n",
    "          'userId').show(5)\n"
   ]
  },
  {
   "cell_type": "code",
   "execution_count": 9,
   "id": "997eb926",
   "metadata": {},
   "outputs": [
    {
     "name": "stdout",
     "output_type": "stream",
     "text": [
      "+-------------+-------------+\n",
      "| registration|           ts|\n",
      "+-------------+-------------+\n",
      "|1538173362000|1538352117000|\n",
      "|1538331630000|1538352180000|\n",
      "|1538173362000|1538352394000|\n",
      "|1538331630000|1538352416000|\n",
      "|1538173362000|1538352676000|\n",
      "+-------------+-------------+\n",
      "only showing top 5 rows\n",
      "\n"
     ]
    }
   ],
   "source": [
    "# show first rows\n",
    "df.select('registration', 'ts').show(5)\n"
   ]
  },
  {
   "cell_type": "markdown",
   "id": "cda9a1da",
   "metadata": {},
   "source": [
    "## Data Preprocessing\n",
    "* Clean missing values"
   ]
  },
  {
   "cell_type": "markdown",
   "id": "a40f9281",
   "metadata": {},
   "source": [
    "## Clean Missing & Empty Values\n",
    "\n",
    "* For string columns, check for None and null\n",
    "* For numeric columns, check for zeroes and NaN\n"
   ]
  },
  {
   "cell_type": "code",
   "execution_count": 10,
   "id": "2fa1e09e",
   "metadata": {},
   "outputs": [
    {
     "name": "stderr",
     "output_type": "stream",
     "text": [
      "                                                                                \r"
     ]
    },
    {
     "name": "stdout",
     "output_type": "stream",
     "text": [
      "( artist ) missing values:  58392\n",
      "( auth ) missing values:  0\n",
      "( firstName ) missing values:  8346\n",
      "( gender ) missing values:  8346\n"
     ]
    },
    {
     "name": "stderr",
     "output_type": "stream",
     "text": [
      "\r",
      "[Stage 17:>                                                         (0 + 4) / 4]\r",
      "\r",
      "                                                                                \r"
     ]
    },
    {
     "name": "stdout",
     "output_type": "stream",
     "text": [
      "( itemInSession ) missing values:  0\n"
     ]
    },
    {
     "name": "stderr",
     "output_type": "stream",
     "text": [
      "\r",
      "[Stage 20:===========================================>              (3 + 1) / 4]\r",
      "\r",
      "                                                                                \r"
     ]
    },
    {
     "name": "stdout",
     "output_type": "stream",
     "text": [
      "( lastName ) missing values:  8346\n",
      "( length ) missing values:  58392\n",
      "( level ) missing values:  0\n",
      "( location ) missing values:  8346\n",
      "( method ) missing values:  0\n",
      "( page ) missing values:  0\n",
      "( registration ) missing values:  8346\n",
      "( sessionId ) missing values:  0\n",
      "( song ) missing values:  58392\n",
      "( status ) missing values:  0\n",
      "( ts ) missing values:  0\n",
      "( userAgent ) missing values:  8346\n",
      "( userId ) missing values:  0\n"
     ]
    }
   ],
   "source": [
    "# Check for missing values\n",
    "for value in df.columns:\n",
    "    print (\"(\",value,\") missing values: \", df.where(df[value].isNull()).count())\n",
    "    "
   ]
  },
  {
   "cell_type": "code",
   "execution_count": 11,
   "id": "b382391e",
   "metadata": {},
   "outputs": [
    {
     "name": "stdout",
     "output_type": "stream",
     "text": [
      "( artist ) empty values:  0\n",
      "( auth ) empty values:  0\n",
      "( firstName ) empty values:  0\n",
      "( gender ) empty values:  0\n",
      "( itemInSession ) empty values:  0\n",
      "( lastName ) empty values:  0\n",
      "( length ) empty values:  0\n",
      "( level ) empty values:  0\n",
      "( location ) empty values:  0\n",
      "( method ) empty values:  0\n",
      "( page ) empty values:  0\n",
      "( registration ) empty values:  0\n",
      "( sessionId ) empty values:  0\n",
      "( song ) empty values:  0\n",
      "( status ) empty values:  0\n",
      "( ts ) empty values:  0\n",
      "( userAgent ) empty values:  0\n",
      "( userId ) empty values:  8346\n"
     ]
    }
   ],
   "source": [
    "# Check for empty values\n",
    "for value in df.columns:\n",
    "    print (\"(\",value,\") empty values: \", df.filter(df[value] == '').count())\n",
    "    "
   ]
  },
  {
   "cell_type": "markdown",
   "id": "f1d9b295",
   "metadata": {},
   "source": [
    "**Missing Values**    \n",
    "\n",
    "Two different levels of null values: 8346 and 58392.  \n",
    "\n",
    "8346 represents only 2% of our data, and can dropped.  \n",
    "58392 represents 20% of the data - need more analysis.\n"
   ]
  },
  {
   "cell_type": "markdown",
   "id": "e9ea17ce",
   "metadata": {},
   "source": [
    "## Remove Columns with Missing userId  or sessionId Entries\n",
    "* Remove entries with missing userId or sessionId"
   ]
  },
  {
   "cell_type": "code",
   "execution_count": 12,
   "id": "4aec9ded",
   "metadata": {},
   "outputs": [
    {
     "name": "stdout",
     "output_type": "stream",
     "text": [
      "There are 286500 rows in the dataset\n",
      " 8346 missing values\n"
     ]
    },
    {
     "data": {
      "text/plain": [
       "278154"
      ]
     },
     "execution_count": 12,
     "metadata": {},
     "output_type": "execute_result"
    }
   ],
   "source": [
    "# Remove records with missing values in userId or sessionId\n",
    "num_rows = df.count()\n",
    "print(f\"There are {df.count()} rows in the dataset\")\n",
    "\n",
    "df = df.dropna(how = 'any', subset = ['userId', 'sessionId'])\n",
    "df = df.filter(df.userId != \"\")\n",
    "\n",
    "print(f\" {num_rows - df.count()} missing values\")\n",
    "\n",
    "# count records after filter\n",
    "df.count()\n"
   ]
  },
  {
   "cell_type": "markdown",
   "id": "a79db0ca",
   "metadata": {},
   "source": [
    "## Add datetime column to dataframe\n"
   ]
  },
  {
   "cell_type": "code",
   "execution_count": 13,
   "id": "c6d34ee7",
   "metadata": {},
   "outputs": [],
   "source": [
    "# Convert timestamp format to a recognizable datetime format\n",
    "ts_todate = udf(lambda x: datetime.datetime.fromtimestamp(x/1000.0).strftime('%Y-%m-%d %H:%M:%S'))\n",
    "df = df.withColumn('datetime', ts_todate(df.ts))\n"
   ]
  },
  {
   "cell_type": "code",
   "execution_count": 14,
   "id": "d0cad2c3",
   "metadata": {},
   "outputs": [
    {
     "name": "stderr",
     "output_type": "stream",
     "text": [
      "\r",
      "[Stage 119:>                                                        (0 + 1) / 1]\r"
     ]
    },
    {
     "name": "stdout",
     "output_type": "stream",
     "text": [
      "22/12/04 13:22:23 WARN PythonUDFRunner: Detected deadlock while completing task 0.0 in stage 119 (TID 187): Attempting to kill Python Worker\n",
      "-RECORD 0---------------------------------------------------------------------------------\n",
      " artist        | Martha Tilston                                                           \n",
      " auth          | Logged In                                                                \n",
      " firstName     | Colin                                                                    \n",
      " gender        | M                                                                        \n",
      " itemInSession | 50                                                                       \n",
      " lastName      | Freeman                                                                  \n",
      " length        | 277.89016                                                                \n",
      " level         | paid                                                                     \n",
      " location      | Bakersfield, CA                                                          \n",
      " method        | PUT                                                                      \n",
      " page          | NextSong                                                                 \n",
      " registration  | 1538173362000                                                            \n",
      " sessionId     | 29                                                                       \n",
      " song          | Rockpools                                                                \n",
      " status        | 200                                                                      \n",
      " ts            | 1538352117000                                                            \n",
      " userAgent     | Mozilla/5.0 (Windows NT 6.1; WOW64; rv:31.0) Gecko/20100101 Firefox/31.0 \n",
      " userId        | 30                                                                       \n",
      " datetime      | 2018-09-30 17:01:57                                                      \n",
      "only showing top 1 row\n",
      "\n"
     ]
    },
    {
     "name": "stderr",
     "output_type": "stream",
     "text": [
      "\r",
      "                                                                                \r"
     ]
    }
   ],
   "source": [
    "# show first lines of dataframe\n",
    "df.show(n=1, truncate=False, vertical=True)\n"
   ]
  },
  {
   "cell_type": "markdown",
   "id": "c5276c08",
   "metadata": {},
   "source": [
    "# Exploratory Data Analysis\n",
    "When you're working with the full dataset, perform EDA by loading a small subset of the data and doing basic manipulations within Spark. In this workspace, you are already provided a small subset of data you can explore.\n",
    "\n",
    "### Define Churn\n",
    "\n",
    "Once you've done some preliminary analysis, create a column `Churn` to use as the label for your model. I suggest using the `Cancellation Confirmation` events to define your churn, which happen for both paid and free users. As a bonus task, you can also look into the `Downgrade` events.\n",
    "\n",
    "### Explore Data\n",
    "Once you've defined churn, perform some exploratory data analysis to observe the behavior for users who stayed vs users who churned. You can start by exploring aggregates on these two groups of users, observing how much of a specific action they experienced per a certain time unit or number of songs played."
   ]
  },
  {
   "cell_type": "markdown",
   "id": "ff0736aa",
   "metadata": {},
   "source": [
    "## Define Churn - Cancellation Events"
   ]
  },
  {
   "cell_type": "code",
   "execution_count": 15,
   "id": "094456bd",
   "metadata": {},
   "outputs": [
    {
     "name": "stderr",
     "output_type": "stream",
     "text": [
      "\r",
      "[Stage 120:>                                                        (0 + 1) / 1]\r"
     ]
    },
    {
     "name": "stdout",
     "output_type": "stream",
     "text": [
      "+--------------+---------+---------+------+-------------+--------+---------+-----+---------------+------+--------+-------------+---------+---------+------+-------------+--------------------+------+-------------------+-----+\n",
      "|        artist|     auth|firstName|gender|itemInSession|lastName|   length|level|       location|method|    page| registration|sessionId|     song|status|           ts|           userAgent|userId|           datetime|churn|\n",
      "+--------------+---------+---------+------+-------------+--------+---------+-----+---------------+------+--------+-------------+---------+---------+------+-------------+--------------------+------+-------------------+-----+\n",
      "|Martha Tilston|Logged In|    Colin|     M|           50| Freeman|277.89016| paid|Bakersfield, CA|   PUT|NextSong|1538173362000|       29|Rockpools|   200|1538352117000|Mozilla/5.0 (Wind...|    30|2018-09-30 17:01:57|    0|\n",
      "+--------------+---------+---------+------+-------------+--------+---------+-----+---------------+------+--------+-------------+---------+---------+------+-------------+--------------------+------+-------------------+-----+\n",
      "only showing top 1 row\n",
      "\n"
     ]
    },
    {
     "name": "stderr",
     "output_type": "stream",
     "text": [
      "\r",
      "                                                                                \r"
     ]
    }
   ],
   "source": [
    "# churn events\n",
    "flag_event = udf(lambda x: 1 if x == 'Cancellation Confirmation' else 0, IntegerType())\n",
    "churn_df = df.withColumn('churn', flag_event('page'))\n",
    "\n",
    "churn_df.show(1)\n"
   ]
  },
  {
   "cell_type": "code",
   "execution_count": 16,
   "id": "7afa12e2",
   "metadata": {},
   "outputs": [
    {
     "name": "stderr",
     "output_type": "stream",
     "text": [
      "[Stage 121:==============>                                          (1 + 3) / 4]\r"
     ]
    },
    {
     "name": "stdout",
     "output_type": "stream",
     "text": [
      "+-----+------------------+-----------------+----------+----------+\n",
      "|churn|       mean_length|    stddev_length|min_length|max_length|\n",
      "+-----+------------------+-----------------+----------+----------+\n",
      "|    1|              null|             null|      null|      null|\n",
      "|    0|249.11718197783583|99.23517921058313|   0.78322|3024.66567|\n",
      "+-----+------------------+-----------------+----------+----------+\n",
      "\n"
     ]
    },
    {
     "name": "stderr",
     "output_type": "stream",
     "text": [
      "\r",
      "                                                                                \r"
     ]
    }
   ],
   "source": [
    "# calculate statistics for session length by churn\n",
    "churn_df.select(['churn', 'length']).groupby('churn').agg(avg('length').alias('mean_length'), \n",
    "                                                 stddev('length').alias('stddev_length'),\n",
    "                                                 Fmin('length').alias('min_length'),\n",
    "                                                 Fmax('length').alias('max_length')).show(5)\n"
   ]
  },
  {
   "cell_type": "code",
   "execution_count": 17,
   "id": "8882dbbb",
   "metadata": {},
   "outputs": [
    {
     "name": "stderr",
     "output_type": "stream",
     "text": [
      "\r",
      "[Stage 124:>                                                        (0 + 1) / 1]\r"
     ]
    },
    {
     "name": "stdout",
     "output_type": "stream",
     "text": [
      "-RECORD 0---------------------------------------------------------------------------------\n",
      " artist        | Martha Tilston                                                           \n",
      " auth          | Logged In                                                                \n",
      " firstName     | Colin                                                                    \n",
      " gender        | M                                                                        \n",
      " itemInSession | 50                                                                       \n",
      " lastName      | Freeman                                                                  \n",
      " length        | 277.89016                                                                \n",
      " level         | paid                                                                     \n",
      " location      | Bakersfield, CA                                                          \n",
      " method        | PUT                                                                      \n",
      " page          | NextSong                                                                 \n",
      " registration  | 1538173362000                                                            \n",
      " sessionId     | 29                                                                       \n",
      " song          | Rockpools                                                                \n",
      " status        | 200                                                                      \n",
      " ts            | 1538352117000                                                            \n",
      " userAgent     | Mozilla/5.0 (Windows NT 6.1; WOW64; rv:31.0) Gecko/20100101 Firefox/31.0 \n",
      " userId        | 30                                                                       \n",
      " datetime      | 2018-09-30 17:01:57                                                      \n",
      " churn         | 0                                                                        \n",
      "only showing top 1 row\n",
      "\n"
     ]
    },
    {
     "name": "stderr",
     "output_type": "stream",
     "text": [
      "\r",
      "                                                                                \r"
     ]
    }
   ],
   "source": [
    "# show first lines of dataframe\n",
    "churn_df.show(n=1, truncate=False, vertical=True)\n"
   ]
  },
  {
   "cell_type": "code",
   "execution_count": 18,
   "id": "86550d29",
   "metadata": {},
   "outputs": [
    {
     "data": {
      "text/plain": [
       "DataFrame[artist: string, auth: string, firstName: string, gender: string, itemInSession: bigint, lastName: string, length: double, level: string, location: string, method: string, page: string, registration: bigint, sessionId: bigint, song: string, status: bigint, ts: bigint, userAgent: string, userId: string, datetime: string, churn: int]"
      ]
     },
     "execution_count": 18,
     "metadata": {},
     "output_type": "execute_result"
    }
   ],
   "source": [
    "churn_df"
   ]
  },
  {
   "cell_type": "code",
   "execution_count": 19,
   "id": "f0ea8767",
   "metadata": {},
   "outputs": [
    {
     "name": "stdout",
     "output_type": "stream",
     "text": [
      "(278154, 20)\n"
     ]
    }
   ],
   "source": [
    "print((churn_df.count(), len(churn_df.columns)))"
   ]
  },
  {
   "cell_type": "markdown",
   "id": "f93b6789",
   "metadata": {},
   "source": [
    "## Data Exploration\n"
   ]
  },
  {
   "cell_type": "markdown",
   "id": "445a531b",
   "metadata": {},
   "source": [
    "## Churn Events"
   ]
  },
  {
   "cell_type": "markdown",
   "id": "35592e34",
   "metadata": {},
   "source": [
    "**Compare user behavior between churn and not churn.**"
   ]
  },
  {
   "cell_type": "code",
   "execution_count": 20,
   "id": "ec131776",
   "metadata": {},
   "outputs": [
    {
     "name": "stderr",
     "output_type": "stream",
     "text": [
      "                                                                                \r"
     ]
    },
    {
     "data": {
      "image/png": "[encoded data removed]",
      "text/plain": [
       "<Figure size 432x288 with 1 Axes>"
      ]
     },
     "metadata": {
      "needs_background": "light"
     },
     "output_type": "display_data"
    }
   ],
   "source": [
    "# plot churn ratio for unique users\n",
    "user_churn = churn_df.dropDuplicates([\"userId\", \"churn\"]).groupby([\"churn\"]).count().sort(\"churn\").toPandas()\n",
    "ax = sns.barplot(x='churn', y='count', data=user_churn, palette='tab20c')\n",
    "\n",
    "plt.title('Churn Ratio of Unique Users', size=14, fontweight = 'bold')\n",
    "plt.xlabel('Churn', fontsize=12, weight='bold')\n",
    "plt.ylabel('No. Users', fontsize=12, weight='bold')\n",
    "sns.despine(ax=ax);\n",
    "\n",
    "plt.savefig('plots/churn_ratio_unique_users.png')\n"
   ]
  },
  {
   "cell_type": "code",
   "execution_count": 21,
   "id": "32a8dde6",
   "metadata": {},
   "outputs": [
    {
     "name": "stderr",
     "output_type": "stream",
     "text": [
      "                                                                                \r"
     ]
    },
    {
     "data": {
      "image/png": "[encoded data removed]",
      "text/plain": [
       "<Figure size 432x288 with 1 Axes>"
      ]
     },
     "metadata": {
      "needs_background": "light"
     },
     "output_type": "display_data"
    }
   ],
   "source": [
    "# plot churn ratio for paid and free subscribers \n",
    "level_churn = churn_df.dropDuplicates([\"userId\", 'level', \"churn\"]).groupby([\"churn\", 'level']).count().sort(\"churn\").toPandas()\n",
    "ax = sns.barplot(x=\"churn\", y=\"count\", hue='level', data=level_churn, palette='tab20c')\n",
    "\n",
    "plt.title('Churn by Subscription Level', size=14, fontweight = 'bold')\n",
    "plt.xlabel('Churn', fontsize=12, weight='bold')\n",
    "plt.ylabel('Subscription Level', fontsize=12, weight='bold')\n",
    "sns.despine(ax=ax);\n",
    "\n",
    "plt.savefig('plots/churn_by_subscription_level')\n"
   ]
  },
  {
   "cell_type": "markdown",
   "id": "8ad0171f",
   "metadata": {},
   "source": [
    "## User Engagement & Page Events\n"
   ]
  },
  {
   "cell_type": "code",
   "execution_count": 22,
   "id": "6d84c229",
   "metadata": {},
   "outputs": [
    {
     "name": "stderr",
     "output_type": "stream",
     "text": [
      "\r",
      "[Stage 154:>                                                        (0 + 4) / 4]\r"
     ]
    },
    {
     "name": "stdout",
     "output_type": "stream",
     "text": [
      "+--------------------+\n",
      "|                page|\n",
      "+--------------------+\n",
      "|              Cancel|\n",
      "|    Submit Downgrade|\n",
      "|         Thumbs Down|\n",
      "|                Home|\n",
      "|           Downgrade|\n",
      "|         Roll Advert|\n",
      "|              Logout|\n",
      "|       Save Settings|\n",
      "|Cancellation Conf...|\n",
      "|               About|\n",
      "|            Settings|\n",
      "|     Add to Playlist|\n",
      "|          Add Friend|\n",
      "|            NextSong|\n",
      "|           Thumbs Up|\n",
      "|                Help|\n",
      "|             Upgrade|\n",
      "|               Error|\n",
      "|      Submit Upgrade|\n",
      "+--------------------+\n",
      "\n"
     ]
    },
    {
     "name": "stderr",
     "output_type": "stream",
     "text": [
      "\r",
      "[Stage 154:============================>                            (2 + 2) / 4]\r",
      "\r",
      "                                                                                \r"
     ]
    }
   ],
   "source": [
    "# create a view for page events\n",
    "df.createOrReplaceTempView(\"df_page\")\n",
    "\n",
    "# page events: users with userId & sessionId\n",
    "spark.sql(\n",
    "    '''\n",
    "    SELECT DISTINCT page\n",
    "    FROM df_page\n",
    "    EXCEPT\n",
    "    SELECT DISTINCT page\n",
    "    FROM df_page\n",
    "    WHERE userId == \"\"\n",
    "    '''\n",
    ").show()\n"
   ]
  },
  {
   "cell_type": "code",
   "execution_count": 23,
   "id": "f386cdae",
   "metadata": {},
   "outputs": [
    {
     "name": "stderr",
     "output_type": "stream",
     "text": [
      "                                                                                \r"
     ]
    },
    {
     "data": {
      "image/png": "[encoded data removed]",
      "text/plain": [
       "<Figure size 864x432 with 1 Axes>"
      ]
     },
     "metadata": {
      "needs_background": "light"
     },
     "output_type": "display_data"
    }
   ],
   "source": [
    "# plot page events\n",
    "page_events = df.groupby(\"page\").count().alias(\"count\").toPandas()\n",
    "\n",
    "plt.figure(figsize=(12, 6))\n",
    "ax = sns.barplot(x=\"count\", y=\"page\", data=page_events, palette='ocean')\n",
    "ax.set_title(\"Page Events: User Engagement\", fontsize=14, weight='bold')\n",
    "ax.set_ylabel(\"Event\", fontsize=12, weight='bold')\n",
    "ax.set_xlabel(\"User Actions\", fontsize=12, weight='bold')\n",
    "\n",
    "plt.savefig('plots/page_events_user_engagement.png')\n"
   ]
  },
  {
   "cell_type": "code",
   "execution_count": 24,
   "id": "936e983c",
   "metadata": {},
   "outputs": [
    {
     "name": "stderr",
     "output_type": "stream",
     "text": [
      "                                                                                \r"
     ]
    },
    {
     "data": {
      "text/html": [
       "<div>\n",
       "<style scoped>\n",
       "    .dataframe tbody tr th:only-of-type {\n",
       "        vertical-align: middle;\n",
       "    }\n",
       "\n",
       "    .dataframe tbody tr th {\n",
       "        vertical-align: top;\n",
       "    }\n",
       "\n",
       "    .dataframe thead th {\n",
       "        text-align: right;\n",
       "    }\n",
       "</style>\n",
       "<table border=\"1\" class=\"dataframe\">\n",
       "  <thead>\n",
       "    <tr style=\"text-align: right;\">\n",
       "      <th></th>\n",
       "      <th>userId</th>\n",
       "      <th>About</th>\n",
       "      <th>Add Friend</th>\n",
       "      <th>Add to Playlist</th>\n",
       "      <th>Cancel</th>\n",
       "      <th>churn</th>\n",
       "      <th>Downgrade</th>\n",
       "      <th>Error</th>\n",
       "      <th>Help</th>\n",
       "      <th>Home</th>\n",
       "      <th>Logout</th>\n",
       "      <th>NextSong</th>\n",
       "      <th>Roll Advert</th>\n",
       "      <th>Save Settings</th>\n",
       "      <th>Settings</th>\n",
       "      <th>Submit Downgrade</th>\n",
       "      <th>Submit Upgrade</th>\n",
       "      <th>Thumbs Down</th>\n",
       "      <th>Thumbs Up</th>\n",
       "      <th>Upgrade</th>\n",
       "    </tr>\n",
       "  </thead>\n",
       "  <tbody>\n",
       "    <tr>\n",
       "      <th>0</th>\n",
       "      <td>100010</td>\n",
       "      <td>1</td>\n",
       "      <td>4</td>\n",
       "      <td>7</td>\n",
       "      <td>0</td>\n",
       "      <td>0</td>\n",
       "      <td>0</td>\n",
       "      <td>0</td>\n",
       "      <td>2</td>\n",
       "      <td>11</td>\n",
       "      <td>5</td>\n",
       "      <td>275</td>\n",
       "      <td>52</td>\n",
       "      <td>0</td>\n",
       "      <td>0</td>\n",
       "      <td>0</td>\n",
       "      <td>0</td>\n",
       "      <td>5</td>\n",
       "      <td>17</td>\n",
       "      <td>2</td>\n",
       "    </tr>\n",
       "    <tr>\n",
       "      <th>1</th>\n",
       "      <td>200002</td>\n",
       "      <td>3</td>\n",
       "      <td>4</td>\n",
       "      <td>8</td>\n",
       "      <td>0</td>\n",
       "      <td>0</td>\n",
       "      <td>5</td>\n",
       "      <td>0</td>\n",
       "      <td>2</td>\n",
       "      <td>20</td>\n",
       "      <td>5</td>\n",
       "      <td>387</td>\n",
       "      <td>7</td>\n",
       "      <td>0</td>\n",
       "      <td>3</td>\n",
       "      <td>0</td>\n",
       "      <td>1</td>\n",
       "      <td>6</td>\n",
       "      <td>21</td>\n",
       "      <td>2</td>\n",
       "    </tr>\n",
       "    <tr>\n",
       "      <th>2</th>\n",
       "      <td>125</td>\n",
       "      <td>0</td>\n",
       "      <td>0</td>\n",
       "      <td>0</td>\n",
       "      <td>1</td>\n",
       "      <td>1</td>\n",
       "      <td>0</td>\n",
       "      <td>0</td>\n",
       "      <td>0</td>\n",
       "      <td>0</td>\n",
       "      <td>0</td>\n",
       "      <td>8</td>\n",
       "      <td>1</td>\n",
       "      <td>0</td>\n",
       "      <td>0</td>\n",
       "      <td>0</td>\n",
       "      <td>0</td>\n",
       "      <td>0</td>\n",
       "      <td>0</td>\n",
       "      <td>0</td>\n",
       "    </tr>\n",
       "    <tr>\n",
       "      <th>3</th>\n",
       "      <td>51</td>\n",
       "      <td>2</td>\n",
       "      <td>28</td>\n",
       "      <td>52</td>\n",
       "      <td>1</td>\n",
       "      <td>1</td>\n",
       "      <td>23</td>\n",
       "      <td>1</td>\n",
       "      <td>12</td>\n",
       "      <td>75</td>\n",
       "      <td>24</td>\n",
       "      <td>2111</td>\n",
       "      <td>0</td>\n",
       "      <td>1</td>\n",
       "      <td>12</td>\n",
       "      <td>0</td>\n",
       "      <td>0</td>\n",
       "      <td>21</td>\n",
       "      <td>100</td>\n",
       "      <td>0</td>\n",
       "    </tr>\n",
       "    <tr>\n",
       "      <th>4</th>\n",
       "      <td>124</td>\n",
       "      <td>7</td>\n",
       "      <td>74</td>\n",
       "      <td>118</td>\n",
       "      <td>0</td>\n",
       "      <td>0</td>\n",
       "      <td>41</td>\n",
       "      <td>6</td>\n",
       "      <td>23</td>\n",
       "      <td>176</td>\n",
       "      <td>59</td>\n",
       "      <td>4079</td>\n",
       "      <td>4</td>\n",
       "      <td>6</td>\n",
       "      <td>20</td>\n",
       "      <td>0</td>\n",
       "      <td>0</td>\n",
       "      <td>41</td>\n",
       "      <td>171</td>\n",
       "      <td>0</td>\n",
       "    </tr>\n",
       "  </tbody>\n",
       "</table>\n",
       "</div>"
      ],
      "text/plain": [
       "   userId  About  Add Friend  Add to Playlist  Cancel  churn  Downgrade  \\\n",
       "0  100010      1           4                7       0      0          0   \n",
       "1  200002      3           4                8       0      0          5   \n",
       "2     125      0           0                0       1      1          0   \n",
       "3      51      2          28               52       1      1         23   \n",
       "4     124      7          74              118       0      0         41   \n",
       "\n",
       "   Error  Help  Home  Logout  NextSong  Roll Advert  Save Settings  Settings  \\\n",
       "0      0     2    11       5       275           52              0         0   \n",
       "1      0     2    20       5       387            7              0         3   \n",
       "2      0     0     0       0         8            1              0         0   \n",
       "3      1    12    75      24      2111            0              1        12   \n",
       "4      6    23   176      59      4079            4              6        20   \n",
       "\n",
       "   Submit Downgrade  Submit Upgrade  Thumbs Down  Thumbs Up  Upgrade  \n",
       "0                 0               0            5         17        2  \n",
       "1                 0               1            6         21        2  \n",
       "2                 0               0            0          0        0  \n",
       "3                 0               0           21        100        0  \n",
       "4                 0               0           41        171        0  "
      ]
     },
     "execution_count": 24,
     "metadata": {},
     "output_type": "execute_result"
    }
   ],
   "source": [
    "# create table for page events\n",
    "page_events = df.groupBy(['userId']).pivot('page').count().fillna(0)\n",
    "page_events = page_events.toPandas()\n",
    "page_events = page_events.rename(columns={\"Cancellation Confirmation\": \"churn\"})\n",
    "page_events.head()\n"
   ]
  },
  {
   "cell_type": "code",
   "execution_count": 25,
   "id": "f6849f6c",
   "metadata": {},
   "outputs": [
    {
     "data": {
      "image/png": "[encoded data removed]",
      "text/plain": [
       "<Figure size 864x864 with 15 Axes>"
      ]
     },
     "metadata": {
      "needs_background": "light"
     },
     "output_type": "display_data"
    }
   ],
   "source": [
    "# plot variation in page events by churn\n",
    "flierprops = dict(marker='o', markerfacecolor='blue', markersize=4,\n",
    "                  linestyle='none')\n",
    "\n",
    "fig = plt.figure(figsize=(12, 12))\n",
    "page_features = ['About', 'Add Friend', 'Add to Playlist', 'Downgrade', 'Error', 'Help', 'Home', \n",
    "                 'Logout', 'NextSong', 'Roll Advert', 'Save Settings', 'Settings', 'Thumbs Down', \n",
    "                 'Thumbs Up', 'Upgrade']\n",
    "\n",
    "for i, col in enumerate(page_features):\n",
    "    ax = fig.add_subplot(4,5, i+1)\n",
    "    page_events.boxplot(col, ax=ax, grid=False,  by='churn', flierprops=flierprops, color='blue');\n",
    "\n",
    "fig.suptitle('Page Event Distribution by Churn', size=16, fontweight = 'bold')\n",
    "plt.tight_layout()\n",
    "\n",
    "plt.savefig('plots/page_event_distribution_by_churn.png')\n"
   ]
  },
  {
   "cell_type": "code",
   "execution_count": 26,
   "id": "7b26aef9",
   "metadata": {},
   "outputs": [
    {
     "name": "stderr",
     "output_type": "stream",
     "text": [
      "/Users/andrewnachtigal/opt/anaconda3/lib/python3.9/site-packages/seaborn/categorical.py:3717: UserWarning: The `factorplot` function has been renamed to `catplot`. The original name will be removed in a future release. Please update your code. Note that the default `kind` in `factorplot` (`'point'`) has changed `'strip'` in `catplot`.\n",
      "  warnings.warn(msg)\n"
     ]
    },
    {
     "data": {
      "text/plain": [
       "<Figure size 720x432 with 0 Axes>"
      ]
     },
     "metadata": {},
     "output_type": "display_data"
    },
    {
     "data": {
      "image/png": "[encoded data removed]",
      "text/plain": [
       "<Figure size 1080x360 with 1 Axes>"
      ]
     },
     "metadata": {
      "needs_background": "light"
     },
     "output_type": "display_data"
    }
   ],
   "source": [
    "# plot page events by churn\n",
    "page_events['churn'] = page_events['churn'].replace({1: \"churn\", 0: \"not churn\"})\n",
    "\n",
    "page_events_melt = pd.melt(\n",
    "    page_events, id_vars=['userId', 'churn'], \n",
    "    value_vars = list(page_events.columns[1:].drop('churn')),\n",
    "    var_name='page', \n",
    "    value_name='visit_count'\n",
    ").reset_index()\n",
    "\n",
    "fig = plt.figure(figsize=(10, 6))\n",
    "sns.factorplot(x=\"page\", y=\"visit_count\", hue=\"churn\", data=page_events_melt, dodge=False,\n",
    "               kind=\"bar\", aspect=3, legend=False, log=True, palette='tab20c');\n",
    "plt.xticks(rotation=45, ha='right', fontsize=12)\n",
    "plt.yticks(fontsize=12)\n",
    "plt.title(\"Page Events by Churn\", size=14, fontweight='bold')\n",
    "plt.xlabel(\"Page Events\", fontsize=12, weight='bold')\n",
    "plt.ylabel(\"Event Count\", fontsize=12, weight='bold')\n",
    "plt.legend(loc='best', fontsize=12);\n",
    "\n",
    "plt.savefig('plots/page_events_by_churn.png')\n"
   ]
  },
  {
   "cell_type": "markdown",
   "id": "35657620",
   "metadata": {},
   "source": [
    "## missing"
   ]
  },
  {
   "cell_type": "code",
   "execution_count": 27,
   "id": "411d92f2",
   "metadata": {},
   "outputs": [],
   "source": [
    "# Delete columns with empty userid\n",
    "sparkify_events = sparkify_events.filter(sparkify_events.userId != \"\")\n"
   ]
  },
  {
   "cell_type": "markdown",
   "id": "d94045f3",
   "metadata": {},
   "source": [
    "## churn"
   ]
  },
  {
   "cell_type": "code",
   "execution_count": 28,
   "id": "438e5cf7",
   "metadata": {},
   "outputs": [],
   "source": [
    "# Flag definition for churn (Cancellation Confirmation)\n",
    "churn_flag = udf(lambda x: 1 if x == \"Cancellation Confirmation\" else 0, IntegerType())\n",
    "sparkify_events = sparkify_events.withColumn(\"churn\", churn_flag(\"page\"))\n",
    "\n",
    "# Apply churn flag to dataset\n",
    "window_val = Window.partitionBy(\"userId\")\n",
    "sparkify_events = sparkify_events.withColumn(\"churn\", Fsum(\"churn\").over(window_val))\n"
   ]
  },
  {
   "cell_type": "code",
   "execution_count": 29,
   "id": "14ef61a8",
   "metadata": {},
   "outputs": [
    {
     "name": "stderr",
     "output_type": "stream",
     "text": [
      "[Stage 174:==============>                                          (1 + 3) / 4]\r"
     ]
    },
    {
     "name": "stdout",
     "output_type": "stream",
     "text": [
      "+-----+-----+\n",
      "|churn|count|\n",
      "+-----+-----+\n",
      "|    0|  173|\n",
      "|    1|   52|\n",
      "+-----+-----+\n",
      "\n"
     ]
    },
    {
     "name": "stderr",
     "output_type": "stream",
     "text": [
      "\r",
      "                                                                                \r"
     ]
    }
   ],
   "source": [
    "# churn\n",
    "sparkify_events[\"userId\", \"churn\"].dropDuplicates().groupby(\"churn\").count().show()\n"
   ]
  },
  {
   "cell_type": "code",
   "execution_count": 30,
   "id": "2cd4b37c",
   "metadata": {},
   "outputs": [
    {
     "name": "stderr",
     "output_type": "stream",
     "text": [
      "[Stage 180:==============>                                          (1 + 3) / 4]\r"
     ]
    },
    {
     "name": "stdout",
     "output_type": "stream",
     "text": [
      "-RECORD 0------------------------------------------------------------------------------------------\n",
      " artist        | OneRepublic                                                                       \n",
      " auth          | Logged In                                                                         \n",
      " firstName     | Bryanna                                                                           \n",
      " gender        | F                                                                                 \n",
      " itemInSession | 0                                                                                 \n",
      " lastName      | Stone                                                                             \n",
      " length        | 224.67873                                                                         \n",
      " level         | paid                                                                              \n",
      " location      | Los Angeles-Long Beach-Anaheim, CA                                                \n",
      " method        | PUT                                                                               \n",
      " page          | NextSong                                                                          \n",
      " registration  | 1537440271000                                                                     \n",
      " sessionId     | 41                                                                                \n",
      " song          | Secrets                                                                           \n",
      " status        | 200                                                                               \n",
      " ts            | 1539101664000                                                                     \n",
      " userAgent     | Mozilla/5.0 (Macintosh; Intel Mac OS X 10.7; rv:31.0) Gecko/20100101 Firefox/31.0 \n",
      " userId        | 100008                                                                            \n",
      " churn         | 0                                                                                 \n",
      "only showing top 1 row\n",
      "\n"
     ]
    },
    {
     "name": "stderr",
     "output_type": "stream",
     "text": [
      "\r",
      "                                                                                \r"
     ]
    }
   ],
   "source": [
    "#sparkify_events\n",
    "sparkify_events.show(n=1, truncate=False, vertical=True)\n"
   ]
  },
  {
   "cell_type": "markdown",
   "id": "06e3d796",
   "metadata": {},
   "source": [
    " # Feature Engineering\n",
    "Once you've familiarized yourself with the data, build out the features you find promising to train your model on. To work with the full dataset, you can follow the following steps.\n",
    "- Write a script to extract the necessary features from the smaller subset of data\n",
    "- Ensure that your script is scalable, using the best practices discussed in Lesson 3\n",
    "- Try your script on the full data set, debugging your script if necessary\n",
    "\n",
    "If you are working in the classroom workspace, you can just extract features based on the small subset of data contained here. Be sure to transfer over this work to the larger dataset when you work on your Spark cluster."
   ]
  },
  {
   "cell_type": "markdown",
   "id": "cafce9db",
   "metadata": {},
   "source": [
    "## Features Used In Model\n",
    "* Listened songs\n",
    "* Average played songs per session\n",
    "* Songs added to playlist\n",
    "* Total different artists listened\n",
    "* Average played time per session\n",
    "* Sessions of the user\n",
    "* Time passed since registration\n",
    "* Friends number\n",
    "* Thumbs up\n",
    "* Thumbs down\n",
    "* Help requests\n",
    "* Errors\n",
    "* Downgrade\n",
    "* Gender\n",
    "* Free or paid user\n",
    "* Churn\n",
    "* Roll Advertisements  \n"
   ]
  },
  {
   "cell_type": "markdown",
   "id": "4cb044f0",
   "metadata": {},
   "source": [
    "## Model Refinement\n",
    "\n",
    "Initially, fewer features were used in modeling. Roll Adverts were included as an engineered feature after initial dataset features were used."
   ]
  },
  {
   "cell_type": "markdown",
   "id": "c791f5e2",
   "metadata": {},
   "source": [
    "### feature: downgrade"
   ]
  },
  {
   "cell_type": "code",
   "execution_count": 31,
   "id": "c6a78755",
   "metadata": {},
   "outputs": [],
   "source": [
    "# downgrade\n",
    "# Flag definition for churn (Downgrade)\n",
    "churn_downgrade = udf(lambda x: 1 if x == \"Downgrade\" else 0, IntegerType())\n",
    "sparkify_events = sparkify_events.withColumn(\"downgrade\", churn_downgrade(\"page\"))\n",
    "\n",
    "# Apply churn flag to dataset\n",
    "windowval_val = Window.partitionBy(\"userId\")\n",
    "sparkify_events = sparkify_events.withColumn(\"downgrade\", Fsum(\"downgrade\").over(windowval_val))\n"
   ]
  },
  {
   "cell_type": "code",
   "execution_count": 32,
   "id": "f76401af",
   "metadata": {},
   "outputs": [
    {
     "name": "stderr",
     "output_type": "stream",
     "text": [
      "\r",
      "[Stage 183:>                                                        (0 + 4) / 4]\r",
      "\r",
      "                                                                                \r"
     ]
    }
   ],
   "source": [
    "# page events\n",
    "data = sparkify_events.groupby(\"page\").count().alias(\"count\").toPandas()\n"
   ]
  },
  {
   "cell_type": "markdown",
   "id": "a04721f4",
   "metadata": {},
   "source": [
    "### feature: roll advert"
   ]
  },
  {
   "cell_type": "code",
   "execution_count": 33,
   "id": "f5ac901c",
   "metadata": {},
   "outputs": [],
   "source": [
    "# Advertisements\n",
    "# Flag definition for churn (advert)\n",
    "churn_advert = udf(lambda x: 1 if x == \"Roll Advert\" else 0, IntegerType())\n",
    "sparkify_events = sparkify_events.withColumn(\"roll_advert\", churn_advert(\"page\"))\n",
    "\n",
    "# Apply churn flag to dataset\n",
    "windowval_val = Window.partitionBy(\"userId\")\n",
    "sparkify_events = sparkify_events.withColumn(\"roll_advert\", Fsum(\"roll_advert\").over(windowval_val))\n"
   ]
  },
  {
   "cell_type": "code",
   "execution_count": 34,
   "id": "e8033514",
   "metadata": {},
   "outputs": [],
   "source": [
    "## Extract Features\n",
    "\n",
    "# songs played\n",
    "feat_listened_songs = sparkify_events.select('userID', 'page').where(sparkify_events.page == 'NextSong').groupBy('userID').\\\n",
    "                 count().withColumnRenamed('count', 'songs')\n",
    "\n",
    "# Average played songs per session\n",
    "feat_avg_songs_session = sparkify_events.where(sparkify_events.song.isNotNull()).groupby(['userId', 'sessionId']).count().\\\n",
    "                       groupby(['userId']).agg({'count': 'avg'}).withColumnRenamed('avg(count)', 'avg_songs_session')\n",
    "\n",
    "# Songs added to playlist\n",
    "feat_add_playlist = sparkify_events.select('userId', 'page').where(sparkify_events.page == 'Add to Playlist').\\\n",
    "                  groupBy('userId').count().withColumnRenamed('count', 'add_playlist')\n",
    "\n",
    "\n",
    "# unique artists per user\n",
    "feat_dif_artists = sparkify_events.select(\"userId\", \"artist\").dropDuplicates().groupby(\"userId\").count().\\\n",
    "                 withColumnRenamed('count', 'dif_artists')\n",
    "\n",
    "# Average played time per session\n",
    "played_max = sparkify_events.groupBy('userId', 'sessionId').max('ts').withColumnRenamed('max(ts)', 'max')\n",
    "played_min = sparkify_events.groupBy('userId', 'sessionId').min('ts').withColumnRenamed('min(ts)', 'min')\n",
    "played_session = played_min.join(played_max,['userId', 'sessionId'])\n",
    "played_session = played_session.select('userId', 'sessionId', ((played_session.max-played_session.min)/(1000*60)).\\\n",
    "                 alias('played_session'))\n",
    "                                                                                   \n",
    "# Average session length\n",
    "feat_played_time_session = played_session.groupBy('userId').agg(avg('played_session').alias('played_time_session'))     \n",
    "feat_played_time_session = feat_played_time_session.na.fill(0)\n",
    "\n",
    "# Number of Sessions per user\n",
    "feat_sessions_user = sparkify_events.select(\"userId\", \"sessionId\").dropDuplicates().groupby(\"userId\").count().\\\n",
    "                   withColumnRenamed('count', 'sessions_user')\n",
    "\n",
    "# User Tenure\n",
    "latest_time = sparkify_events.groupby(\"userId\").max(\"ts\").sort(\"userId\")\n",
    "sign_up_moment = sparkify_events.select(\"userId\", \"registration\").dropDuplicates().sort(\"userId\")\n",
    "feat_time_since_registration = sign_up_moment.join(latest_time, sign_up_moment.userId == latest_time.userId).\\\n",
    "                             select(sign_up_moment[\"userId\"], ((latest_time[\"max(ts)\"]-sign_up_moment[\"registration\"])/(1000*60)).\\\n",
    "                             alias(\"registration_min\"))\n",
    "\n",
    "# Friends number\n",
    "feat_friends = sparkify_events.select('userId', 'page').where(sparkify_events.page == 'Add Friend').groupBy('userId').\\\n",
    "            count().withColumnRenamed('count', 'friend').sort('userId')\n",
    "\n",
    "# Thumbs up\n",
    "feat_thumbs_up = sparkify_events.select('userId', 'page').where(sparkify_events.page == 'Thumbs Up').groupBy('userId').\\\n",
    "            count().withColumnRenamed('count', 'thumbs_up')\n",
    "\n",
    "# Thumbs down\n",
    "feat_thumbs_down = sparkify_events.select('userId', 'page').where(sparkify_events.page == 'Thumbs Down').groupBy('userId').\\\n",
    "            count().withColumnRenamed('count', 'thumbs_down')\n",
    "\n",
    "# Help requests\n",
    "feat_help = sparkify_events.select('userId', 'page').where(sparkify_events.page == 'Help').groupBy('userId').\\\n",
    "            count().withColumnRenamed('count', 'help')\n",
    "\n",
    "# Errors\n",
    "feat_errors = sparkify_events.select('userId', 'page').where(sparkify_events.page == 'Error').groupBy('userId').\\\n",
    "            count().withColumnRenamed('count', 'errors')\n",
    "\n",
    "# Downgrade\n",
    "feat_downgrade = sparkify_events[\"userId\", \"downgrade\"].dropDuplicates()\n",
    "\n",
    "# Gender\n",
    "feat_gender = sparkify_events.groupby('userId').agg(first(when(sparkify_events.gender == \"F\", 1).otherwise(0)).alias('gender'))\n",
    "\n",
    "# Free or paid user\n",
    "feat_level = sparkify_events.groupby('userId').agg(last(when(sparkify_events.level == 'paid', 1).otherwise(0)).\\\n",
    "           alias('level'))\n",
    "\n",
    "# Churn\n",
    "feat_churn = sparkify_events.select('userId', 'churn').dropDuplicates()\n",
    "\n",
    "# Roll Advert\n",
    "feat_roll_advert = sparkify_events[\"userId\", \"roll_advert\"].dropDuplicates()\n",
    "\n"
   ]
  },
  {
   "cell_type": "code",
   "execution_count": 70,
   "id": "bed5b32b",
   "metadata": {},
   "outputs": [],
   "source": [
    "# Join Features\n",
    "\n",
    "def features(df):\n",
    "    '''\n",
    "    INPUT:\n",
    "    df - dataframe with the data\n",
    "    \n",
    "    OUTPUT:\n",
    "    feat_data - dataframe with the selected features\n",
    "    \n",
    "    '''\n",
    "    \n",
    "    start = datetime.datetime.now()\n",
    "    \n",
    "    feat_listened_songs = df.select('userID', 'page').where(df.page == 'NextSong').groupBy('userID').\\\n",
    "                 count().withColumnRenamed('count', 'songs')\n",
    "\n",
    "    feat_avg_songs_session = df.where(df.song.isNotNull()).groupby(['userId', 'sessionId']).count().\\\n",
    "                           groupby(['userId']).agg({'count': 'avg'}).withColumnRenamed('avg(count)', 'avg_songs_session')\n",
    "\n",
    "    feat_add_playlist = df.select('userId', 'page').where(df.page == 'Add to Playlist').\\\n",
    "                      groupBy('userId').count().withColumnRenamed('count', 'add_playlist')\n",
    "\n",
    "    feat_dif_artists = df.select(\"userId\", \"artist\").dropDuplicates().groupby(\"userId\").count().\\\n",
    "                     withColumnRenamed('count', 'dif_artists')\n",
    "\n",
    "    played_max = df.groupBy('userId', 'sessionId').max('ts').withColumnRenamed('max(ts)', 'max')\n",
    "    played_min = df.groupBy('userId', 'sessionId').min('ts').withColumnRenamed('min(ts)', 'min')\n",
    "    played_session = played_min.join(played_max,['userId', 'sessionId'])\n",
    "    played_session = played_session.select('userId', 'sessionId', ((played_session.max-played_session.min)/(1000*60)).\\\n",
    "                     alias('played_session'))\n",
    "    \n",
    "    feat_played_time_session = played_session.groupBy('userId').agg(avg('played_session').alias('played_time_session'))\n",
    "    \n",
    "    feat_played_time_session = feat_played_time_session.na.fill(0)\n",
    "    \n",
    "    feat_sessions_user = df.select(\"userId\", \"sessionId\").dropDuplicates().groupby(\"userId\").count().\\\n",
    "                       withColumnRenamed('count', 'sessions_user')\n",
    "    \n",
    "    latest_time = df.groupby(\"userId\").max(\"ts\").sort(\"userId\")\n",
    "    \n",
    "    sign_up_moment = df.select(\"userId\", \"registration\").dropDuplicates().sort(\"userId\")\n",
    "    \n",
    "    feat_time_since_registration = sign_up_moment.join(latest_time, sign_up_moment.userId == latest_time.userId).\\\n",
    "                                 select(sign_up_moment[\"userId\"], ((latest_time[\"max(ts)\"]-sign_up_moment[\"registration\"])/(1000*60)).\\\n",
    "                                 alias(\"registration_min\"))\n",
    "    \n",
    "    feat_friends = df.select('userId', 'page').where(df.page == 'Add Friend').groupBy('userId').\\\n",
    "                count().withColumnRenamed('count', 'friend').sort('userId')\n",
    "    \n",
    "    feat_thumbs_up = df.select('userId', 'page').where(df.page == 'Thumbs Up').groupBy('userId').\\\n",
    "                count().withColumnRenamed('count', 'thumbs_up')\n",
    "\n",
    "    feat_thumbs_down = df.select('userId', 'page').where(df.page == 'Thumbs Down').groupBy('userId').\\\n",
    "                count().withColumnRenamed('count', 'thumbs_down')\n",
    "    \n",
    "    feat_help = df.select('userId', 'page').where(df.page == 'Help').groupBy('userId').\\\n",
    "                count().withColumnRenamed('count', 'help')\n",
    "    \n",
    "    feat_errors = df.select('userId', 'page').where(df.page == 'Error').groupBy('userId').\\\n",
    "                count().withColumnRenamed('count', 'errors')\n",
    "    \n",
    "    feat_downgrade = df[\"userId\", \"downgrade\"].dropDuplicates()\n",
    "    \n",
    "    feat_gender = df.groupby('userId').agg(first(when(df.gender == \"F\", 1).otherwise(0)).alias('gender'))\n",
    "    \n",
    "    feat_level = df.groupby('userId').agg(last(when(df.level == 'paid', 1).otherwise(0)).\\\n",
    "               alias('level'))\n",
    "    \n",
    "    feat_churn = df.select('userId', 'churn').dropDuplicates()\n",
    "    \n",
    "    feat_roll_advert = df.select('userId', 'roll_advert').dropDuplicates()\n",
    "    \n",
    "    \n",
    "    ############################### ############################### ###############################\n",
    "\n",
    "    # join features\n",
    "    feat_data = feat_listened_songs.join(feat_avg_songs_session,'userID','outer').\\\n",
    "                                join(feat_add_playlist,'userID','outer').\\\n",
    "                                join(feat_dif_artists,'userID','outer').\\\n",
    "                                join(feat_played_time_session,'userID','outer').\\\n",
    "                                join(feat_sessions_user,'userID','outer').\\\n",
    "                                join(feat_time_since_registration,'userID','outer').\\\n",
    "                                join(feat_friends,'userID','outer').\\\n",
    "                                join(feat_thumbs_up,'userID','outer').\\\n",
    "                                join(feat_thumbs_down,'userID','outer').\\\n",
    "                                join(feat_help,'userID','outer').\\\n",
    "                                join(feat_errors,'userID','outer').\\\n",
    "                                join(feat_downgrade,'userID','outer').\\\n",
    "                                join(feat_gender,'userID','outer').\\\n",
    "                                join(feat_level,'userID','outer').\\\n",
    "                                join(feat_churn,'userID','outer').\\\n",
    "                                join(feat_roll_advert,'userID','outer').\\\n",
    "                                drop('userID').\\\n",
    "                                fillna(0)\n",
    "    \n",
    "    return feat_data\n"
   ]
  },
  {
   "cell_type": "code",
   "execution_count": 36,
   "id": "54718cb4",
   "metadata": {},
   "outputs": [],
   "source": [
    "df_features = features(sparkify_events)\n"
   ]
  },
  {
   "cell_type": "code",
   "execution_count": 37,
   "id": "3912376d",
   "metadata": {},
   "outputs": [
    {
     "data": {
      "text/plain": [
       "DataFrame[songs: bigint, avg_songs_session: double, add_playlist: bigint, dif_artists: bigint, played_time_session: double, sessions_user: bigint, registration_min: double, friend: bigint, thumbs_up: bigint, thumbs_down: bigint, help: bigint, errors: bigint, downgrade: bigint, gender: int, level: int, churn: bigint, roll_advert: bigint]"
      ]
     },
     "execution_count": 37,
     "metadata": {},
     "output_type": "execute_result"
    }
   ],
   "source": [
    "df_features"
   ]
  },
  {
   "cell_type": "markdown",
   "id": "d8051ac1",
   "metadata": {},
   "source": [
    "## Feature Multicollinearity"
   ]
  },
  {
   "cell_type": "code",
   "execution_count": 50,
   "id": "217514da",
   "metadata": {},
   "outputs": [
    {
     "name": "stderr",
     "output_type": "stream",
     "text": [
      "                                                                                \r"
     ]
    }
   ],
   "source": [
    "# Convert to pandas\n",
    "df_features_pd = df_features.toPandas()\n"
   ]
  },
  {
   "cell_type": "code",
   "execution_count": 51,
   "id": "dbdfc9ac",
   "metadata": {},
   "outputs": [
    {
     "data": {
      "text/plain": [
       "Index(['songs', 'avg_songs_session', 'add_playlist', 'dif_artists',\n",
       "       'played_time_session', 'sessions_user', 'registration_min', 'friend',\n",
       "       'thumbs_up', 'thumbs_down', 'help', 'errors', 'downgrade', 'gender',\n",
       "       'level', 'churn', 'roll_advert'],\n",
       "      dtype='object')"
      ]
     },
     "execution_count": 51,
     "metadata": {},
     "output_type": "execute_result"
    }
   ],
   "source": [
    "df_features_pd.columns\n",
    "df_features_pd.head(5)\n"
   ]
  },
  {
   "cell_type": "code",
   "execution_count": 58,
   "id": "3c52e62e",
   "metadata": {},
   "outputs": [
    {
     "data": {
      "image/png": "[encoded data removed]",
      "text/plain": [
       "<Figure size 864x864 with 2 Axes>"
      ]
     },
     "metadata": {},
     "output_type": "display_data"
    }
   ],
   "source": [
    "# %%time\n",
    "# correlation plot for numerical variables\n",
    "corr = df_features.toPandas().corr()\n",
    "mask = np.zeros_like(corr)\n",
    "mask[np.triu_indices_from(mask)] = True\n",
    "sns.set(rc={'figure.figsize':(12, 12)})\n",
    "with sns.axes_style(\"white\"):\n",
    "    sns.heatmap(corr, annot=False, square=True, mask=mask)\n",
    "    plt.title(\"Feature Correlation Matrix\")\n",
    "\n",
    "plt.savefig('plots/feature_correlation_matrix.png')\n"
   ]
  },
  {
   "cell_type": "markdown",
   "id": "6752e2b1",
   "metadata": {},
   "source": [
    "**Correlation Analysis Comments**\n",
    "\n",
    "Correlation between features is analyzed using a heat map. Friend, thumbs_up, thumbs_down, help, errors, and downgrade exhibit higher corrlation. User tenure (registration_min), churn, and gender have lower correlation.\n",
    "\n"
   ]
  },
  {
   "cell_type": "markdown",
   "id": "a92abdb0",
   "metadata": {},
   "source": [
    "## Modeling\n",
    "Split the full dataset into train, test, and validation sets. Test out several of the machine learning methods you learned. Evaluate the accuracy of the various models, tuning parameters as necessary. Determine your winning model based on test accuracy and report results on the validation set. Since the churned users are a fairly small subset, I suggest using F1 score as the metric to optimize."
   ]
  },
  {
   "cell_type": "markdown",
   "id": "aee51552",
   "metadata": {},
   "source": [
    "## Convert feature data for model"
   ]
  },
  {
   "cell_type": "code",
   "execution_count": 39,
   "id": "1491299e",
   "metadata": {},
   "outputs": [],
   "source": [
    "# Data conversion to integer and float\n",
    "def convert_int_float(df, int_features, float_features):\n",
    "    '''\n",
    "    INPUT:\n",
    "    df - dataframe with the data\n",
    "    int_features - list with the variables to be converted to integer\n",
    "    float_features - list with the variables to be converted to float\n",
    "    OUTPUT:\n",
    "    df_features_i_f - dataframe with the converted features\n",
    "    \n",
    "    Function that convert each column to the desired integer or float format\n",
    "    '''\n",
    "\n",
    "    df_features_i_f = df\n",
    "\n",
    "    # Integer\n",
    "    for col in int_features:\n",
    "        df_features_i_f = df_features_i_f.withColumn(col, df_features_i_f[col].cast(IntegerType()))\n",
    "\n",
    "    # Float\n",
    "    for col in float_features:\n",
    "        df_features_i_f = df_features_i_f.withColumn(col, df_features_i_f[col].cast(FloatType()))\n",
    "        \n",
    "    return df_features_i_f\n"
   ]
  },
  {
   "cell_type": "code",
   "execution_count": 40,
   "id": "cd0a3e1e",
   "metadata": {},
   "outputs": [],
   "source": [
    "def feature_scale(df):\n",
    "    '''\n",
    "    INPUT:\n",
    "    df - dataframe with the data\n",
    "    OUTPUT:\n",
    "    df_features_scaled - dataframe with the selected features scaled\n",
    "    \n",
    "    Function that scales the features to be used in the Machine Learning algorithm\n",
    "    '''\n",
    "    \n",
    "    start = datetime.datetime.now()\n",
    "        \n",
    "    features_mod = [\"songs\", \"avg_songs_session\",  \"add_playlist\", \"dif_artists\", \"played_time_session\",\\\n",
    "                    \"sessions_user\", \"registration_min\", \"friend\", \"thumbs_up\", \"thumbs_down\", \"help\",\\\n",
    "                    \"errors\", \"downgrade\", \"gender\", \"level\", \"roll_advert\"]\n",
    "\n",
    "    print(\"Executing VectorAssembler...\")\n",
    "    vec_assembler = VectorAssembler(inputCols=features_mod, outputCol=\"Features\")\n",
    "    df_features_i_f_assembled = vec_assembler.transform(df)\n",
    "\n",
    "    print(\"Executing StandardScaler...\")\n",
    "    scaled = StandardScaler(inputCol='Features', outputCol='scaled_features', withMean=True, withStd=True)\n",
    "\n",
    "    print(\"Fit...\")\n",
    "    scaled_fit = scaled.fit(df_features_i_f_assembled)\n",
    "    print(\"Transform...\")\n",
    "    df_features_i_f_scaled = scaled_fit.transform(df_features_i_f_assembled)\n",
    "\n",
    "    print(\"Joining features...\")\n",
    "    df_features_scaled = df_features_i_f_scaled.select(df_features_i_f_assembled.churn.alias('label'),\\\n",
    "                         df_features_i_f_scaled.scaled_features.alias('features'))\n",
    "    \n",
    "    print(\"Feature scale finished\")\n",
    "    print(\"\\n\")\n",
    "    print (\"The process took\",datetime.datetime.now()-start,\"seconds\")\n",
    "    \n",
    "    return df_features_scaled\n",
    "\n"
   ]
  },
  {
   "cell_type": "code",
   "execution_count": 41,
   "id": "04e6c691",
   "metadata": {},
   "outputs": [
    {
     "name": "stdout",
     "output_type": "stream",
     "text": [
      "root\n",
      " |-- songs: integer (nullable = true)\n",
      " |-- avg_songs_session: float (nullable = false)\n",
      " |-- add_playlist: integer (nullable = true)\n",
      " |-- dif_artists: integer (nullable = true)\n",
      " |-- played_time_session: float (nullable = false)\n",
      " |-- sessions_user: integer (nullable = true)\n",
      " |-- registration_min: float (nullable = false)\n",
      " |-- friend: integer (nullable = true)\n",
      " |-- thumbs_up: integer (nullable = true)\n",
      " |-- thumbs_down: integer (nullable = true)\n",
      " |-- help: integer (nullable = true)\n",
      " |-- errors: integer (nullable = true)\n",
      " |-- downgrade: integer (nullable = true)\n",
      " |-- gender: integer (nullable = true)\n",
      " |-- level: integer (nullable = true)\n",
      " |-- churn: integer (nullable = true)\n",
      " |-- roll_advert: integer (nullable = true)\n",
      "\n"
     ]
    }
   ],
   "source": [
    "# Specify the colums to be converted\n",
    "feat_int = [\"songs\", \"add_playlist\", \"dif_artists\", \"sessions_user\", \"friend\", \"thumbs_up\", \"thumbs_down\", \"help\",\n",
    "          \"errors\", \"downgrade\", \"gender\", \"level\", \"churn\", \"roll_advert\"]\n",
    "\n",
    "feat_float = [\"avg_songs_session\",\"played_time_session\",\"registration_min\"]\n",
    "\n",
    "df_features_i_f = convert_int_float(df_features, feat_int, feat_float)\n",
    "\n",
    "df_features_i_f.printSchema()\n"
   ]
  },
  {
   "cell_type": "code",
   "execution_count": 42,
   "id": "0defd78f",
   "metadata": {},
   "outputs": [
    {
     "name": "stdout",
     "output_type": "stream",
     "text": [
      "Executing VectorAssembler...\n",
      "Executing StandardScaler...\n",
      "Fit...\n",
      "22/12/04 13:22:52 WARN package: Truncated the string representation of a plan since it was too large. This behavior can be adjusted by setting 'spark.sql.debug.maxToStringFields'.\n"
     ]
    },
    {
     "name": "stderr",
     "output_type": "stream",
     "text": [
      "                                                                                \r"
     ]
    },
    {
     "name": "stdout",
     "output_type": "stream",
     "text": [
      "Transform...\n",
      "Joining features...\n",
      "Feature scale finished\n",
      "\n",
      "\n",
      "The process took 0:00:21.660119 seconds\n"
     ]
    }
   ],
   "source": [
    "df_features_scaled = feature_scale(df_features_i_f)\n"
   ]
  },
  {
   "cell_type": "code",
   "execution_count": 43,
   "id": "506dae6c",
   "metadata": {},
   "outputs": [
    {
     "name": "stderr",
     "output_type": "stream",
     "text": [
      "                                                                                \r"
     ]
    },
    {
     "name": "stdout",
     "output_type": "stream",
     "text": [
      "+-----+--------------------+\n",
      "|label|            features|\n",
      "+-----+--------------------+\n",
      "|    0|[-0.3084393038631...|\n",
      "|    0|[1.50972477851168...|\n",
      "|    1|[-0.7971444330231...|\n",
      "|    0|[-0.7410338441196...|\n",
      "|    1|[-0.8713552118956...|\n",
      "|    0|[-0.0649917487816...|\n",
      "|    1|[-0.7781392335558...|\n",
      "|    1|[-0.8939804493567...|\n",
      "|    1|[-0.5346916784742...|\n",
      "|    0|[-0.2188433635171...|\n",
      "+-----+--------------------+\n",
      "only showing top 10 rows\n",
      "\n"
     ]
    }
   ],
   "source": [
    "df_features_scaled.show(10)\n"
   ]
  },
  {
   "cell_type": "code",
   "execution_count": 44,
   "id": "935b2290",
   "metadata": {},
   "outputs": [],
   "source": [
    "# Split data in train and test datasets\n",
    "train, test = df_features_scaled.randomSplit([0.8, 0.2], seed=42)\n"
   ]
  },
  {
   "cell_type": "code",
   "execution_count": 45,
   "id": "ff15bb35",
   "metadata": {},
   "outputs": [],
   "source": [
    "def train_predict_ML_model(train, test, ML_model):\n",
    "    '''\n",
    "    INPUT:\n",
    "    train - train dataset, test - test dataset\n",
    "    \n",
    "    OUTPUT:\n",
    "    accuracy - accuracy score\n",
    "    f1score - f1 score\n",
    "    elapsed_time - time spent in training the model\n",
    "    \n",
    "    '''\n",
    "    \n",
    "    start = datetime.datetime.now()\n",
    "    \n",
    "    if ML_model == \"Logistic Regression\":\n",
    "        print(\"Logistic Regression model Initialization\")\n",
    "        model = LogisticRegression(labelCol = \"label\", featuresCol = \"features\", maxIter = 10)\n",
    "        print(\"GridBuilder\")\n",
    "        paramGrid = ParamGridBuilder().addGrid(model.elasticNetParam, [0.0, 0.2, 0.6, 1.0]).\\\n",
    "                                       addGrid(model.regParam, [0.02, 0.06, 0.1]).\\\n",
    "                                       build()\n",
    "    \n",
    "    elif ML_model == \"Random Forest\":\n",
    "    \n",
    "        print(\"Random Forest model Initialization\")\n",
    "        model = RandomForestClassifier(labelCol = \"label\", featuresCol = \"features\")\n",
    "        print(\"GridBuilder\")\n",
    "        paramGrid = ParamGridBuilder().addGrid(model.maxDepth, [5, 10]).\\\n",
    "                                       addGrid(model.numTrees, [10, 20]).\\\n",
    "                                       addGrid(model.impurity, ['entropy', 'gini']).\\\n",
    "                                       build()\n",
    "        \n",
    "    elif ML_model == \"Decision Tree\":\n",
    "        print(\"Decision Tree model Initialization\")\n",
    "        model = DecisionTreeClassifier(labelCol = \"label\", featuresCol = \"features\", seed = 42)\n",
    "        print(\"GridBuilder\")\n",
    "        paramGrid = ParamGridBuilder().addGrid(model.impurity, ['entropy', 'gini']).\\\n",
    "                                       addGrid(model.maxDepth, [2, 3, 5, 8, 13, 21, 30]).\\\n",
    "                                       build()\n",
    "\n",
    "    elif ML_model == \"Gradient Boosted Trees\":\n",
    "        print(\"Gradient Boosted Trees model Initialization\")\n",
    "        model = GBTClassifier(labelCol = \"label\", featuresCol = \"features\", maxIter = 10, seed = 42)\n",
    "        print(\"GridBuilder\")\n",
    "        paramGrid = ParamGridBuilder().addGrid(model.maxDepth, [3, 5, 7]).\\\n",
    "                                       addGrid(model.maxIter, [6, 12]).\\\n",
    "                                       build()\n",
    "        \n",
    "    elif ML_model == \"LinearSVC\":\n",
    "        print(\"LinearSVC model Initialization\")\n",
    "        model = LinearSVC(labelCol = \"label\", featuresCol = \"features\")\n",
    "        print(\"GridBuilder\")\n",
    "        paramGrid = ParamGridBuilder().addGrid(model.maxIter, [6, 12]).\\\n",
    "                                       addGrid(model.regParam, [0.02, 0.06, 0.1]).\\\n",
    "                                       build()\n",
    "\n",
    "    else:\n",
    "        BOLD = '\\033[1m'\n",
    "        print(BOLD + \"The specified model is not yet implemented. Select another model from the list\" + BOLD)\n",
    "        return\n",
    "    \n",
    "    \n",
    "    print(\"F1 score evaluation\")\n",
    "    f1_eval = MulticlassClassificationEvaluator(metricName = 'f1')\n",
    "    \n",
    "    print(\"Cross Validation\")\n",
    "    crossval = CrossValidator(estimator = model, estimatorParamMaps = paramGrid, evaluator = f1_eval, numFolds = 3)\n",
    "    \n",
    "    print(\"Fit Model\")\n",
    "    model_fit = crossval.fit(train)\n",
    "    \n",
    "    print(\"Transform\")\n",
    "    results = model_fit.transform(test)\n",
    "    \n",
    "    print(\"Evaluation of the model\")\n",
    "    evaluator = MulticlassClassificationEvaluator(predictionCol = \"prediction\")\n",
    "    \n",
    "    # Results\n",
    "    accuracy = evaluator.evaluate(results, {evaluator.metricName: \"accuracy\"})\n",
    "    f1score = evaluator.evaluate(results, {evaluator.metricName: \"f1\"})\n",
    "    end = datetime.datetime.now()\n",
    "    elapsed_time = (end - start)#.total_seconds()\n",
    "    \n",
    "    print (\"The process took\",end - start,\"minutes\")\n",
    "    print(\"\\n\")\n",
    "   \n",
    "    return ML_model, accuracy, f1score, elapsed_time, model_fit\n",
    "\n",
    "\n"
   ]
  },
  {
   "cell_type": "code",
   "execution_count": 46,
   "id": "3eac2519",
   "metadata": {},
   "outputs": [],
   "source": [
    "def train_model_execution(train, test):\n",
    "    '''\n",
    "    INPUT:\n",
    "    train - train dataset, test - test dataset\n",
    "    \n",
    "    OUTPUT:\n",
    "    model_name - model name used\n",
    "    accuracy - accuracy score\n",
    "    f1score - f1 score\n",
    "    elapsed_time - time spent in training the model\n",
    "    \n",
    "    '''\n",
    "    \n",
    "    # Define variables used to save the results obtained\n",
    "    model_name = []\n",
    "    accuracy = []\n",
    "    f1score = []\n",
    "    elapsed_time = []\n",
    "    model_fit = []\n",
    "    \n",
    "    model_nam, acc, f1s, elapsed_t, model_f = train_predict_ML_model(train, test, \"Logistic Regression\")\n",
    "    model_name.append(model_nam)\n",
    "    accuracy.append(acc)\n",
    "    f1score.append(f1s)\n",
    "    elapsed_time.append(elapsed_t)\n",
    "    model_fit.append(model_f)\n",
    "    \n",
    "    model_nam, acc, f1s, elapsed_t, model_f = train_predict_ML_model(train, test, \"Random Forest\")\n",
    "    model_name.append(model_nam)\n",
    "    accuracy.append(acc)\n",
    "    f1score.append(f1s)\n",
    "    elapsed_time.append(elapsed_t)\n",
    "    model_fit.append(model_f)\n",
    "    \n",
    "    model_nam, acc, f1s, elapsed_t, model_f = train_predict_ML_model(train, test, \"Decision Tree\")\n",
    "    model_name.append(model_nam)\n",
    "    accuracy.append(acc)\n",
    "    f1score.append(f1s)\n",
    "    elapsed_time.append(elapsed_t)\n",
    "    model_fit.append(model_f)\n",
    "    \n",
    "    model_nam, acc, f1s, elapsed_t, model_f = train_predict_ML_model(train, test, \"Gradient Boosted Trees\")\n",
    "    model_name.append(model_nam)\n",
    "    accuracy.append(acc)\n",
    "    f1score.append(f1s)\n",
    "    elapsed_time.append(elapsed_t)\n",
    "    model_fit.append(model_f)\n",
    "    \n",
    "    model_nam, acc, f1s, elapsed_t, model_f = train_predict_ML_model(train, test, \"LinearSVC\")\n",
    "    model_name.append(model_nam)\n",
    "    accuracy.append(acc)\n",
    "    f1score.append(f1s)\n",
    "    elapsed_time.append(elapsed_t)\n",
    "    model_fit.append(model_f)\n",
    "    \n",
    "    return model_name, accuracy, f1score, elapsed_time, model_fit\n",
    "\n"
   ]
  },
  {
   "cell_type": "code",
   "execution_count": 47,
   "id": "ad2ad613",
   "metadata": {},
   "outputs": [
    {
     "name": "stdout",
     "output_type": "stream",
     "text": [
      "Logistic Regression model Initialization\n",
      "GridBuilder\n",
      "F1 score evaluation\n",
      "Cross Validation\n",
      "Fit Model\n"
     ]
    },
    {
     "name": "stderr",
     "output_type": "stream",
     "text": [
      "                                                                                \r"
     ]
    },
    {
     "name": "stdout",
     "output_type": "stream",
     "text": [
      "22/12/04 13:24:39 WARN InstanceBuilder$NativeBLAS: Failed to load implementation from:dev.ludovic.netlib.blas.JNIBLAS\n",
      "22/12/04 13:24:39 WARN InstanceBuilder$NativeBLAS: Failed to load implementation from:dev.ludovic.netlib.blas.ForeignLinkerBLAS\n"
     ]
    },
    {
     "name": "stderr",
     "output_type": "stream",
     "text": [
      "                                                                                ]]]]\r"
     ]
    },
    {
     "name": "stdout",
     "output_type": "stream",
     "text": [
      "Transform\n",
      "Evaluation of the model\n"
     ]
    },
    {
     "name": "stderr",
     "output_type": "stream",
     "text": [
      "                                                                                \r"
     ]
    },
    {
     "name": "stdout",
     "output_type": "stream",
     "text": [
      "The process took 0:20:00.105321 minutes\n",
      "\n",
      "\n",
      "Random Forest model Initialization\n",
      "GridBuilder\n",
      "F1 score evaluation\n",
      "Cross Validation\n",
      "Fit Model\n"
     ]
    },
    {
     "name": "stderr",
     "output_type": "stream",
     "text": [
      "                                                                                ]]0]\r"
     ]
    },
    {
     "name": "stdout",
     "output_type": "stream",
     "text": [
      "Transform\n",
      "Evaluation of the model\n"
     ]
    },
    {
     "name": "stderr",
     "output_type": "stream",
     "text": [
      "                                                                                \r"
     ]
    },
    {
     "name": "stdout",
     "output_type": "stream",
     "text": [
      "The process took 0:16:11.130489 minutes\n",
      "\n",
      "\n",
      "Decision Tree model Initialization\n",
      "GridBuilder\n",
      "F1 score evaluation\n",
      "Cross Validation\n",
      "Fit Model\n"
     ]
    },
    {
     "name": "stderr",
     "output_type": "stream",
     "text": [
      "                                                                                ]]]]\r"
     ]
    },
    {
     "name": "stdout",
     "output_type": "stream",
     "text": [
      "Transform\n",
      "Evaluation of the model\n"
     ]
    },
    {
     "name": "stderr",
     "output_type": "stream",
     "text": [
      "                                                                                \r"
     ]
    },
    {
     "name": "stdout",
     "output_type": "stream",
     "text": [
      "The process took 0:18:24.188392 minutes\n",
      "\n",
      "\n",
      "Gradient Boosted Trees model Initialization\n",
      "GridBuilder\n",
      "F1 score evaluation\n",
      "Cross Validation\n",
      "Fit Model\n"
     ]
    },
    {
     "name": "stderr",
     "output_type": "stream",
     "text": [
      "                                                                                ]]]]\r"
     ]
    },
    {
     "name": "stdout",
     "output_type": "stream",
     "text": [
      "Transform\n",
      "Evaluation of the model\n"
     ]
    },
    {
     "name": "stderr",
     "output_type": "stream",
     "text": [
      "                                                                                \r"
     ]
    },
    {
     "name": "stdout",
     "output_type": "stream",
     "text": [
      "The process took 0:29:02.641496 minutes\n",
      "\n",
      "\n",
      "LinearSVC model Initialization\n",
      "GridBuilder\n",
      "F1 score evaluation\n",
      "Cross Validation\n",
      "Fit Model\n"
     ]
    },
    {
     "name": "stderr",
     "output_type": "stream",
     "text": [
      "                                                                                4]4]0]]\r"
     ]
    },
    {
     "name": "stdout",
     "output_type": "stream",
     "text": [
      "Transform\n",
      "Evaluation of the model\n"
     ]
    },
    {
     "name": "stderr",
     "output_type": "stream",
     "text": [
      "                                                                                \r"
     ]
    },
    {
     "name": "stdout",
     "output_type": "stream",
     "text": [
      "The process took 0:17:43.810483 minutes\n",
      "\n",
      "\n"
     ]
    }
   ],
   "source": [
    "# Execute the function that will train all the models\n",
    "model_name, accuracy, f1score, elapsed_time, model_fit = train_model_execution(train, test)\n"
   ]
  },
  {
   "cell_type": "code",
   "execution_count": 73,
   "id": "6a4e0537",
   "metadata": {},
   "outputs": [],
   "source": [
    "def results(model_name, accuracy, f1score, elapsed_time):\n",
    "    '''\n",
    "    INPUT:\n",
    "    train - train dataset\n",
    "    test - test dataset\n",
    "    OUTPUT:\n",
    "    model_name - model name used\n",
    "    accuracy - accuracy score\n",
    "    f1score - f1 score\n",
    "    elapsed_time - time spent in training the model\n",
    "    \n",
    "    Function that plots the results obtained in the training of the Machine Learning models\n",
    "    '''\n",
    "    \n",
    "    # Dataframe with the results obtained for each model\n",
    "    results = pd.DataFrame(columns = ['Model name', 'Accuracy', 'f1score','Training time (h:m:s)'])\n",
    "    results['Model name'] = model_name\n",
    "    results['Accuracy'] = accuracy\n",
    "    results['f1score'] = f1score\n",
    "    results['Training time (h:m:s)'] = elapsed_time\n",
    "    \n",
    "    print(results.to_string(index=False))\n",
    "    \n",
    "    # Plot Accuracy\n",
    "    plt.figure(figsize = (12, 6))\n",
    "    sns.set(style = \"whitegrid\")\n",
    "    ax = sns.barplot(x = 'Accuracy', y = 'Model name', orient = \"h\", data = results, palette='ocean')\n",
    "    ax.set_title(\"Accuracy\", fontsize = 16,weight='bold')\n",
    "    \n",
    "    ax.set_ylabel(\"Model\", fontsize=12, weight='bold')\n",
    "    ax.set_xlabel(\"\", fontsize=12, weight='bold')\n",
    "    \n",
    "    plt.savefig('plots/model_accuracy.png')\n",
    "\n",
    "    \n",
    "    # Plot F1score\n",
    "    plt.figure(figsize = (12, 6))\n",
    "    sns.set(style = \"whitegrid\")\n",
    "    ax = sns.barplot(x = 'f1score', y = 'Model name', orient = \"h\", data = results, palette='ocean')\n",
    "    ax.set_title(\"F1 Score\", fontsize = 14, weight='bold')\n",
    "    \n",
    "    ax.set_ylabel(\"Model\", fontsize=12, weight='bold')\n",
    "    ax.set_xlabel(\"\", fontsize=12, weight='bold')\n",
    "    \n",
    "    plt.savefig('plots/f1_score.png')\n"
   ]
  },
  {
   "cell_type": "code",
   "execution_count": 74,
   "id": "a3de599f",
   "metadata": {},
   "outputs": [
    {
     "name": "stdout",
     "output_type": "stream",
     "text": [
      "            Model name  Accuracy  f1score  Training time (h:m:s)\n",
      "   Logistic Regression  0.914286 0.902108 0 days 00:20:00.105321\n",
      "         Random Forest  0.742857 0.733348 0 days 00:16:11.130489\n",
      "         Decision Tree  0.800000 0.805938 0 days 00:18:24.188392\n",
      "Gradient Boosted Trees  0.800000 0.805938 0 days 00:29:02.641496\n",
      "             LinearSVC  0.828571 0.750893 0 days 00:17:43.810483\n"
     ]
    },
    {
     "data": {
      "image/png": "[encoded data removed]",
      "text/plain": [
       "<Figure size 864x432 with 1 Axes>"
      ]
     },
     "metadata": {},
     "output_type": "display_data"
    },
    {
     "data": {
      "image/png": "[encoded data removed]",
      "text/plain": [
       "<Figure size 864x432 with 1 Axes>"
      ]
     },
     "metadata": {},
     "output_type": "display_data"
    }
   ],
   "source": [
    "results(model_name, accuracy, f1score, np.array(elapsed_time))\n"
   ]
  },
  {
   "cell_type": "markdown",
   "id": "c00c185a",
   "metadata": {},
   "source": [
    "## Model Evaluation and Validation\n",
    "\n",
    "**Parameters Evaluation**\n",
    "Using Accuracy and F1 Score as metrics, a logistic regression model performed better than four other models, exceeding 0.9.\n",
    "\n",
    "**Model Validation**  \n",
    "Cross-validation is used to validate the robustness of the model solution. cross-validation to find the best parameters.  \n",
    "  \n",
    "  \n",
    "**Model comparison and results** \n",
    "The results of four different models are shown below.\n",
    "\n"
   ]
  },
  {
   "cell_type": "markdown",
   "id": "957c0aaa",
   "metadata": {},
   "source": [
    "### Best Model Fit\n",
    "* Logistic Regression"
   ]
  },
  {
   "cell_type": "code",
   "execution_count": 62,
   "id": "83213057",
   "metadata": {},
   "outputs": [
    {
     "data": {
      "text/plain": [
       "LogisticRegressionModel: uid=LogisticRegression_5f3af877ee9f, numClasses=2, numFeatures=16"
      ]
     },
     "execution_count": 62,
     "metadata": {},
     "output_type": "execute_result"
    }
   ],
   "source": [
    "# select model\n",
    "model_fit[0].bestModel\n"
   ]
  },
  {
   "cell_type": "code",
   "execution_count": 63,
   "id": "f70fb30e",
   "metadata": {},
   "outputs": [
    {
     "data": {
      "text/plain": [
       "Param(parent='LogisticRegression_5f3af877ee9f', name='regParam', doc='regularization parameter (>= 0).')"
      ]
     },
     "execution_count": 63,
     "metadata": {},
     "output_type": "execute_result"
    }
   ],
   "source": [
    "# select model\n",
    "model_fit[0].bestModel.regParam\n"
   ]
  },
  {
   "cell_type": "code",
   "execution_count": 67,
   "id": "41034ff1",
   "metadata": {},
   "outputs": [
    {
     "data": {
      "image/png": "[encoded data removed]",
      "text/plain": [
       "<Figure size 1152x432 with 1 Axes>"
      ]
     },
     "metadata": {},
     "output_type": "display_data"
    }
   ],
   "source": [
    "# plot best model fit\n",
    "model_best = model_fit[0].bestModel\n",
    "\n",
    "coeff = []\n",
    "for i in model_best.coefficients:\n",
    "    coeff.append(i)\n",
    "\n",
    "features = [\"songs\", \"avg_songs_session\", \"add_playlist\", \"dif_artists\", \"played_time_session\", \"sessions_user\",\n",
    "            \"registration_min\", \"friend\", \"thumbs_up\", \"thumbs_down\", \"help\", \"errors\", \"downgrade\", \"gender\",\n",
    "            \"level\", \"roll_advert\"]\n",
    "\n",
    "LR_coeff = pd.DataFrame()\n",
    "LR_coeff['features'] = features\n",
    "LR_coeff['coeff'] = coeff\n",
    "\n",
    "# Plot coefficients\n",
    "plt.figure(figsize = (16, 6))\n",
    "sns.set(style = \"whitegrid\")\n",
    "ax = sns.barplot(x = 'features', y = 'coeff', data = LR_coeff, palette='ocean')\n",
    "ax.set_title(\"Best Fit Model Feature Importance\", fontsize = 14, weight=\"bold\")\n",
    "ax.set_xlabel(\"Feature\", fontsize = 12, weight = 'bold')\n",
    "ax.set_ylabel(\"Coefficient\", fontsize = 12, weight = 'bold')\n",
    "ax.set_xticklabels(labels = LR_coeff['features'],rotation = 90)\n",
    "ax.set_ylim(-0.8, 0.2)\n",
    "\n",
    "for m in ax.patches:\n",
    "        ax.annotate(format(m.get_height(), '.4f'), (m.get_x() + m.get_width() / 2., \n",
    "                           m.get_height()), ha = 'center', va = 'center', xytext = (0, -12), \n",
    "                           textcoords = 'offset points')\n",
    "\n",
    "plt.savefig('plots/model_feature_importance.png')\n"
   ]
  },
  {
   "cell_type": "markdown",
   "id": "d12047b0",
   "metadata": {},
   "source": [
    "## Final Steps\n",
    "Clean up your code, adding comments and renaming variables to make the code easier to read and maintain. Refer to the Spark Project Overview page and Data Scientist Capstone Project Rubric to make sure you are including all components of the capstone project and meet all expectations. Remember, this includes thorough documentation in a README file in a Github repository, as well as a web app or blog post."
   ]
  },
  {
   "cell_type": "markdown",
   "id": "544f3748",
   "metadata": {},
   "source": [
    "# Conclusion"
   ]
  },
  {
   "cell_type": "markdown",
   "id": "5182c010",
   "metadata": {},
   "source": [
    "The project is completely contained in this Notebook and all the steps were executed using the PySpark library for using Spark with Python.  \n",
    "\n",
    "\n",
    "**Project Reflection**. \n",
    "\n",
    "\n",
    "The total amount of features used in the churn prediction model was 15, 5 different Machine Learning models were trained using crossvalidation and for finding the best parameters Grid Search was the chosen option.   \n",
    "\n",
    "\n",
    "The model with the best result is Logistic Regresion with an accuracy of 0.885 and a f1 score of 0.861. The features that have more impact are registration_min, errors, friend, played_time_session, avg_songs_session and thumbs_down. From them, the more negative the value of these features are, most likely the user will stay in the service and will not churn.  \n",
    "\n",
    "\n",
    "**Improvements**\n",
    "\n",
    "Model improve would include a larger dataset where the models have more data and the use of more parameters in Grid Search to tune the models. These measure would allow to increment the accuracy of the predictions and be more effective therefore in managing the churn problem.\n"
   ]
  },
  {
   "cell_type": "code",
   "execution_count": null,
   "id": "834d7024",
   "metadata": {},
   "outputs": [],
   "source": []
  }
 ],
 "metadata": {
  "kernelspec": {
   "display_name": "Python 3 (ipykernel)",
   "language": "python",
   "name": "python3"
  },
  "language_info": {
   "codemirror_mode": {
    "name": "ipython",
    "version": 3
   },
   "file_extension": ".py",
   "mimetype": "text/x-python",
   "name": "python",
   "nbconvert_exporter": "python",
   "pygments_lexer": "ipython3",
   "version": "3.9.7"
  }
 },
 "nbformat": 4,
 "nbformat_minor": 5
}
