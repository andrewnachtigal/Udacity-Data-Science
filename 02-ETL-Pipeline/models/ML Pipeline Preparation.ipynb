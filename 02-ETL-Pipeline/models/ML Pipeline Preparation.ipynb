{
 "cells": [
  {
   "cell_type": "markdown",
   "metadata": {},
   "source": [
    "# ML Pipeline Preparation\n",
    "Follow the instructions below to help you create your ML pipeline.\n",
    "### 1. Import libraries and load data from database.\n",
    "- Import Python libraries\n",
    "- Load dataset from database with [`read_sql_table`](https://pandas.pydata.org/pandas-docs/stable/generated/pandas.read_sql_table.html)\n",
    "- Define feature and target variables X and Y"
   ]
  },
  {
   "cell_type": "raw",
   "metadata": {},
   "source": [
    "!pip install nltk\n",
    "!pip install plotly"
   ]
  },
  {
   "cell_type": "code",
   "execution_count": 1,
   "metadata": {},
   "outputs": [
    {
     "name": "stderr",
     "output_type": "stream",
     "text": [
      "[nltk_data] Downloading package punkt to\n",
      "[nltk_data]     /Users/andrewnachtigal/nltk_data...\n",
      "[nltk_data]   Package punkt is already up-to-date!\n",
      "[nltk_data] Downloading package wordnet to\n",
      "[nltk_data]     /Users/andrewnachtigal/nltk_data...\n",
      "[nltk_data]   Package wordnet is already up-to-date!\n",
      "[nltk_data] Downloading package averaged_perceptron_tagger to\n",
      "[nltk_data]     /Users/andrewnachtigal/nltk_data...\n",
      "[nltk_data]   Package averaged_perceptron_tagger is already up-to-\n",
      "[nltk_data]       date!\n"
     ]
    },
    {
     "data": {
      "text/plain": [
       "True"
      ]
     },
     "execution_count": 1,
     "metadata": {},
     "output_type": "execute_result"
    }
   ],
   "source": [
    "import nltk\n",
    "nltk.download(['punkt', 'wordnet', 'averaged_perceptron_tagger'])\n"
   ]
  },
  {
   "cell_type": "code",
   "execution_count": 3,
   "metadata": {},
   "outputs": [],
   "source": [
    "# import libraries\n",
    "import re\n",
    "import numpy as np\n",
    "import pandas as pd\n",
    "\n",
    "from sqlalchemy import create_engine\n",
    "from sklearn.metrics import confusion_matrix\n",
    "from sklearn.model_selection import GridSearchCV\n",
    "from sklearn.ensemble import RandomForestClassifier, GradientBoostingClassifier, AdaBoostClassifier\n",
    "from sklearn.model_selection import train_test_split\n",
    "from sklearn.pipeline import Pipeline, FeatureUnion\n",
    "from sklearn.base import BaseEstimator, TransformerMixin\n",
    "from sklearn.feature_extraction.text import CountVectorizer, TfidfTransformer\n",
    "from sklearn.metrics import classification_report\n",
    "from sklearn.multioutput import MultiOutputClassifier\n"
   ]
  },
  {
   "cell_type": "code",
   "execution_count": 4,
   "metadata": {},
   "outputs": [],
   "source": [
    "# load data from database\n",
    "database_filepath = \"../data/disaster_response.db\"\n",
    "engine = create_engine('sqlite:///' + database_filepath)\n",
    "df = pd.read_sql_table('message_table', engine)\n"
   ]
  },
  {
   "cell_type": "code",
   "execution_count": 5,
   "metadata": {},
   "outputs": [],
   "source": [
    "# drop child alone - has all zeros\n",
    "df = df.drop(['child_alone'],axis=1)\n"
   ]
  },
  {
   "cell_type": "code",
   "execution_count": 8,
   "metadata": {},
   "outputs": [],
   "source": [
    "# Extract X and y variables from the data for modelling\n",
    "X = df['message']\n",
    "y = df.iloc[:,4:]\n"
   ]
  },
  {
   "cell_type": "code",
   "execution_count": 26,
   "metadata": {},
   "outputs": [
    {
     "data": {
      "text/plain": [
       "['related',\n",
       " 'request',\n",
       " 'offer',\n",
       " 'aid_related',\n",
       " 'medical_help',\n",
       " 'medical_products',\n",
       " 'search_and_rescue',\n",
       " 'security',\n",
       " 'military',\n",
       " 'water',\n",
       " 'food',\n",
       " 'shelter',\n",
       " 'clothing',\n",
       " 'money',\n",
       " 'missing_people',\n",
       " 'refugees',\n",
       " 'death',\n",
       " 'other_aid',\n",
       " 'infrastructure_related',\n",
       " 'transport',\n",
       " 'buildings',\n",
       " 'electricity',\n",
       " 'tools',\n",
       " 'hospitals',\n",
       " 'shops',\n",
       " 'aid_centers',\n",
       " 'other_infrastructure',\n",
       " 'weather_related',\n",
       " 'floods',\n",
       " 'storm',\n",
       " 'fire',\n",
       " 'earthquake',\n",
       " 'cold',\n",
       " 'other_weather',\n",
       " 'direct_report']"
      ]
     },
     "execution_count": 26,
     "metadata": {},
     "output_type": "execute_result"
    }
   ],
   "source": [
    "# category names\n",
    "category_names = list(y.columns.values)\n",
    "category_names\n"
   ]
  },
  {
   "cell_type": "code",
   "execution_count": null,
   "metadata": {},
   "outputs": [],
   "source": [
    "# message data visualization\n",
    "\n"
   ]
  },
  {
   "cell_type": "markdown",
   "metadata": {},
   "source": [
    "### 2. Write a tokenization function to process your text data"
   ]
  },
  {
   "cell_type": "code",
   "execution_count": 9,
   "metadata": {},
   "outputs": [],
   "source": [
    "def tokenize(text):\n",
    "    \"\"\"Tokenize the text function\n",
    "    \n",
    "    Args:\n",
    "        text: Text message which needs to be tokenized\n",
    "    Returns:\n",
    "        clean_tokens: List of tokens extracted from the provided text\n",
    "    \"\"\"\n",
    "    \n",
    "    # Replace urls with urlplaceholder string\n",
    "    url_regex = 'http[s]?://(?:[a-zA-Z]|[0-9]|[$-_@.&+]|[!*\\(\\),]|(?:%[0-9a-fA-F][0-9a-fA-F]))+'\n",
    "    \n",
    "    # Extract urls from text & replace url with url placeholder string\n",
    "    detected_urls = re.findall(url_regex, text)\n",
    "    for url in detected_urls:\n",
    "        text = text.replace(url, \"urlplaceholder\")\n",
    "\n",
    "    # Extract word tokens from text\n",
    "    tokens = nltk.word_tokenize(text)\n",
    "    \n",
    "    # Lemmanitizer to reduce inflectional forms and derivationally related forms of words.\n",
    "    lemmatizer = nltk.WordNetLemmatizer()\n",
    "\n",
    "    # List clean tokens\n",
    "    #clean_tokens = []\n",
    "    #for tok in tokens:\n",
    "    #    clean_tok = lemmatizer.lemmatize(tok).lower().strip()\n",
    "    #    clean_tokens.append(clean_tok)\n",
    "    \n",
    "    clean_tokens = [lemmatizer.lemmatize(w).lower().strip() for w in tokens]\n",
    "    \n",
    "    return clean_tokens\n"
   ]
  },
  {
   "cell_type": "code",
   "execution_count": 10,
   "metadata": {},
   "outputs": [],
   "source": [
    "# from example\n",
    "class StartingVerbExtractor(BaseEstimator, TransformerMixin):\n",
    "\n",
    "    def starting_verb(self, text):\n",
    "        sentence_list = nltk.sent_tokenize(text)\n",
    "        for sentence in sentence_list:\n",
    "            pos_tags = nltk.pos_tag(tokenize(sentence))\n",
    "            first_word, first_tag = pos_tags[0]\n",
    "            if first_tag in ['VB', 'VBP'] or first_word == 'RT':\n",
    "                return True\n",
    "        return False\n",
    "\n",
    "    def fit(self, x, y=None):\n",
    "        return self\n",
    "\n",
    "    def transform(self, X):\n",
    "        X_tagged = pd.Series(X).apply(self.starting_verb)\n",
    "        return pd.DataFrame(X_tagged)\n"
   ]
  },
  {
   "cell_type": "markdown",
   "metadata": {},
   "source": [
    "### 3. Build a machine learning pipeline\n",
    "This machine pipeline should take in the `message` column as input and output classification results on the other 36 categories in the dataset. You may find the [MultiOutputClassifier](http://scikit-learn.org/stable/modules/generated/sklearn.multioutput.MultiOutputClassifier.html) helpful for predicting multiple target variables."
   ]
  },
  {
   "cell_type": "code",
   "execution_count": 11,
   "metadata": {},
   "outputs": [],
   "source": [
    "# from github\n",
    "pipeline = Pipeline([\n",
    "        ('features', FeatureUnion([\n",
    "\n",
    "            ('text_pipeline', Pipeline([\n",
    "                ('count_vectorizer', CountVectorizer(tokenizer=tokenize)),\n",
    "                ('tfidf_transformer', TfidfTransformer())\n",
    "            ]))\n",
    "            \n",
    "        ])),\n",
    "\n",
    "        ('classifier', MultiOutputClassifier(AdaBoostClassifier()))\n",
    "    ])"
   ]
  },
  {
   "cell_type": "code",
   "execution_count": 12,
   "metadata": {},
   "outputs": [
    {
     "data": {
      "text/plain": [
       "['classifier',\n",
       " 'classifier__estimator',\n",
       " 'classifier__estimator__algorithm',\n",
       " 'classifier__estimator__base_estimator',\n",
       " 'classifier__estimator__learning_rate',\n",
       " 'classifier__estimator__n_estimators',\n",
       " 'classifier__estimator__random_state',\n",
       " 'classifier__n_jobs',\n",
       " 'features',\n",
       " 'features__n_jobs',\n",
       " 'features__text_pipeline',\n",
       " 'features__text_pipeline__count_vectorizer',\n",
       " 'features__text_pipeline__count_vectorizer__analyzer',\n",
       " 'features__text_pipeline__count_vectorizer__binary',\n",
       " 'features__text_pipeline__count_vectorizer__decode_error',\n",
       " 'features__text_pipeline__count_vectorizer__dtype',\n",
       " 'features__text_pipeline__count_vectorizer__encoding',\n",
       " 'features__text_pipeline__count_vectorizer__input',\n",
       " 'features__text_pipeline__count_vectorizer__lowercase',\n",
       " 'features__text_pipeline__count_vectorizer__max_df',\n",
       " 'features__text_pipeline__count_vectorizer__max_features',\n",
       " 'features__text_pipeline__count_vectorizer__min_df',\n",
       " 'features__text_pipeline__count_vectorizer__ngram_range',\n",
       " 'features__text_pipeline__count_vectorizer__preprocessor',\n",
       " 'features__text_pipeline__count_vectorizer__stop_words',\n",
       " 'features__text_pipeline__count_vectorizer__strip_accents',\n",
       " 'features__text_pipeline__count_vectorizer__token_pattern',\n",
       " 'features__text_pipeline__count_vectorizer__tokenizer',\n",
       " 'features__text_pipeline__count_vectorizer__vocabulary',\n",
       " 'features__text_pipeline__memory',\n",
       " 'features__text_pipeline__steps',\n",
       " 'features__text_pipeline__tfidf_transformer',\n",
       " 'features__text_pipeline__tfidf_transformer__norm',\n",
       " 'features__text_pipeline__tfidf_transformer__smooth_idf',\n",
       " 'features__text_pipeline__tfidf_transformer__sublinear_tf',\n",
       " 'features__text_pipeline__tfidf_transformer__use_idf',\n",
       " 'features__text_pipeline__verbose',\n",
       " 'features__transformer_list',\n",
       " 'features__transformer_weights',\n",
       " 'features__verbose',\n",
       " 'memory',\n",
       " 'steps',\n",
       " 'verbose']"
      ]
     },
     "execution_count": 12,
     "metadata": {},
     "output_type": "execute_result"
    }
   ],
   "source": [
    "# generate all parameters for pipeline\n",
    "sorted(pipeline.get_params().keys())\n"
   ]
  },
  {
   "cell_type": "markdown",
   "metadata": {},
   "source": [
    "### 4. Train pipeline\n",
    "- Split data into train and test sets\n",
    "- Train pipeline"
   ]
  },
  {
   "cell_type": "code",
   "execution_count": 13,
   "metadata": {},
   "outputs": [],
   "source": [
    "# pipeline - from example\n",
    "X_train, X_test, y_train, y_test = train_test_split(X, y)\n",
    "pipeline_fitted = pipeline.fit(X_train, y_train)\n"
   ]
  },
  {
   "cell_type": "markdown",
   "metadata": {},
   "source": [
    "### 5. Test your model\n",
    "Report the f1 score, precision and recall for each output category of the dataset. You can do this by iterating through the columns and calling sklearn's `classification_report` on each."
   ]
  },
  {
   "cell_type": "code",
   "execution_count": 14,
   "metadata": {},
   "outputs": [
    {
     "name": "stdout",
     "output_type": "stream",
     "text": [
      "                        precision    recall  f1-score   support\n",
      "\n",
      "               related       0.82      0.94      0.88      4987\n",
      "               request       0.76      0.55      0.64      1123\n",
      "                 offer       0.00      0.00      0.00        29\n",
      "           aid_related       0.77      0.61      0.68      2706\n",
      "          medical_help       0.65      0.26      0.37       551\n",
      "      medical_products       0.61      0.30      0.41       338\n",
      "     search_and_rescue       0.46      0.14      0.21       164\n",
      "              security       0.17      0.03      0.05       100\n",
      "              military       0.54      0.25      0.35       209\n",
      "                 water       0.75      0.64      0.69       408\n",
      "                  food       0.81      0.68      0.74       733\n",
      "               shelter       0.77      0.54      0.64       593\n",
      "              clothing       0.70      0.43      0.54       104\n",
      "                 money       0.58      0.25      0.35       156\n",
      "        missing_people       0.44      0.15      0.23        71\n",
      "              refugees       0.57      0.27      0.36       221\n",
      "                 death       0.70      0.52      0.59       287\n",
      "             other_aid       0.44      0.14      0.21       848\n",
      "infrastructure_related       0.41      0.09      0.15       421\n",
      "             transport       0.58      0.22      0.32       312\n",
      "             buildings       0.65      0.41      0.50       328\n",
      "           electricity       0.39      0.22      0.28       130\n",
      "                 tools       0.00      0.00      0.00        35\n",
      "             hospitals       0.28      0.12      0.16        60\n",
      "                 shops       0.00      0.00      0.00        24\n",
      "           aid_centers       0.38      0.07      0.12        80\n",
      "  other_infrastructure       0.41      0.11      0.17       292\n",
      "       weather_related       0.82      0.63      0.72      1763\n",
      "                floods       0.86      0.52      0.65       547\n",
      "                 storm       0.75      0.50      0.60       595\n",
      "                  fire       0.62      0.24      0.34        63\n",
      "            earthquake       0.86      0.74      0.79       583\n",
      "                  cold       0.65      0.35      0.46       130\n",
      "         other_weather       0.48      0.15      0.23       341\n",
      "         direct_report       0.71      0.48      0.57      1273\n",
      "\n",
      "             micro avg       0.76      0.58      0.66     20605\n",
      "             macro avg       0.55      0.33      0.40     20605\n",
      "          weighted avg       0.72      0.58      0.63     20605\n",
      "           samples avg       0.63      0.50      0.51     20605\n",
      "\n"
     ]
    },
    {
     "name": "stderr",
     "output_type": "stream",
     "text": [
      "/Users/andrewnachtigal/opt/anaconda3/lib/python3.9/site-packages/sklearn/metrics/_classification.py:1248: UndefinedMetricWarning: Precision and F-score are ill-defined and being set to 0.0 in samples with no predicted labels. Use `zero_division` parameter to control this behavior.\n",
      "  _warn_prf(average, modifier, msg_start, len(result))\n",
      "/Users/andrewnachtigal/opt/anaconda3/lib/python3.9/site-packages/sklearn/metrics/_classification.py:1248: UndefinedMetricWarning: Recall and F-score are ill-defined and being set to 0.0 in samples with no true labels. Use `zero_division` parameter to control this behavior.\n",
      "  _warn_prf(average, modifier, msg_start, len(result))\n"
     ]
    }
   ],
   "source": [
    "# initial model\n",
    "y_prediction_train = pipeline_fitted.predict(X_train)\n",
    "y_prediction_test = pipeline_fitted.predict(X_test)\n",
    "\n",
    "# test data classification report\n",
    "print(classification_report(y_test.values, y_prediction_test, target_names = y.columns.values))\n"
   ]
  },
  {
   "cell_type": "code",
   "execution_count": 15,
   "metadata": {},
   "outputs": [
    {
     "name": "stdout",
     "output_type": "stream",
     "text": [
      "\n",
      "                         precision    recall  f1-score   support\n",
      "\n",
      "               related       0.83      0.95      0.88     15107\n",
      "               request       0.79      0.55      0.65      3351\n",
      "                 offer       0.29      0.09      0.14        89\n",
      "           aid_related       0.77      0.60      0.68      8154\n",
      "          medical_help       0.66      0.29      0.40      1533\n",
      "      medical_products       0.71      0.38      0.49       975\n",
      "     search_and_rescue       0.67      0.24      0.35       560\n",
      "              security       0.45      0.08      0.14       371\n",
      "              military       0.68      0.37      0.48       651\n",
      "                 water       0.77      0.67      0.72      1264\n",
      "                  food       0.82      0.69      0.75      2190\n",
      "               shelter       0.79      0.54      0.64      1721\n",
      "              clothing       0.76      0.47      0.58       301\n",
      "                 money       0.64      0.32      0.43       448\n",
      "        missing_people       0.74      0.21      0.33       227\n",
      "              refugees       0.67      0.28      0.39       654\n",
      "                 death       0.79      0.51      0.62       907\n",
      "             other_aid       0.58      0.17      0.26      2598\n",
      "infrastructure_related       0.56      0.11      0.19      1284\n",
      "             transport       0.67      0.28      0.39       889\n",
      "             buildings       0.71      0.42      0.53      1005\n",
      "           electricity       0.69      0.34      0.45       402\n",
      "                 tools       0.50      0.10      0.16       124\n",
      "             hospitals       0.46      0.14      0.21       223\n",
      "                 shops       0.35      0.06      0.11        96\n",
      "           aid_centers       0.55      0.10      0.18       229\n",
      "  other_infrastructure       0.49      0.10      0.17       859\n",
      "       weather_related       0.87      0.67      0.76      5534\n",
      "                floods       0.88      0.56      0.68      1608\n",
      "                 storm       0.80      0.53      0.64      1848\n",
      "                  fire       0.73      0.25      0.37       219\n",
      "            earthquake       0.91      0.80      0.85      1872\n",
      "                  cold       0.76      0.34      0.48       400\n",
      "         other_weather       0.55      0.16      0.25      1035\n",
      "         direct_report       0.75      0.50      0.60      3802\n",
      "\n",
      "             micro avg       0.79      0.60      0.68     62530\n",
      "             macro avg       0.67      0.37      0.46     62530\n",
      "          weighted avg       0.77      0.60      0.65     62530\n",
      "           samples avg       0.66      0.52      0.54     62530\n",
      "\n"
     ]
    },
    {
     "name": "stderr",
     "output_type": "stream",
     "text": [
      "/Users/andrewnachtigal/opt/anaconda3/lib/python3.9/site-packages/sklearn/metrics/_classification.py:1248: UndefinedMetricWarning: Precision and F-score are ill-defined and being set to 0.0 in samples with no predicted labels. Use `zero_division` parameter to control this behavior.\n",
      "  _warn_prf(average, modifier, msg_start, len(result))\n",
      "/Users/andrewnachtigal/opt/anaconda3/lib/python3.9/site-packages/sklearn/metrics/_classification.py:1248: UndefinedMetricWarning: Recall and F-score are ill-defined and being set to 0.0 in samples with no true labels. Use `zero_division` parameter to control this behavior.\n",
      "  _warn_prf(average, modifier, msg_start, len(result))\n"
     ]
    }
   ],
   "source": [
    "# training data classification report\n",
    "print('\\n',classification_report(y_train.values, y_prediction_train, target_names=y.columns.values))\n"
   ]
  },
  {
   "cell_type": "markdown",
   "metadata": {},
   "source": [
    "### 6. Improve your model\n",
    "Use grid search to find better parameters. "
   ]
  },
  {
   "cell_type": "code",
   "execution_count": 18,
   "metadata": {},
   "outputs": [],
   "source": [
    "# grid search parameters\n",
    "parameters = {\n",
    "        'classifier__estimator__learning_rate': [0.01, 0.02, 0.05],\n",
    "        'classifier__estimator__n_estimators': [10, 20, 40]\n",
    "    }\n",
    "\n",
    "cv = GridSearchCV(pipeline, param_grid = parameters)\n",
    "    "
   ]
  },
  {
   "cell_type": "code",
   "execution_count": 19,
   "metadata": {},
   "outputs": [
    {
     "data": {
      "text/plain": [
       "GridSearchCV(estimator=Pipeline(steps=[('features',\n",
       "                                        FeatureUnion(transformer_list=[('text_pipeline',\n",
       "                                                                        Pipeline(steps=[('count_vectorizer',\n",
       "                                                                                         CountVectorizer(tokenizer=<function tokenize at 0x7fe504776a60>)),\n",
       "                                                                                        ('tfidf_transformer',\n",
       "                                                                                         TfidfTransformer())]))])),\n",
       "                                       ('classifier',\n",
       "                                        MultiOutputClassifier(estimator=AdaBoostClassifier()))]),\n",
       "             param_grid={'classifier__estimator__learning_rate': [0.01, 0.02,\n",
       "                                                                  0.05],\n",
       "                         'classifier__estimator__n_estimators': [10, 20, 40]})"
      ]
     },
     "execution_count": 19,
     "metadata": {},
     "output_type": "execute_result"
    }
   ],
   "source": [
    "# grid search cross validation\n",
    "cv.fit(X_train, y_train)\n"
   ]
  },
  {
   "cell_type": "code",
   "execution_count": 20,
   "metadata": {},
   "outputs": [],
   "source": [
    "# grid search cross validator prediction values\n",
    "y_prediction_test = cv.predict(X_test)\n",
    "y_prediction_train = cv.predict(X_train)\n"
   ]
  },
  {
   "cell_type": "markdown",
   "metadata": {},
   "source": [
    "### 7. Test your model\n",
    "Show the accuracy, precision, and recall of the tuned model.  \n",
    "\n",
    "Since this project focuses on code quality, process, and  pipelines, there is no minimum performance metric needed to pass. However, make sure to fine tune your models for accuracy, precision and recall to make your project stand out - especially for your portfolio!"
   ]
  },
  {
   "cell_type": "code",
   "execution_count": 21,
   "metadata": {},
   "outputs": [
    {
     "name": "stdout",
     "output_type": "stream",
     "text": [
      "                        precision    recall  f1-score   support\n",
      "\n",
      "               related       0.76      1.00      0.86      4987\n",
      "               request       0.89      0.22      0.35      1123\n",
      "                 offer       0.00      0.00      0.00        29\n",
      "           aid_related       0.80      0.26      0.39      2706\n",
      "          medical_help       0.88      0.01      0.03       551\n",
      "      medical_products       1.00      0.01      0.01       338\n",
      "     search_and_rescue       1.00      0.01      0.01       164\n",
      "              security       0.00      0.00      0.00       100\n",
      "              military       0.00      0.00      0.00       209\n",
      "                 water       0.61      0.74      0.67       408\n",
      "                  food       0.78      0.67      0.72       733\n",
      "               shelter       0.84      0.30      0.44       593\n",
      "              clothing       1.00      0.01      0.02       104\n",
      "                 money       0.00      0.00      0.00       156\n",
      "        missing_people       0.00      0.00      0.00        71\n",
      "              refugees       0.67      0.01      0.02       221\n",
      "                 death       0.75      0.02      0.04       287\n",
      "             other_aid       0.00      0.00      0.00       848\n",
      "infrastructure_related       0.00      0.00      0.00       421\n",
      "             transport       0.81      0.08      0.15       312\n",
      "             buildings       0.67      0.01      0.01       328\n",
      "           electricity       0.67      0.03      0.06       130\n",
      "                 tools       0.00      0.00      0.00        35\n",
      "             hospitals       0.00      0.00      0.00        60\n",
      "                 shops       0.00      0.00      0.00        24\n",
      "           aid_centers       0.00      0.00      0.00        80\n",
      "  other_infrastructure       0.00      0.00      0.00       292\n",
      "       weather_related       0.89      0.31      0.47      1763\n",
      "                floods       0.91      0.34      0.49       547\n",
      "                 storm       0.82      0.05      0.10       595\n",
      "                  fire       1.00      0.02      0.03        63\n",
      "            earthquake       0.85      0.61      0.71       583\n",
      "                  cold       0.54      0.05      0.10       130\n",
      "         other_weather       0.00      0.00      0.00       341\n",
      "         direct_report       0.82      0.21      0.33      1273\n",
      "\n",
      "             micro avg       0.78      0.40      0.53     20605\n",
      "             macro avg       0.51      0.14      0.17     20605\n",
      "          weighted avg       0.70      0.40      0.43     20605\n",
      "           samples avg       0.73      0.42      0.48     20605\n",
      "\n"
     ]
    },
    {
     "name": "stderr",
     "output_type": "stream",
     "text": [
      "/Users/andrewnachtigal/opt/anaconda3/lib/python3.9/site-packages/sklearn/metrics/_classification.py:1248: UndefinedMetricWarning: Precision and F-score are ill-defined and being set to 0.0 in labels with no predicted samples. Use `zero_division` parameter to control this behavior.\n",
      "  _warn_prf(average, modifier, msg_start, len(result))\n",
      "/Users/andrewnachtigal/opt/anaconda3/lib/python3.9/site-packages/sklearn/metrics/_classification.py:1248: UndefinedMetricWarning: Recall and F-score are ill-defined and being set to 0.0 in samples with no true labels. Use `zero_division` parameter to control this behavior.\n",
      "  _warn_prf(average, modifier, msg_start, len(result))\n"
     ]
    }
   ],
   "source": [
    "# test data classification report\n",
    "print(classification_report(y_test.values, y_prediction_test, target_names = y.columns.values))\n"
   ]
  },
  {
   "cell_type": "code",
   "execution_count": 22,
   "metadata": {},
   "outputs": [
    {
     "name": "stdout",
     "output_type": "stream",
     "text": [
      "\n",
      "                         precision    recall  f1-score   support\n",
      "\n",
      "               related       0.77      1.00      0.87     15107\n",
      "               request       0.89      0.22      0.35      3351\n",
      "                 offer       0.00      0.00      0.00        89\n",
      "           aid_related       0.80      0.26      0.39      8154\n",
      "          medical_help       0.70      0.01      0.02      1533\n",
      "      medical_products       0.60      0.00      0.01       975\n",
      "     search_and_rescue       0.82      0.02      0.03       560\n",
      "              security       0.00      0.00      0.00       371\n",
      "              military       0.00      0.00      0.00       651\n",
      "                 water       0.66      0.74      0.69      1264\n",
      "                  food       0.77      0.68      0.72      2190\n",
      "               shelter       0.84      0.31      0.45      1721\n",
      "              clothing       0.50      0.00      0.01       301\n",
      "                 money       1.00      0.00      0.01       448\n",
      "        missing_people       1.00      0.02      0.03       227\n",
      "              refugees       0.79      0.02      0.03       654\n",
      "                 death       0.90      0.02      0.04       907\n",
      "             other_aid       0.80      0.00      0.01      2598\n",
      "infrastructure_related       0.00      0.00      0.00      1284\n",
      "             transport       0.76      0.06      0.10       889\n",
      "             buildings       0.88      0.01      0.01      1005\n",
      "           electricity       0.70      0.05      0.10       402\n",
      "                 tools       0.00      0.00      0.00       124\n",
      "             hospitals       0.00      0.00      0.00       223\n",
      "                 shops       0.00      0.00      0.00        96\n",
      "           aid_centers       0.00      0.00      0.00       229\n",
      "  other_infrastructure       0.00      0.00      0.00       859\n",
      "       weather_related       0.93      0.32      0.48      5534\n",
      "                floods       0.92      0.33      0.49      1608\n",
      "                 storm       0.86      0.04      0.07      1848\n",
      "                  fire       1.00      0.01      0.02       219\n",
      "            earthquake       0.91      0.65      0.76      1872\n",
      "                  cold       0.77      0.05      0.09       400\n",
      "         other_weather       1.00      0.00      0.00      1035\n",
      "         direct_report       0.83      0.21      0.34      3802\n",
      "\n",
      "             micro avg       0.79      0.41      0.54     62530\n",
      "             macro avg       0.61      0.14      0.18     62530\n",
      "          weighted avg       0.77      0.41      0.44     62530\n",
      "           samples avg       0.74      0.43      0.49     62530\n",
      "\n"
     ]
    },
    {
     "name": "stderr",
     "output_type": "stream",
     "text": [
      "/Users/andrewnachtigal/opt/anaconda3/lib/python3.9/site-packages/sklearn/metrics/_classification.py:1248: UndefinedMetricWarning: Precision and F-score are ill-defined and being set to 0.0 in labels with no predicted samples. Use `zero_division` parameter to control this behavior.\n",
      "  _warn_prf(average, modifier, msg_start, len(result))\n",
      "/Users/andrewnachtigal/opt/anaconda3/lib/python3.9/site-packages/sklearn/metrics/_classification.py:1248: UndefinedMetricWarning: Recall and F-score are ill-defined and being set to 0.0 in samples with no true labels. Use `zero_division` parameter to control this behavior.\n",
      "  _warn_prf(average, modifier, msg_start, len(result))\n"
     ]
    }
   ],
   "source": [
    "# training data classification report\n",
    "print('\\n',classification_report(y_train.values, y_prediction_train, target_names = y.columns.values))\n"
   ]
  },
  {
   "cell_type": "markdown",
   "metadata": {},
   "source": [
    "### 8. Try improving your model further. Here are a few ideas:\n",
    "* try other machine learning algorithms\n",
    "* add other features besides the TF-IDF"
   ]
  },
  {
   "cell_type": "raw",
   "metadata": {},
   "source": [
    "# Use other pipeline ...\n",
    "X_train, X_test, y_train, y_test = train_test_split(X, y)\n",
    "pipeline_fitted = pipeline2.fit(X_train, y_train)\n",
    "\n",
    "y_prediction_train = pipeline_fitted.predict(X_train)\n",
    "y_prediction_test = pipeline_fitted.predict(X_test)\n",
    "\n",
    "# Print classification report on test data\n",
    "print(classification_report(y_test.values, y_prediction_test, target_names = y.columns.values))\n"
   ]
  },
  {
   "cell_type": "raw",
   "metadata": {},
   "source": [
    "# Print classification report on training data\n",
    "print('\\n',classification_report(y_train.values, y_prediction_train, target_names = y.columns.values))\n"
   ]
  },
  {
   "cell_type": "markdown",
   "metadata": {},
   "source": [
    "### 9. Export your model as a pickle file"
   ]
  },
  {
   "cell_type": "code",
   "execution_count": 23,
   "metadata": {},
   "outputs": [],
   "source": [
    "import pickle\n"
   ]
  },
  {
   "cell_type": "code",
   "execution_count": 24,
   "metadata": {},
   "outputs": [],
   "source": [
    "# create iterator object \n",
    "with open('classifier_0.pkl', 'wb') as f:\n",
    "    pickle.dump(cv, f)\n"
   ]
  },
  {
   "cell_type": "markdown",
   "metadata": {},
   "source": [
    "### 10. Use this notebook to complete `train.py`\n",
    "Use the template file attached in the Resources folder to write a script that runs the steps above to create a database and export a model based on a new dataset specified by the user."
   ]
  },
  {
   "cell_type": "code",
   "execution_count": null,
   "metadata": {},
   "outputs": [],
   "source": []
  }
 ],
 "metadata": {
  "kernelspec": {
   "display_name": "Python 3 (ipykernel)",
   "language": "python",
   "name": "python3"
  },
  "language_info": {
   "codemirror_mode": {
    "name": "ipython",
    "version": 3
   },
   "file_extension": ".py",
   "mimetype": "text/x-python",
   "name": "python",
   "nbconvert_exporter": "python",
   "pygments_lexer": "ipython3",
   "version": "3.9.7"
  }
 },
 "nbformat": 4,
 "nbformat_minor": 2
}
